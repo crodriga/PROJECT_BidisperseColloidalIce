{
 "cells": [
  {
   "cell_type": "code",
   "execution_count": 1,
   "metadata": {},
   "outputs": [],
   "source": [
    "import os\n",
    "import fnmatch\n",
    "from os.path import isfile, join\n",
    "\n",
    "import pandas as pd\n",
    "import numpy as np\n",
    "import scipy.integrate as integrate\n",
    "import matplotlib.pyplot as plt\n",
    "import matplotlib as mpl"
   ]
  },
  {
   "cell_type": "code",
   "execution_count": 2,
   "metadata": {},
   "outputs": [],
   "source": [
    "mpl.rc('text', usetex=False)\n",
    "mpl.rcParams['figure.dpi'] = 100\n",
    "\n",
    "mpl.rcParams['font.family'] = 'serif'"
   ]
  },
  {
   "cell_type": "markdown",
   "metadata": {},
   "source": [
    "# Integrating areas\n",
    "\n",
    "In this notebook, I will integrate the area under the type 3 vertex population curve for the rising window and the decreasing one, then I will perform the substraction of both. I will perform this process for all the mT/s rates computed and all the runs. So, the objective of this notebook is to have A_{rising}-A_{decresing} vs increasing(decreasing) mT/s rate."
   ]
  },
  {
   "cell_type": "markdown",
   "metadata": {},
   "source": [
    "### 1. Importing the data\n",
    "\n",
    "First, I will import the dataframes of the vertex fraction for all the rates values. In order to build a unique dataframe. "
   ]
  },
  {
   "cell_type": "code",
   "execution_count": 3,
   "metadata": {},
   "outputs": [],
   "source": [
    "Data_path = \"/home/carolina/Dropbox/BidisperseColloidalIce_PROJECT/data_Chi_vs_rate\""
   ]
  },
  {
   "cell_type": "code",
   "execution_count": 4,
   "metadata": {},
   "outputs": [
    {
     "name": "stdout",
     "output_type": "stream",
     "text": [
      "Bajada_sep2900.dat\n",
      "Bajada_sep4000.dat\n",
      "Bajada_sep2000.dat\n",
      "Bajada_sep8169.dat\n",
      "Bajada_sep220.dat\n",
      "Bajada_sep250.dat\n",
      "Bajada_sep500.dat\n",
      "Bajada_sep3362.dat\n",
      "Bajada_sep280.dat\n",
      "Bajada_sep5800.dat\n",
      "Bajada_sep10265.dat\n",
      "Bajada_sep330.dat\n",
      "Bajada_sep20000.dat\n",
      "Bajada_sep400.dat\n",
      "Bajada_sep200.dat\n",
      "Bajada_sep650.dat\n",
      "Bajada_sep970.dat\n"
     ]
    }
   ],
   "source": [
    "inc = []\n",
    "dec = []\n",
    "\n",
    "for file in os.listdir(Data_path):\n",
    "    if fnmatch.fnmatch(file, 'Bajada_sep*.dat'):\n",
    "        print(file)\n",
    "        dec.append(pd.read_csv(join(Data_path,file), sep = \"\\t\", index_col = [0,1])) \n",
    "    if fnmatch.fnmatch(file, 'Subida_sep*.dat'):\n",
    "        #print(file)\n",
    "        inc.append(pd.read_csv(join(Data_path,file), sep = \"\\t\", index_col = [0,1])) \n",
    "field_max = 200\n",
    "keys_d = [2900,4000,2000,8169,220,250,500,3362,280,5800,10265,330,20000,400,200,650,970]\n",
    "keys_s = [500,10265,650,20000,4000,2900,250,200,280,970,8169,5800,220,3362,330,400,2000]"
   ]
  },
  {
   "cell_type": "code",
   "execution_count": 5,
   "metadata": {},
   "outputs": [
    {
     "data": {
      "text/plain": [
       "17"
      ]
     },
     "execution_count": 5,
     "metadata": {},
     "output_type": "execute_result"
    }
   ],
   "source": [
    "len(keys_d)"
   ]
  },
  {
   "cell_type": "code",
   "execution_count": 6,
   "metadata": {},
   "outputs": [],
   "source": [
    "keys_d[:] = [round(field_max/x,6) for x in keys_d]\n",
    "keys_s[:] = [round(field_max/x,6) for x in keys_s]"
   ]
  },
  {
   "cell_type": "code",
   "execution_count": 7,
   "metadata": {},
   "outputs": [],
   "source": [
    "inc = pd.concat(inc, keys = keys_s)\n",
    "dec = pd.concat(dec, keys = keys_d)"
   ]
  },
  {
   "cell_type": "code",
   "execution_count": 8,
   "metadata": {},
   "outputs": [],
   "source": [
    "dec.index.names = ['rate', 'exp', 'frame']\n",
    "inc.index.names = ['rate', 'exp', 'frame']"
   ]
  },
  {
   "cell_type": "code",
   "execution_count": 9,
   "metadata": {},
   "outputs": [
    {
     "data": {
      "text/plain": [
       "Float64Index([     0.4, 0.019484, 0.307692,     0.01,     0.05, 0.068966,\n",
       "                   0.8,      1.0, 0.714286, 0.206186, 0.024483, 0.034483,\n",
       "              0.909091, 0.059488, 0.606061,      0.5,      0.1],\n",
       "             dtype='float64', name='rate')"
      ]
     },
     "execution_count": 9,
     "metadata": {},
     "output_type": "execute_result"
    }
   ],
   "source": [
    "inc.index.get_level_values(0).unique()"
   ]
  },
  {
   "cell_type": "code",
   "execution_count": 10,
   "metadata": {},
   "outputs": [
    {
     "data": {
      "text/plain": [
       "Int64Index([0, 1, 2, 3, 4, 5, 6, 7, 8, 9, 10], dtype='int64', name='exp')"
      ]
     },
     "execution_count": 10,
     "metadata": {},
     "output_type": "execute_result"
    }
   ],
   "source": [
    "inc.index.get_level_values(1).unique()"
   ]
  },
  {
   "cell_type": "code",
   "execution_count": 11,
   "metadata": {},
   "outputs": [
    {
     "data": {
      "text/plain": [
       "Int64Index([   0,    1,    2,    3,    4,    5,    6,    7,    8,    9,\n",
       "            ...\n",
       "            1322, 1323, 1324, 1325, 1326, 1327, 1328, 1329, 1330, 1331],\n",
       "           dtype='int64', name='frame', length=1332)"
      ]
     },
     "execution_count": 11,
     "metadata": {},
     "output_type": "execute_result"
    }
   ],
   "source": [
    "inc.index.get_level_values(2).unique()"
   ]
  },
  {
   "cell_type": "markdown",
   "metadata": {},
   "source": [
    "### 2. Computing the area under the type 3 population curves\n",
    "\n",
    "Now, I will compute the area under the type 3 population curves for all the experiments and rates values. I will use the trapezoidal method. "
   ]
  },
  {
   "cell_type": "code",
   "execution_count": 12,
   "metadata": {},
   "outputs": [],
   "source": [
    "def trpz_integral(dataframe):\n",
    "    \n",
    "    \"\"\" \n",
    "    input: dataframe with the vertex fraction information of each experiment and rate\n",
    "    output: dataframe with the integrated area under the data for each rate and experiment\n",
    "    \"\"\"\n",
    "    \n",
    "    int_res = []\n",
    "    rate = []\n",
    "    exp = []\n",
    "    df = dataframe.groupby(['rate', 'exp'])\n",
    "    \n",
    "    for i, (n,gr) in enumerate(df):\n",
    "#        int_res.append(integrate.trapz(gr['fraction'],gr.index.get_level_values('frame')))\n",
    "        int_res.append(integrate.trapz(gr['fraction'], dx = 1))\n",
    "\n",
    "        rate.append(n[0])\n",
    "        exp.append(n[1])\n",
    "        \n",
    "    d = {'area': int_res, 'rate': rate, 'exp': exp}\n",
    "\n",
    "    df = pd.DataFrame(data=d)\n",
    "    \n",
    "    df = df.set_index(['rate','exp'])\n",
    "        \n",
    "    return df"
   ]
  },
  {
   "cell_type": "code",
   "execution_count": 13,
   "metadata": {},
   "outputs": [],
   "source": [
    "def mean_and_err(dataframe):\n",
    "    \n",
    "    \"\"\"\n",
    "    Before the correction, was not divided by the number of experiments. \n",
    "    \"\"\"\n",
    "    df = dataframe.groupby('rate')['area'].mean()\n",
    "    \n",
    "    df = df.to_frame()\n",
    "    \n",
    "    df['err'] = dataframe.groupby('rate').std()/np.sqrt(dataframe.groupby('rate').count().values)\n",
    "    return df "
   ]
  },
  {
   "cell_type": "code",
   "execution_count": 14,
   "metadata": {},
   "outputs": [],
   "source": [
    "def mean_and_err(dataframe):\n",
    "    \n",
    "    \"\"\"\n",
    "    After the correction\n",
    "    \"\"\"\n",
    "    df = dataframe.groupby('rate')['area'].mean()\n",
    "    \n",
    "    df = df.to_frame()\n",
    "    df = df/dataframe.groupby(['rate']).count()\n",
    "    \n",
    "    df['err'] = dataframe.groupby('rate')['area'].std().to_frame()/np.sqrt(dataframe.groupby('rate').count())\n",
    "#    df['err'] = dataframe.groupby('rate')['area'].std().to_frame()/np.sqrt(50)\n",
    "\n",
    "    return df "
   ]
  },
  {
   "cell_type": "code",
   "execution_count": 15,
   "metadata": {},
   "outputs": [],
   "source": [
    "df_inc = trpz_integral(inc)\n",
    "df_dec = trpz_integral(dec)"
   ]
  },
  {
   "cell_type": "markdown",
   "metadata": {},
   "source": [
    "# Start trial code"
   ]
  },
  {
   "cell_type": "code",
   "execution_count": 16,
   "metadata": {},
   "outputs": [
    {
     "data": {
      "text/html": [
       "<div>\n",
       "<style scoped>\n",
       "    .dataframe tbody tr th:only-of-type {\n",
       "        vertical-align: middle;\n",
       "    }\n",
       "\n",
       "    .dataframe tbody tr th {\n",
       "        vertical-align: top;\n",
       "    }\n",
       "\n",
       "    .dataframe thead th {\n",
       "        text-align: right;\n",
       "    }\n",
       "</style>\n",
       "<table border=\"1\" class=\"dataframe\">\n",
       "  <thead>\n",
       "    <tr style=\"text-align: right;\">\n",
       "      <th></th>\n",
       "      <th>area</th>\n",
       "    </tr>\n",
       "    <tr>\n",
       "      <th>exp</th>\n",
       "      <th></th>\n",
       "    </tr>\n",
       "  </thead>\n",
       "  <tbody>\n",
       "    <tr>\n",
       "      <th>0</th>\n",
       "      <td>572.99000</td>\n",
       "    </tr>\n",
       "    <tr>\n",
       "      <th>1</th>\n",
       "      <td>594.28250</td>\n",
       "    </tr>\n",
       "    <tr>\n",
       "      <th>2</th>\n",
       "      <td>603.22000</td>\n",
       "    </tr>\n",
       "    <tr>\n",
       "      <th>3</th>\n",
       "      <td>634.90500</td>\n",
       "    </tr>\n",
       "    <tr>\n",
       "      <th>4</th>\n",
       "      <td>598.57125</td>\n",
       "    </tr>\n",
       "    <tr>\n",
       "      <th>5</th>\n",
       "      <td>590.08000</td>\n",
       "    </tr>\n",
       "    <tr>\n",
       "      <th>6</th>\n",
       "      <td>562.21000</td>\n",
       "    </tr>\n",
       "    <tr>\n",
       "      <th>7</th>\n",
       "      <td>586.36250</td>\n",
       "    </tr>\n",
       "    <tr>\n",
       "      <th>8</th>\n",
       "      <td>564.86625</td>\n",
       "    </tr>\n",
       "    <tr>\n",
       "      <th>9</th>\n",
       "      <td>566.91750</td>\n",
       "    </tr>\n",
       "  </tbody>\n",
       "</table>\n",
       "</div>"
      ],
      "text/plain": [
       "          area\n",
       "exp           \n",
       "0    572.99000\n",
       "1    594.28250\n",
       "2    603.22000\n",
       "3    634.90500\n",
       "4    598.57125\n",
       "5    590.08000\n",
       "6    562.21000\n",
       "7    586.36250\n",
       "8    564.86625\n",
       "9    566.91750"
      ]
     },
     "execution_count": 16,
     "metadata": {},
     "output_type": "execute_result"
    }
   ],
   "source": [
    "df_dec.loc[0.01]"
   ]
  },
  {
   "cell_type": "code",
   "execution_count": 17,
   "metadata": {},
   "outputs": [
    {
     "data": {
      "text/html": [
       "<div>\n",
       "<style scoped>\n",
       "    .dataframe tbody tr th:only-of-type {\n",
       "        vertical-align: middle;\n",
       "    }\n",
       "\n",
       "    .dataframe tbody tr th {\n",
       "        vertical-align: top;\n",
       "    }\n",
       "\n",
       "    .dataframe thead th {\n",
       "        text-align: right;\n",
       "    }\n",
       "</style>\n",
       "<table border=\"1\" class=\"dataframe\">\n",
       "  <thead>\n",
       "    <tr style=\"text-align: right;\">\n",
       "      <th></th>\n",
       "      <th>area</th>\n",
       "    </tr>\n",
       "    <tr>\n",
       "      <th>rate</th>\n",
       "      <th></th>\n",
       "    </tr>\n",
       "  </thead>\n",
       "  <tbody>\n",
       "    <tr>\n",
       "      <th>0.010000</th>\n",
       "      <td>22.253320</td>\n",
       "    </tr>\n",
       "    <tr>\n",
       "      <th>0.019484</th>\n",
       "      <td>11.736456</td>\n",
       "    </tr>\n",
       "    <tr>\n",
       "      <th>0.024483</th>\n",
       "      <td>6.671130</td>\n",
       "    </tr>\n",
       "    <tr>\n",
       "      <th>0.034483</th>\n",
       "      <td>6.021212</td>\n",
       "    </tr>\n",
       "    <tr>\n",
       "      <th>0.050000</th>\n",
       "      <td>4.424479</td>\n",
       "    </tr>\n",
       "    <tr>\n",
       "      <th>0.059488</th>\n",
       "      <td>2.660977</td>\n",
       "    </tr>\n",
       "    <tr>\n",
       "      <th>0.068966</th>\n",
       "      <td>2.117018</td>\n",
       "    </tr>\n",
       "    <tr>\n",
       "      <th>0.100000</th>\n",
       "      <td>1.902117</td>\n",
       "    </tr>\n",
       "    <tr>\n",
       "      <th>0.206186</th>\n",
       "      <td>0.686267</td>\n",
       "    </tr>\n",
       "    <tr>\n",
       "      <th>0.307692</th>\n",
       "      <td>0.347749</td>\n",
       "    </tr>\n",
       "    <tr>\n",
       "      <th>0.400000</th>\n",
       "      <td>0.348312</td>\n",
       "    </tr>\n",
       "    <tr>\n",
       "      <th>0.500000</th>\n",
       "      <td>0.449928</td>\n",
       "    </tr>\n",
       "    <tr>\n",
       "      <th>0.606061</th>\n",
       "      <td>0.231824</td>\n",
       "    </tr>\n",
       "    <tr>\n",
       "      <th>0.714286</th>\n",
       "      <td>0.163919</td>\n",
       "    </tr>\n",
       "    <tr>\n",
       "      <th>0.800000</th>\n",
       "      <td>0.193474</td>\n",
       "    </tr>\n",
       "    <tr>\n",
       "      <th>0.909091</th>\n",
       "      <td>0.281317</td>\n",
       "    </tr>\n",
       "    <tr>\n",
       "      <th>1.000000</th>\n",
       "      <td>0.175279</td>\n",
       "    </tr>\n",
       "  </tbody>\n",
       "</table>\n",
       "</div>"
      ],
      "text/plain": [
       "               area\n",
       "rate               \n",
       "0.010000  22.253320\n",
       "0.019484  11.736456\n",
       "0.024483   6.671130\n",
       "0.034483   6.021212\n",
       "0.050000   4.424479\n",
       "0.059488   2.660977\n",
       "0.068966   2.117018\n",
       "0.100000   1.902117\n",
       "0.206186   0.686267\n",
       "0.307692   0.347749\n",
       "0.400000   0.348312\n",
       "0.500000   0.449928\n",
       "0.606061   0.231824\n",
       "0.714286   0.163919\n",
       "0.800000   0.193474\n",
       "0.909091   0.281317\n",
       "1.000000   0.175279"
      ]
     },
     "execution_count": 17,
     "metadata": {},
     "output_type": "execute_result"
    }
   ],
   "source": [
    "df_dec.groupby('rate').std()"
   ]
  },
  {
   "cell_type": "code",
   "execution_count": 18,
   "metadata": {},
   "outputs": [
    {
     "data": {
      "text/html": [
       "<div>\n",
       "<style scoped>\n",
       "    .dataframe tbody tr th:only-of-type {\n",
       "        vertical-align: middle;\n",
       "    }\n",
       "\n",
       "    .dataframe tbody tr th {\n",
       "        vertical-align: top;\n",
       "    }\n",
       "\n",
       "    .dataframe thead th {\n",
       "        text-align: right;\n",
       "    }\n",
       "</style>\n",
       "<table border=\"1\" class=\"dataframe\">\n",
       "  <thead>\n",
       "    <tr style=\"text-align: right;\">\n",
       "      <th></th>\n",
       "      <th>area</th>\n",
       "    </tr>\n",
       "    <tr>\n",
       "      <th>rate</th>\n",
       "      <th></th>\n",
       "    </tr>\n",
       "  </thead>\n",
       "  <tbody>\n",
       "    <tr>\n",
       "      <th>0.010000</th>\n",
       "      <td>7.037118</td>\n",
       "    </tr>\n",
       "    <tr>\n",
       "      <th>0.019484</th>\n",
       "      <td>3.711393</td>\n",
       "    </tr>\n",
       "    <tr>\n",
       "      <th>0.024483</th>\n",
       "      <td>2.109596</td>\n",
       "    </tr>\n",
       "    <tr>\n",
       "      <th>0.034483</th>\n",
       "      <td>1.904074</td>\n",
       "    </tr>\n",
       "    <tr>\n",
       "      <th>0.050000</th>\n",
       "      <td>1.399143</td>\n",
       "    </tr>\n",
       "    <tr>\n",
       "      <th>0.059488</th>\n",
       "      <td>0.841475</td>\n",
       "    </tr>\n",
       "    <tr>\n",
       "      <th>0.068966</th>\n",
       "      <td>0.669460</td>\n",
       "    </tr>\n",
       "    <tr>\n",
       "      <th>0.100000</th>\n",
       "      <td>0.601502</td>\n",
       "    </tr>\n",
       "    <tr>\n",
       "      <th>0.206186</th>\n",
       "      <td>0.217017</td>\n",
       "    </tr>\n",
       "    <tr>\n",
       "      <th>0.307692</th>\n",
       "      <td>0.109968</td>\n",
       "    </tr>\n",
       "    <tr>\n",
       "      <th>0.400000</th>\n",
       "      <td>0.110146</td>\n",
       "    </tr>\n",
       "    <tr>\n",
       "      <th>0.500000</th>\n",
       "      <td>0.142280</td>\n",
       "    </tr>\n",
       "    <tr>\n",
       "      <th>0.606061</th>\n",
       "      <td>0.073309</td>\n",
       "    </tr>\n",
       "    <tr>\n",
       "      <th>0.714286</th>\n",
       "      <td>0.051836</td>\n",
       "    </tr>\n",
       "    <tr>\n",
       "      <th>0.800000</th>\n",
       "      <td>0.061182</td>\n",
       "    </tr>\n",
       "    <tr>\n",
       "      <th>0.909091</th>\n",
       "      <td>0.088960</td>\n",
       "    </tr>\n",
       "    <tr>\n",
       "      <th>1.000000</th>\n",
       "      <td>0.055428</td>\n",
       "    </tr>\n",
       "  </tbody>\n",
       "</table>\n",
       "</div>"
      ],
      "text/plain": [
       "              area\n",
       "rate              \n",
       "0.010000  7.037118\n",
       "0.019484  3.711393\n",
       "0.024483  2.109596\n",
       "0.034483  1.904074\n",
       "0.050000  1.399143\n",
       "0.059488  0.841475\n",
       "0.068966  0.669460\n",
       "0.100000  0.601502\n",
       "0.206186  0.217017\n",
       "0.307692  0.109968\n",
       "0.400000  0.110146\n",
       "0.500000  0.142280\n",
       "0.606061  0.073309\n",
       "0.714286  0.051836\n",
       "0.800000  0.061182\n",
       "0.909091  0.088960\n",
       "1.000000  0.055428"
      ]
     },
     "execution_count": 18,
     "metadata": {},
     "output_type": "execute_result"
    }
   ],
   "source": [
    "df_dec.groupby('rate').std()/np.sqrt(10)"
   ]
  },
  {
   "cell_type": "code",
   "execution_count": 19,
   "metadata": {},
   "outputs": [
    {
     "data": {
      "text/plain": [
       "array([[10],\n",
       "       [10],\n",
       "       [10],\n",
       "       [11],\n",
       "       [10],\n",
       "       [10],\n",
       "       [ 9],\n",
       "       [10],\n",
       "       [10],\n",
       "       [10],\n",
       "       [10],\n",
       "       [10],\n",
       "       [10],\n",
       "       [10],\n",
       "       [10],\n",
       "       [10],\n",
       "       [10]])"
      ]
     },
     "execution_count": 19,
     "metadata": {},
     "output_type": "execute_result"
    }
   ],
   "source": [
    "df_inc.groupby('rate').count().values"
   ]
  },
  {
   "cell_type": "code",
   "execution_count": 20,
   "metadata": {},
   "outputs": [
    {
     "data": {
      "text/plain": [
       "rate\n",
       "0.010000    8.923874\n",
       "0.019484    8.935121\n",
       "0.024483    4.726530\n",
       "0.034483    4.549622\n",
       "0.050000    2.615213\n",
       "0.059488    1.691611\n",
       "0.068966    1.791039\n",
       "0.100000    1.739591\n",
       "0.206186    0.344934\n",
       "0.307692    0.538570\n",
       "0.400000    0.348793\n",
       "0.500000    0.283992\n",
       "0.606061    0.215869\n",
       "0.714286    0.127592\n",
       "0.800000    0.308864\n",
       "0.909091    0.198097\n",
       "1.000000    0.137755\n",
       "Name: area, dtype: float64"
      ]
     },
     "execution_count": 20,
     "metadata": {},
     "output_type": "execute_result"
    }
   ],
   "source": [
    "df_inc.groupby('rate')['area'].std()"
   ]
  },
  {
   "cell_type": "code",
   "execution_count": 21,
   "metadata": {},
   "outputs": [
    {
     "data": {
      "text/html": [
       "<div>\n",
       "<style scoped>\n",
       "    .dataframe tbody tr th:only-of-type {\n",
       "        vertical-align: middle;\n",
       "    }\n",
       "\n",
       "    .dataframe tbody tr th {\n",
       "        vertical-align: top;\n",
       "    }\n",
       "\n",
       "    .dataframe thead th {\n",
       "        text-align: right;\n",
       "    }\n",
       "</style>\n",
       "<table border=\"1\" class=\"dataframe\">\n",
       "  <thead>\n",
       "    <tr style=\"text-align: right;\">\n",
       "      <th></th>\n",
       "      <th>area</th>\n",
       "    </tr>\n",
       "    <tr>\n",
       "      <th>exp</th>\n",
       "      <th></th>\n",
       "    </tr>\n",
       "  </thead>\n",
       "  <tbody>\n",
       "    <tr>\n",
       "      <th>0</th>\n",
       "      <td>572.99000</td>\n",
       "    </tr>\n",
       "    <tr>\n",
       "      <th>1</th>\n",
       "      <td>594.28250</td>\n",
       "    </tr>\n",
       "    <tr>\n",
       "      <th>2</th>\n",
       "      <td>603.22000</td>\n",
       "    </tr>\n",
       "    <tr>\n",
       "      <th>3</th>\n",
       "      <td>634.90500</td>\n",
       "    </tr>\n",
       "    <tr>\n",
       "      <th>4</th>\n",
       "      <td>598.57125</td>\n",
       "    </tr>\n",
       "    <tr>\n",
       "      <th>5</th>\n",
       "      <td>590.08000</td>\n",
       "    </tr>\n",
       "    <tr>\n",
       "      <th>6</th>\n",
       "      <td>562.21000</td>\n",
       "    </tr>\n",
       "    <tr>\n",
       "      <th>7</th>\n",
       "      <td>586.36250</td>\n",
       "    </tr>\n",
       "    <tr>\n",
       "      <th>8</th>\n",
       "      <td>564.86625</td>\n",
       "    </tr>\n",
       "    <tr>\n",
       "      <th>9</th>\n",
       "      <td>566.91750</td>\n",
       "    </tr>\n",
       "  </tbody>\n",
       "</table>\n",
       "</div>"
      ],
      "text/plain": [
       "          area\n",
       "exp           \n",
       "0    572.99000\n",
       "1    594.28250\n",
       "2    603.22000\n",
       "3    634.90500\n",
       "4    598.57125\n",
       "5    590.08000\n",
       "6    562.21000\n",
       "7    586.36250\n",
       "8    564.86625\n",
       "9    566.91750"
      ]
     },
     "execution_count": 21,
     "metadata": {},
     "output_type": "execute_result"
    }
   ],
   "source": [
    "df_dec.loc[0.01]"
   ]
  },
  {
   "cell_type": "code",
   "execution_count": 22,
   "metadata": {},
   "outputs": [
    {
     "data": {
      "text/plain": [
       "1.6597855249395086"
      ]
     },
     "execution_count": 22,
     "metadata": {},
     "output_type": "execute_result"
    }
   ],
   "source": [
    "11.736456/np.sqrt(50)"
   ]
  },
  {
   "cell_type": "code",
   "execution_count": 23,
   "metadata": {},
   "outputs": [
    {
     "ename": "SyntaxError",
     "evalue": "invalid syntax (<ipython-input-23-b76f55552c0a>, line 1)",
     "output_type": "error",
     "traceback": [
      "\u001b[0;36m  File \u001b[0;32m\"<ipython-input-23-b76f55552c0a>\"\u001b[0;36m, line \u001b[0;32m1\u001b[0m\n\u001b[0;31m    df_dec.groupby('rate')['area'].std()/\u001b[0m\n\u001b[0m                                         ^\u001b[0m\n\u001b[0;31mSyntaxError\u001b[0m\u001b[0;31m:\u001b[0m invalid syntax\n"
     ]
    }
   ],
   "source": [
    "df_dec.groupby('rate')['area'].std()/"
   ]
  },
  {
   "cell_type": "code",
   "execution_count": null,
   "metadata": {},
   "outputs": [],
   "source": [
    "df_dec.groupby('rate')['area'].std().to_frame()/np.sqrt(df_dec.groupby(['rate']).count())"
   ]
  },
  {
   "cell_type": "code",
   "execution_count": null,
   "metadata": {},
   "outputs": [],
   "source": []
  },
  {
   "cell_type": "code",
   "execution_count": null,
   "metadata": {},
   "outputs": [],
   "source": [
    "df_inc.groupby('rate')['area'].std()"
   ]
  },
  {
   "cell_type": "code",
   "execution_count": null,
   "metadata": {},
   "outputs": [],
   "source": [
    "df_inc['std'] = df_inc.groupby('rate').std()\n",
    "df_inc"
   ]
  },
  {
   "cell_type": "code",
   "execution_count": null,
   "metadata": {},
   "outputs": [],
   "source": [
    "200/0.068966"
   ]
  },
  {
   "cell_type": "code",
   "execution_count": null,
   "metadata": {},
   "outputs": [],
   "source": [
    "a = (df_inc.groupby(['rate'])['area'].mean())"
   ]
  },
  {
   "cell_type": "code",
   "execution_count": null,
   "metadata": {},
   "outputs": [],
   "source": [
    "a"
   ]
  },
  {
   "cell_type": "code",
   "execution_count": null,
   "metadata": {},
   "outputs": [],
   "source": [
    "a.to_frame()/df_inc.groupby(['rate']).count()"
   ]
  },
  {
   "cell_type": "code",
   "execution_count": null,
   "metadata": {},
   "outputs": [],
   "source": [
    "df_inc.groupby(['rate']).count()"
   ]
  },
  {
   "cell_type": "code",
   "execution_count": 52,
   "metadata": {},
   "outputs": [
    {
     "name": "stderr",
     "output_type": "stream",
     "text": [
      "/home/carolina/anaconda3/lib/python3.7/site-packages/pandas/core/series.py:679: RuntimeWarning: invalid value encountered in log\n",
      "  result = getattr(ufunc, method)(*inputs, **kwargs)\n"
     ]
    },
    {
     "data": {
      "text/html": [
       "<div>\n",
       "<style scoped>\n",
       "    .dataframe tbody tr th:only-of-type {\n",
       "        vertical-align: middle;\n",
       "    }\n",
       "\n",
       "    .dataframe tbody tr th {\n",
       "        vertical-align: top;\n",
       "    }\n",
       "\n",
       "    .dataframe thead th {\n",
       "        text-align: right;\n",
       "    }\n",
       "</style>\n",
       "<table border=\"1\" class=\"dataframe\">\n",
       "  <thead>\n",
       "    <tr style=\"text-align: right;\">\n",
       "      <th></th>\n",
       "      <th>area</th>\n",
       "      <th>err</th>\n",
       "      <th>err_log</th>\n",
       "      <th>log A</th>\n",
       "      <th>log err</th>\n",
       "      <th>log rate</th>\n",
       "    </tr>\n",
       "    <tr>\n",
       "      <th>rate</th>\n",
       "      <th></th>\n",
       "      <th></th>\n",
       "      <th></th>\n",
       "      <th></th>\n",
       "      <th></th>\n",
       "      <th></th>\n",
       "    </tr>\n",
       "  </thead>\n",
       "  <tbody>\n",
       "    <tr>\n",
       "      <th>0.010000</th>\n",
       "      <td>15.939975</td>\n",
       "      <td>9.859094</td>\n",
       "      <td>0.268435</td>\n",
       "      <td>2.768830</td>\n",
       "      <td>0.268435</td>\n",
       "      <td>-4.605170</td>\n",
       "    </tr>\n",
       "    <tr>\n",
       "      <th>0.019484</th>\n",
       "      <td>8.802813</td>\n",
       "      <td>6.536927</td>\n",
       "      <td>0.322286</td>\n",
       "      <td>2.175071</td>\n",
       "      <td>0.322286</td>\n",
       "      <td>-3.938162</td>\n",
       "    </tr>\n",
       "    <tr>\n",
       "      <th>0.024483</th>\n",
       "      <td>6.261488</td>\n",
       "      <td>3.604256</td>\n",
       "      <td>0.249820</td>\n",
       "      <td>1.834418</td>\n",
       "      <td>0.249820</td>\n",
       "      <td>-3.709776</td>\n",
       "    </tr>\n",
       "    <tr>\n",
       "      <th>0.034483</th>\n",
       "      <td>4.002107</td>\n",
       "      <td>3.187226</td>\n",
       "      <td>0.345632</td>\n",
       "      <td>1.386821</td>\n",
       "      <td>0.345632</td>\n",
       "      <td>-3.367289</td>\n",
       "    </tr>\n",
       "    <tr>\n",
       "      <th>0.050000</th>\n",
       "      <td>2.611250</td>\n",
       "      <td>2.226146</td>\n",
       "      <td>0.369994</td>\n",
       "      <td>0.959829</td>\n",
       "      <td>0.369994</td>\n",
       "      <td>-2.995732</td>\n",
       "    </tr>\n",
       "    <tr>\n",
       "      <th>0.059488</th>\n",
       "      <td>2.200275</td>\n",
       "      <td>1.376409</td>\n",
       "      <td>0.271494</td>\n",
       "      <td>0.788582</td>\n",
       "      <td>0.271494</td>\n",
       "      <td>-2.821981</td>\n",
       "    </tr>\n",
       "    <tr>\n",
       "      <th>0.068966</th>\n",
       "      <td>1.971725</td>\n",
       "      <td>1.302686</td>\n",
       "      <td>0.286737</td>\n",
       "      <td>0.678909</td>\n",
       "      <td>0.286737</td>\n",
       "      <td>-2.674142</td>\n",
       "    </tr>\n",
       "    <tr>\n",
       "      <th>0.100000</th>\n",
       "      <td>0.910488</td>\n",
       "      <td>1.151609</td>\n",
       "      <td>0.548935</td>\n",
       "      <td>-0.093775</td>\n",
       "      <td>0.548935</td>\n",
       "      <td>-2.302585</td>\n",
       "    </tr>\n",
       "    <tr>\n",
       "      <th>0.206186</th>\n",
       "      <td>0.155275</td>\n",
       "      <td>0.326094</td>\n",
       "      <td>0.911447</td>\n",
       "      <td>-1.862558</td>\n",
       "      <td>0.911447</td>\n",
       "      <td>-1.578977</td>\n",
       "    </tr>\n",
       "    <tr>\n",
       "      <th>0.307692</th>\n",
       "      <td>-0.002600</td>\n",
       "      <td>0.280279</td>\n",
       "      <td>-46.784955</td>\n",
       "      <td>NaN</td>\n",
       "      <td>-46.784955</td>\n",
       "      <td>-1.178656</td>\n",
       "    </tr>\n",
       "    <tr>\n",
       "      <th>0.400000</th>\n",
       "      <td>0.035150</td>\n",
       "      <td>0.220444</td>\n",
       "      <td>2.721841</td>\n",
       "      <td>-3.348131</td>\n",
       "      <td>2.721841</td>\n",
       "      <td>-0.916291</td>\n",
       "    </tr>\n",
       "    <tr>\n",
       "      <th>0.500000</th>\n",
       "      <td>0.031825</td>\n",
       "      <td>0.232086</td>\n",
       "      <td>3.164974</td>\n",
       "      <td>-3.447503</td>\n",
       "      <td>3.164974</td>\n",
       "      <td>-0.693147</td>\n",
       "    </tr>\n",
       "    <tr>\n",
       "      <th>0.606061</th>\n",
       "      <td>0.048075</td>\n",
       "      <td>0.141573</td>\n",
       "      <td>1.278059</td>\n",
       "      <td>-3.034993</td>\n",
       "      <td>1.278059</td>\n",
       "      <td>-0.500775</td>\n",
       "    </tr>\n",
       "    <tr>\n",
       "      <th>0.714286</th>\n",
       "      <td>0.035962</td>\n",
       "      <td>0.092184</td>\n",
       "      <td>1.112489</td>\n",
       "      <td>-3.325279</td>\n",
       "      <td>1.112489</td>\n",
       "      <td>-0.336472</td>\n",
       "    </tr>\n",
       "    <tr>\n",
       "      <th>0.800000</th>\n",
       "      <td>0.053037</td>\n",
       "      <td>0.158853</td>\n",
       "      <td>1.299877</td>\n",
       "      <td>-2.936756</td>\n",
       "      <td>1.299877</td>\n",
       "      <td>-0.223144</td>\n",
       "    </tr>\n",
       "    <tr>\n",
       "      <th>0.909091</th>\n",
       "      <td>0.075400</td>\n",
       "      <td>0.151604</td>\n",
       "      <td>0.872628</td>\n",
       "      <td>-2.584948</td>\n",
       "      <td>0.872628</td>\n",
       "      <td>-0.095310</td>\n",
       "    </tr>\n",
       "    <tr>\n",
       "      <th>1.000000</th>\n",
       "      <td>0.137875</td>\n",
       "      <td>0.098990</td>\n",
       "      <td>0.311599</td>\n",
       "      <td>-1.981408</td>\n",
       "      <td>0.311599</td>\n",
       "      <td>0.000000</td>\n",
       "    </tr>\n",
       "  </tbody>\n",
       "</table>\n",
       "</div>"
      ],
      "text/plain": [
       "               area       err    err_log     log A    log err  log rate\n",
       "rate                                                                   \n",
       "0.010000  15.939975  9.859094   0.268435  2.768830   0.268435 -4.605170\n",
       "0.019484   8.802813  6.536927   0.322286  2.175071   0.322286 -3.938162\n",
       "0.024483   6.261488  3.604256   0.249820  1.834418   0.249820 -3.709776\n",
       "0.034483   4.002107  3.187226   0.345632  1.386821   0.345632 -3.367289\n",
       "0.050000   2.611250  2.226146   0.369994  0.959829   0.369994 -2.995732\n",
       "0.059488   2.200275  1.376409   0.271494  0.788582   0.271494 -2.821981\n",
       "0.068966   1.971725  1.302686   0.286737  0.678909   0.286737 -2.674142\n",
       "0.100000   0.910488  1.151609   0.548935 -0.093775   0.548935 -2.302585\n",
       "0.206186   0.155275  0.326094   0.911447 -1.862558   0.911447 -1.578977\n",
       "0.307692  -0.002600  0.280279 -46.784955       NaN -46.784955 -1.178656\n",
       "0.400000   0.035150  0.220444   2.721841 -3.348131   2.721841 -0.916291\n",
       "0.500000   0.031825  0.232086   3.164974 -3.447503   3.164974 -0.693147\n",
       "0.606061   0.048075  0.141573   1.278059 -3.034993   1.278059 -0.500775\n",
       "0.714286   0.035962  0.092184   1.112489 -3.325279   1.112489 -0.336472\n",
       "0.800000   0.053037  0.158853   1.299877 -2.936756   1.299877 -0.223144\n",
       "0.909091   0.075400  0.151604   0.872628 -2.584948   0.872628 -0.095310\n",
       "1.000000   0.137875  0.098990   0.311599 -1.981408   0.311599  0.000000"
      ]
     },
     "execution_count": 52,
     "metadata": {},
     "output_type": "execute_result"
    }
   ],
   "source": [
    "a['log A'] = np.log(a['area'])\n",
    "a['log err'] = a['err']*0.434/a['area']\n",
    "a['log rate'] = np.log(a.index.get_level_values('rate'))\n",
    "a"
   ]
  },
  {
   "cell_type": "code",
   "execution_count": 54,
   "metadata": {},
   "outputs": [
    {
     "data": {
      "text/plain": [
       "<ErrorbarContainer object of 3 artists>"
      ]
     },
     "execution_count": 54,
     "metadata": {},
     "output_type": "execute_result"
    },
    {
     "data": {
      "image/png": "[encoded data removed]",
      "text/plain": [
       "<Figure size 600x400 with 1 Axes>"
      ]
     },
     "metadata": {
      "needs_background": "light"
     },
     "output_type": "display_data"
    }
   ],
   "source": [
    "plt.errorbar(a['log rate'],a['log A'], yerr = a['log err'] ,fmt ='o')\n",
    "#plt.gca().set_aspect('equal', adjustable='box')"
   ]
  },
  {
   "cell_type": "code",
   "execution_count": 56,
   "metadata": {},
   "outputs": [
    {
     "data": {
      "image/png": "[encoded data removed]",
      "text/plain": [
       "<Figure size 600x400 with 1 Axes>"
      ]
     },
     "metadata": {
      "needs_background": "light"
     },
     "output_type": "display_data"
    }
   ],
   "source": [
    "plt.errorbar(a.index.get_level_values('rate'),a['area'], yerr =a['err'],fmt ='o')\n",
    "plt.xscale('Log')\n",
    "plt.yscale('Log')\n",
    "plt.gca().set_aspect('equal', adjustable='box')"
   ]
  },
  {
   "cell_type": "markdown",
   "metadata": {},
   "source": [
    "# End trial code"
   ]
  },
  {
   "cell_type": "code",
   "execution_count": 16,
   "metadata": {},
   "outputs": [],
   "source": [
    "i = mean_and_err(df_inc)\n",
    "d = mean_and_err(df_dec)"
   ]
  },
  {
   "cell_type": "code",
   "execution_count": 17,
   "metadata": {},
   "outputs": [
    {
     "data": {
      "text/html": [
       "<div>\n",
       "<style scoped>\n",
       "    .dataframe tbody tr th:only-of-type {\n",
       "        vertical-align: middle;\n",
       "    }\n",
       "\n",
       "    .dataframe tbody tr th {\n",
       "        vertical-align: top;\n",
       "    }\n",
       "\n",
       "    .dataframe thead th {\n",
       "        text-align: right;\n",
       "    }\n",
       "</style>\n",
       "<table border=\"1\" class=\"dataframe\">\n",
       "  <thead>\n",
       "    <tr style=\"text-align: right;\">\n",
       "      <th></th>\n",
       "      <th>area</th>\n",
       "      <th>err</th>\n",
       "    </tr>\n",
       "    <tr>\n",
       "      <th>rate</th>\n",
       "      <th></th>\n",
       "      <th></th>\n",
       "    </tr>\n",
       "  </thead>\n",
       "  <tbody>\n",
       "    <tr>\n",
       "      <th>0.010000</th>\n",
       "      <td>58.744050</td>\n",
       "      <td>7.037118</td>\n",
       "    </tr>\n",
       "    <tr>\n",
       "      <th>0.019484</th>\n",
       "      <td>29.964425</td>\n",
       "      <td>3.711393</td>\n",
       "    </tr>\n",
       "    <tr>\n",
       "      <th>0.024483</th>\n",
       "      <td>23.008050</td>\n",
       "      <td>2.109596</td>\n",
       "    </tr>\n",
       "    <tr>\n",
       "      <th>0.034483</th>\n",
       "      <td>14.576560</td>\n",
       "      <td>1.815464</td>\n",
       "    </tr>\n",
       "    <tr>\n",
       "      <th>0.050000</th>\n",
       "      <td>10.518525</td>\n",
       "      <td>1.399143</td>\n",
       "    </tr>\n",
       "    <tr>\n",
       "      <th>0.059488</th>\n",
       "      <td>8.748188</td>\n",
       "      <td>0.841475</td>\n",
       "    </tr>\n",
       "    <tr>\n",
       "      <th>0.068966</th>\n",
       "      <td>9.102521</td>\n",
       "      <td>0.705673</td>\n",
       "    </tr>\n",
       "    <tr>\n",
       "      <th>0.100000</th>\n",
       "      <td>4.740150</td>\n",
       "      <td>0.601502</td>\n",
       "    </tr>\n",
       "    <tr>\n",
       "      <th>0.206186</th>\n",
       "      <td>1.991988</td>\n",
       "      <td>0.217017</td>\n",
       "    </tr>\n",
       "    <tr>\n",
       "      <th>0.307692</th>\n",
       "      <td>1.224075</td>\n",
       "      <td>0.109968</td>\n",
       "    </tr>\n",
       "    <tr>\n",
       "      <th>0.400000</th>\n",
       "      <td>0.926200</td>\n",
       "      <td>0.110146</td>\n",
       "    </tr>\n",
       "    <tr>\n",
       "      <th>0.500000</th>\n",
       "      <td>0.720975</td>\n",
       "      <td>0.142280</td>\n",
       "    </tr>\n",
       "    <tr>\n",
       "      <th>0.606061</th>\n",
       "      <td>0.608987</td>\n",
       "      <td>0.073309</td>\n",
       "    </tr>\n",
       "    <tr>\n",
       "      <th>0.714286</th>\n",
       "      <td>0.503062</td>\n",
       "      <td>0.051836</td>\n",
       "    </tr>\n",
       "    <tr>\n",
       "      <th>0.800000</th>\n",
       "      <td>0.457062</td>\n",
       "      <td>0.061182</td>\n",
       "    </tr>\n",
       "    <tr>\n",
       "      <th>0.909091</th>\n",
       "      <td>0.407025</td>\n",
       "      <td>0.088960</td>\n",
       "    </tr>\n",
       "    <tr>\n",
       "      <th>1.000000</th>\n",
       "      <td>0.405225</td>\n",
       "      <td>0.055428</td>\n",
       "    </tr>\n",
       "  </tbody>\n",
       "</table>\n",
       "</div>"
      ],
      "text/plain": [
       "               area       err\n",
       "rate                         \n",
       "0.010000  58.744050  7.037118\n",
       "0.019484  29.964425  3.711393\n",
       "0.024483  23.008050  2.109596\n",
       "0.034483  14.576560  1.815464\n",
       "0.050000  10.518525  1.399143\n",
       "0.059488   8.748188  0.841475\n",
       "0.068966   9.102521  0.705673\n",
       "0.100000   4.740150  0.601502\n",
       "0.206186   1.991988  0.217017\n",
       "0.307692   1.224075  0.109968\n",
       "0.400000   0.926200  0.110146\n",
       "0.500000   0.720975  0.142280\n",
       "0.606061   0.608987  0.073309\n",
       "0.714286   0.503062  0.051836\n",
       "0.800000   0.457062  0.061182\n",
       "0.909091   0.407025  0.088960\n",
       "1.000000   0.405225  0.055428"
      ]
     },
     "execution_count": 17,
     "metadata": {},
     "output_type": "execute_result"
    }
   ],
   "source": [
    "d"
   ]
  },
  {
   "cell_type": "code",
   "execution_count": 18,
   "metadata": {},
   "outputs": [
    {
     "data": {
      "text/html": [
       "<div>\n",
       "<style scoped>\n",
       "    .dataframe tbody tr th:only-of-type {\n",
       "        vertical-align: middle;\n",
       "    }\n",
       "\n",
       "    .dataframe tbody tr th {\n",
       "        vertical-align: top;\n",
       "    }\n",
       "\n",
       "    .dataframe thead th {\n",
       "        text-align: right;\n",
       "    }\n",
       "</style>\n",
       "<table border=\"1\" class=\"dataframe\">\n",
       "  <thead>\n",
       "    <tr style=\"text-align: right;\">\n",
       "      <th></th>\n",
       "      <th>area</th>\n",
       "      <th>err</th>\n",
       "    </tr>\n",
       "    <tr>\n",
       "      <th>rate</th>\n",
       "      <th></th>\n",
       "      <th></th>\n",
       "    </tr>\n",
       "  </thead>\n",
       "  <tbody>\n",
       "    <tr>\n",
       "      <th>0.010000</th>\n",
       "      <td>42.804075</td>\n",
       "      <td>2.821977</td>\n",
       "    </tr>\n",
       "    <tr>\n",
       "      <th>0.019484</th>\n",
       "      <td>21.161613</td>\n",
       "      <td>2.825533</td>\n",
       "    </tr>\n",
       "    <tr>\n",
       "      <th>0.024483</th>\n",
       "      <td>16.746562</td>\n",
       "      <td>1.494660</td>\n",
       "    </tr>\n",
       "    <tr>\n",
       "      <th>0.034483</th>\n",
       "      <td>10.574452</td>\n",
       "      <td>1.371763</td>\n",
       "    </tr>\n",
       "    <tr>\n",
       "      <th>0.050000</th>\n",
       "      <td>7.907275</td>\n",
       "      <td>0.827003</td>\n",
       "    </tr>\n",
       "    <tr>\n",
       "      <th>0.059488</th>\n",
       "      <td>6.547912</td>\n",
       "      <td>0.534935</td>\n",
       "    </tr>\n",
       "    <tr>\n",
       "      <th>0.068966</th>\n",
       "      <td>7.130796</td>\n",
       "      <td>0.597013</td>\n",
       "    </tr>\n",
       "    <tr>\n",
       "      <th>0.100000</th>\n",
       "      <td>3.829663</td>\n",
       "      <td>0.550107</td>\n",
       "    </tr>\n",
       "    <tr>\n",
       "      <th>0.206186</th>\n",
       "      <td>1.836712</td>\n",
       "      <td>0.109078</td>\n",
       "    </tr>\n",
       "    <tr>\n",
       "      <th>0.307692</th>\n",
       "      <td>1.226675</td>\n",
       "      <td>0.170311</td>\n",
       "    </tr>\n",
       "    <tr>\n",
       "      <th>0.400000</th>\n",
       "      <td>0.891050</td>\n",
       "      <td>0.110298</td>\n",
       "    </tr>\n",
       "    <tr>\n",
       "      <th>0.500000</th>\n",
       "      <td>0.689150</td>\n",
       "      <td>0.089806</td>\n",
       "    </tr>\n",
       "    <tr>\n",
       "      <th>0.606061</th>\n",
       "      <td>0.560912</td>\n",
       "      <td>0.068264</td>\n",
       "    </tr>\n",
       "    <tr>\n",
       "      <th>0.714286</th>\n",
       "      <td>0.467100</td>\n",
       "      <td>0.040348</td>\n",
       "    </tr>\n",
       "    <tr>\n",
       "      <th>0.800000</th>\n",
       "      <td>0.404025</td>\n",
       "      <td>0.097671</td>\n",
       "    </tr>\n",
       "    <tr>\n",
       "      <th>0.909091</th>\n",
       "      <td>0.331625</td>\n",
       "      <td>0.062644</td>\n",
       "    </tr>\n",
       "    <tr>\n",
       "      <th>1.000000</th>\n",
       "      <td>0.267350</td>\n",
       "      <td>0.043562</td>\n",
       "    </tr>\n",
       "  </tbody>\n",
       "</table>\n",
       "</div>"
      ],
      "text/plain": [
       "               area       err\n",
       "rate                         \n",
       "0.010000  42.804075  2.821977\n",
       "0.019484  21.161613  2.825533\n",
       "0.024483  16.746562  1.494660\n",
       "0.034483  10.574452  1.371763\n",
       "0.050000   7.907275  0.827003\n",
       "0.059488   6.547912  0.534935\n",
       "0.068966   7.130796  0.597013\n",
       "0.100000   3.829663  0.550107\n",
       "0.206186   1.836712  0.109078\n",
       "0.307692   1.226675  0.170311\n",
       "0.400000   0.891050  0.110298\n",
       "0.500000   0.689150  0.089806\n",
       "0.606061   0.560912  0.068264\n",
       "0.714286   0.467100  0.040348\n",
       "0.800000   0.404025  0.097671\n",
       "0.909091   0.331625  0.062644\n",
       "1.000000   0.267350  0.043562"
      ]
     },
     "execution_count": 18,
     "metadata": {},
     "output_type": "execute_result"
    }
   ],
   "source": [
    "i"
   ]
  },
  {
   "cell_type": "markdown",
   "metadata": {},
   "source": [
    "Dataframe \"a\" is the one where I compute the substraction of the area under the decreasing curve - the area under the increasing curve, and b the viceversa."
   ]
  },
  {
   "cell_type": "code",
   "execution_count": 19,
   "metadata": {},
   "outputs": [],
   "source": [
    "a = (d['area'])-(i['area'])\n",
    "b = (i['area'])-(d['area'])"
   ]
  },
  {
   "cell_type": "code",
   "execution_count": 20,
   "metadata": {},
   "outputs": [],
   "source": [
    "a = a.to_frame()\n",
    "b = b.to_frame()"
   ]
  },
  {
   "cell_type": "code",
   "execution_count": 21,
   "metadata": {},
   "outputs": [],
   "source": [
    "a['err'] = i['err']+d['err']\n",
    "b['err'] = i['err']+d['err']"
   ]
  },
  {
   "cell_type": "code",
   "execution_count": 22,
   "metadata": {},
   "outputs": [
    {
     "data": {
      "text/html": [
       "<div>\n",
       "<style scoped>\n",
       "    .dataframe tbody tr th:only-of-type {\n",
       "        vertical-align: middle;\n",
       "    }\n",
       "\n",
       "    .dataframe tbody tr th {\n",
       "        vertical-align: top;\n",
       "    }\n",
       "\n",
       "    .dataframe thead th {\n",
       "        text-align: right;\n",
       "    }\n",
       "</style>\n",
       "<table border=\"1\" class=\"dataframe\">\n",
       "  <thead>\n",
       "    <tr style=\"text-align: right;\">\n",
       "      <th></th>\n",
       "      <th>area</th>\n",
       "      <th>err</th>\n",
       "    </tr>\n",
       "    <tr>\n",
       "      <th>rate</th>\n",
       "      <th></th>\n",
       "      <th></th>\n",
       "    </tr>\n",
       "  </thead>\n",
       "  <tbody>\n",
       "    <tr>\n",
       "      <th>0.010000</th>\n",
       "      <td>15.939975</td>\n",
       "      <td>9.859094</td>\n",
       "    </tr>\n",
       "    <tr>\n",
       "      <th>0.019484</th>\n",
       "      <td>8.802813</td>\n",
       "      <td>6.536927</td>\n",
       "    </tr>\n",
       "    <tr>\n",
       "      <th>0.024483</th>\n",
       "      <td>6.261488</td>\n",
       "      <td>3.604256</td>\n",
       "    </tr>\n",
       "    <tr>\n",
       "      <th>0.034483</th>\n",
       "      <td>4.002107</td>\n",
       "      <td>3.187226</td>\n",
       "    </tr>\n",
       "    <tr>\n",
       "      <th>0.050000</th>\n",
       "      <td>2.611250</td>\n",
       "      <td>2.226146</td>\n",
       "    </tr>\n",
       "    <tr>\n",
       "      <th>0.059488</th>\n",
       "      <td>2.200275</td>\n",
       "      <td>1.376409</td>\n",
       "    </tr>\n",
       "    <tr>\n",
       "      <th>0.068966</th>\n",
       "      <td>1.971725</td>\n",
       "      <td>1.302686</td>\n",
       "    </tr>\n",
       "    <tr>\n",
       "      <th>0.100000</th>\n",
       "      <td>0.910488</td>\n",
       "      <td>1.151609</td>\n",
       "    </tr>\n",
       "    <tr>\n",
       "      <th>0.206186</th>\n",
       "      <td>0.155275</td>\n",
       "      <td>0.326094</td>\n",
       "    </tr>\n",
       "    <tr>\n",
       "      <th>0.307692</th>\n",
       "      <td>-0.002600</td>\n",
       "      <td>0.280279</td>\n",
       "    </tr>\n",
       "    <tr>\n",
       "      <th>0.400000</th>\n",
       "      <td>0.035150</td>\n",
       "      <td>0.220444</td>\n",
       "    </tr>\n",
       "    <tr>\n",
       "      <th>0.500000</th>\n",
       "      <td>0.031825</td>\n",
       "      <td>0.232086</td>\n",
       "    </tr>\n",
       "    <tr>\n",
       "      <th>0.606061</th>\n",
       "      <td>0.048075</td>\n",
       "      <td>0.141573</td>\n",
       "    </tr>\n",
       "    <tr>\n",
       "      <th>0.714286</th>\n",
       "      <td>0.035962</td>\n",
       "      <td>0.092184</td>\n",
       "    </tr>\n",
       "    <tr>\n",
       "      <th>0.800000</th>\n",
       "      <td>0.053037</td>\n",
       "      <td>0.158853</td>\n",
       "    </tr>\n",
       "    <tr>\n",
       "      <th>0.909091</th>\n",
       "      <td>0.075400</td>\n",
       "      <td>0.151604</td>\n",
       "    </tr>\n",
       "    <tr>\n",
       "      <th>1.000000</th>\n",
       "      <td>0.137875</td>\n",
       "      <td>0.098990</td>\n",
       "    </tr>\n",
       "  </tbody>\n",
       "</table>\n",
       "</div>"
      ],
      "text/plain": [
       "               area       err\n",
       "rate                         \n",
       "0.010000  15.939975  9.859094\n",
       "0.019484   8.802813  6.536927\n",
       "0.024483   6.261488  3.604256\n",
       "0.034483   4.002107  3.187226\n",
       "0.050000   2.611250  2.226146\n",
       "0.059488   2.200275  1.376409\n",
       "0.068966   1.971725  1.302686\n",
       "0.100000   0.910488  1.151609\n",
       "0.206186   0.155275  0.326094\n",
       "0.307692  -0.002600  0.280279\n",
       "0.400000   0.035150  0.220444\n",
       "0.500000   0.031825  0.232086\n",
       "0.606061   0.048075  0.141573\n",
       "0.714286   0.035962  0.092184\n",
       "0.800000   0.053037  0.158853\n",
       "0.909091   0.075400  0.151604\n",
       "1.000000   0.137875  0.098990"
      ]
     },
     "execution_count": 22,
     "metadata": {},
     "output_type": "execute_result"
    }
   ],
   "source": [
    "a"
   ]
  },
  {
   "cell_type": "code",
   "execution_count": 25,
   "metadata": {},
   "outputs": [
    {
     "data": {
      "image/png": "[encoded data removed]",
      "text/plain": [
       "<Figure size 600x400 with 1 Axes>"
      ]
     },
     "metadata": {
      "needs_background": "light"
     },
     "output_type": "display_data"
    }
   ],
   "source": [
    "plt.errorbar(a.index.get_level_values('rate'), a['area'],yerr = a['err'], fmt= 'o', markersize = 7, color = 'blue')\n",
    "\n",
    "plt.xlabel('$\\gamma_{B}$ (mT/s)', size = 20)\n",
    "plt.ylabel('$|\\chi|$', size = 20)\n",
    "\n",
    "plt.tick_params(axis='y', labelsize=20)\n",
    "plt.tick_params(axis='x', labelsize=20)\n",
    "\n",
    "#plt.xlim(0,0.3)"
   ]
  },
  {
   "cell_type": "code",
   "execution_count": 24,
   "metadata": {},
   "outputs": [
    {
     "data": {
      "image/png": "[encoded data removed]",
      "text/plain": [
       "<Figure size 600x400 with 1 Axes>"
      ]
     },
     "metadata": {
      "needs_background": "light"
     },
     "output_type": "display_data"
    }
   ],
   "source": [
    "plt.loglog(a.index.get_level_values('rate'), a['area'], 'o', markersize = 7, color = 'blue')\n",
    "\n",
    "plt.xlabel('$\\gamma_{B}$ (mT/s)', size = 20)\n",
    "plt.ylabel('$|\\chi|$', size = 20)\n",
    "\n",
    "plt.tick_params(axis='y', labelsize=20)\n",
    "plt.tick_params(axis='x', labelsize=20)\n",
    "\n",
    "#plt.xlim(0,0.3)"
   ]
  },
  {
   "cell_type": "code",
   "execution_count": 35,
   "metadata": {},
   "outputs": [
    {
     "data": {
      "text/plain": [
       "(0.01, 67.36708679836649)"
      ]
     },
     "execution_count": 35,
     "metadata": {},
     "output_type": "execute_result"
    },
    {
     "data": {
      "image/png": "[encoded data removed]",
      "text/plain": [
       "<Figure size 600x400 with 1 Axes>"
      ]
     },
     "metadata": {
      "needs_background": "light"
     },
     "output_type": "display_data"
    }
   ],
   "source": [
    "plt.yscale('log', nonposy='mask')\n",
    "plt.xscale('log', nonposx='mask')\n",
    "\n",
    "plt.errorbar(a.index.get_level_values('rate'), a['area'],yerr = a['err_log'], fmt= 'o', markersize = 7, color = 'blue')\n",
    "\n",
    "plt.xlabel('$\\gamma_{B}$ (mT/s)', size = 20)\n",
    "plt.ylabel('$|\\chi|$', size = 20)\n",
    "\n",
    "plt.tick_params(axis='y', labelsize=20)\n",
    "plt.tick_params(axis='x', labelsize=20)\n",
    "\n",
    "\n",
    "plt.ylim(ymin=0.01)\n"
   ]
  },
  {
   "cell_type": "code",
   "execution_count": 25,
   "metadata": {},
   "outputs": [
    {
     "data": {
      "image/png": "[encoded data removed]",
      "text/plain": [
       "<Figure size 600x400 with 1 Axes>"
      ]
     },
     "metadata": {
      "needs_background": "light"
     },
     "output_type": "display_data"
    }
   ],
   "source": [
    "plt.errorbar(b.index.get_level_values('rate'), b['area'],yerr = b['err'], fmt= 'o', markersize = 7, color = 'blue')\n",
    "\n",
    "plt.xlabel('$\\gamma_{B}$ (mT/s)', size = 20)\n",
    "plt.ylabel('$|\\chi|$', size = 20)\n",
    "\n",
    "plt.tick_params(axis='y', labelsize=20)\n",
    "plt.tick_params(axis='x', labelsize=20)"
   ]
  },
  {
   "cell_type": "markdown",
   "metadata": {},
   "source": [
    "### Working on the log-log fitting\n",
    "    1. First 5 points of the dataset"
   ]
  },
  {
   "cell_type": "code",
   "execution_count": 48,
   "metadata": {},
   "outputs": [
    {
     "name": "stderr",
     "output_type": "stream",
     "text": [
      "/home/carolina/anaconda3/lib/python3.7/site-packages/ipykernel_launcher.py:2: SettingWithCopyWarning: \n",
      "A value is trying to be set on a copy of a slice from a DataFrame.\n",
      "Try using .loc[row_indexer,col_indexer] = value instead\n",
      "\n",
      "See the caveats in the documentation: https://pandas.pydata.org/pandas-docs/stable/user_guide/indexing.html#returning-a-view-versus-a-copy\n",
      "  \n",
      "/home/carolina/anaconda3/lib/python3.7/site-packages/ipykernel_launcher.py:3: SettingWithCopyWarning: \n",
      "A value is trying to be set on a copy of a slice from a DataFrame.\n",
      "Try using .loc[row_indexer,col_indexer] = value instead\n",
      "\n",
      "See the caveats in the documentation: https://pandas.pydata.org/pandas-docs/stable/user_guide/indexing.html#returning-a-view-versus-a-copy\n",
      "  This is separate from the ipykernel package so we can avoid doing imports until\n",
      "/home/carolina/anaconda3/lib/python3.7/site-packages/ipykernel_launcher.py:4: SettingWithCopyWarning: \n",
      "A value is trying to be set on a copy of a slice from a DataFrame.\n",
      "Try using .loc[row_indexer,col_indexer] = value instead\n",
      "\n",
      "See the caveats in the documentation: https://pandas.pydata.org/pandas-docs/stable/user_guide/indexing.html#returning-a-view-versus-a-copy\n",
      "  after removing the cwd from sys.path.\n"
     ]
    }
   ],
   "source": [
    "a_fit = a.loc[a.index.get_level_values('rate') < 0.1]\n",
    "a_fit['rate_log'] = np.log(a_fit.index.get_level_values('rate'))\n",
    "a_fit['area_log'] = np.log(a_fit['area'])\n",
    "a_fit['err_log'] = np.log(a_fit['err'])"
   ]
  },
  {
   "cell_type": "code",
   "execution_count": 49,
   "metadata": {},
   "outputs": [],
   "source": [
    "import numpy as np\n",
    "from sklearn.linear_model import LinearRegression"
   ]
  },
  {
   "cell_type": "code",
   "execution_count": 50,
   "metadata": {},
   "outputs": [],
   "source": [
    "x = a_fit['rate_log'].values.reshape((-1, 1))\n",
    "y = a_fit['area_log'].values\n",
    "model = LinearRegression()"
   ]
  },
  {
   "cell_type": "code",
   "execution_count": 51,
   "metadata": {},
   "outputs": [
    {
     "name": "stdout",
     "output_type": "stream",
     "text": [
      "coefficient of determination: 0.994580493052978\n",
      "intercept: -2.380649034861084\n",
      "slope: [-1.13042134]\n"
     ]
    },
    {
     "name": "stderr",
     "output_type": "stream",
     "text": [
      "/home/carolina/anaconda3/lib/python3.7/site-packages/ipykernel_launcher.py:10: SettingWithCopyWarning: \n",
      "A value is trying to be set on a copy of a slice from a DataFrame.\n",
      "Try using .loc[row_indexer,col_indexer] = value instead\n",
      "\n",
      "See the caveats in the documentation: https://pandas.pydata.org/pandas-docs/stable/user_guide/indexing.html#returning-a-view-versus-a-copy\n",
      "  # Remove the CWD from sys.path while we load stuff.\n"
     ]
    }
   ],
   "source": [
    "model = LinearRegression().fit(x, y)\n",
    "\n",
    "r_sq = model.score(x, y)\n",
    "\n",
    "print('coefficient of determination:', r_sq)\n",
    "print('intercept:', model.intercept_)\n",
    "print('slope:', model.coef_)\n",
    "\n",
    "#a_fit['y'] = a_fit.index.get_level_values('rate')**(-1.17150937) \n",
    "a_fit['y'] = -1.13042134*a_fit['rate_log']-2.380649034861084"
   ]
  },
  {
   "cell_type": "code",
   "execution_count": 52,
   "metadata": {},
   "outputs": [
    {
     "data": {
      "text/plain": [
       "[<matplotlib.lines.Line2D at 0x7f89fe16a350>]"
      ]
     },
     "execution_count": 52,
     "metadata": {},
     "output_type": "execute_result"
    },
    {
     "data": {
      "image/png": "[encoded data removed]",
      "text/plain": [
       "<Figure size 600x400 with 1 Axes>"
      ]
     },
     "metadata": {
      "needs_background": "light"
     },
     "output_type": "display_data"
    }
   ],
   "source": [
    "plt.errorbar(a_fit['rate_log'],a_fit['area_log'],yerr = a_fit['err_log'], fmt = 'o')\n",
    "\n",
    "plt.plot(a_fit['rate_log'], a_fit['y'],'-',color = 'black')\n",
    "\n"
   ]
  },
  {
   "cell_type": "code",
   "execution_count": 53,
   "metadata": {},
   "outputs": [
    {
     "data": {
      "text/html": [
       "<div>\n",
       "<style scoped>\n",
       "    .dataframe tbody tr th:only-of-type {\n",
       "        vertical-align: middle;\n",
       "    }\n",
       "\n",
       "    .dataframe tbody tr th {\n",
       "        vertical-align: top;\n",
       "    }\n",
       "\n",
       "    .dataframe thead th {\n",
       "        text-align: right;\n",
       "    }\n",
       "</style>\n",
       "<table border=\"1\" class=\"dataframe\">\n",
       "  <thead>\n",
       "    <tr style=\"text-align: right;\">\n",
       "      <th></th>\n",
       "      <th>area</th>\n",
       "      <th>err</th>\n",
       "      <th>log A</th>\n",
       "      <th>log err</th>\n",
       "      <th>log rate</th>\n",
       "      <th>rate_log</th>\n",
       "      <th>area_log</th>\n",
       "      <th>err_log</th>\n",
       "      <th>y</th>\n",
       "    </tr>\n",
       "    <tr>\n",
       "      <th>rate</th>\n",
       "      <th></th>\n",
       "      <th></th>\n",
       "      <th></th>\n",
       "      <th></th>\n",
       "      <th></th>\n",
       "      <th></th>\n",
       "      <th></th>\n",
       "      <th></th>\n",
       "      <th></th>\n",
       "    </tr>\n",
       "  </thead>\n",
       "  <tbody>\n",
       "    <tr>\n",
       "      <th>0.010000</th>\n",
       "      <td>15.939975</td>\n",
       "      <td>9.859094</td>\n",
       "      <td>2.768830</td>\n",
       "      <td>2.288394</td>\n",
       "      <td>-4.605170</td>\n",
       "      <td>-4.605170</td>\n",
       "      <td>2.768830</td>\n",
       "      <td>2.288394</td>\n",
       "      <td>2.825134</td>\n",
       "    </tr>\n",
       "    <tr>\n",
       "      <th>0.019484</th>\n",
       "      <td>8.802813</td>\n",
       "      <td>6.536927</td>\n",
       "      <td>2.175071</td>\n",
       "      <td>1.877467</td>\n",
       "      <td>-3.938162</td>\n",
       "      <td>-3.938162</td>\n",
       "      <td>2.175071</td>\n",
       "      <td>1.877467</td>\n",
       "      <td>2.071133</td>\n",
       "    </tr>\n",
       "    <tr>\n",
       "      <th>0.024483</th>\n",
       "      <td>6.261488</td>\n",
       "      <td>3.604256</td>\n",
       "      <td>1.834418</td>\n",
       "      <td>1.282115</td>\n",
       "      <td>-3.709776</td>\n",
       "      <td>-3.709776</td>\n",
       "      <td>1.834418</td>\n",
       "      <td>1.282115</td>\n",
       "      <td>1.812961</td>\n",
       "    </tr>\n",
       "    <tr>\n",
       "      <th>0.034483</th>\n",
       "      <td>4.002107</td>\n",
       "      <td>3.187226</td>\n",
       "      <td>1.386821</td>\n",
       "      <td>1.159151</td>\n",
       "      <td>-3.367289</td>\n",
       "      <td>-3.367289</td>\n",
       "      <td>1.386821</td>\n",
       "      <td>1.159151</td>\n",
       "      <td>1.425806</td>\n",
       "    </tr>\n",
       "    <tr>\n",
       "      <th>0.050000</th>\n",
       "      <td>2.611250</td>\n",
       "      <td>2.226146</td>\n",
       "      <td>0.959829</td>\n",
       "      <td>0.800272</td>\n",
       "      <td>-2.995732</td>\n",
       "      <td>-2.995732</td>\n",
       "      <td>0.959829</td>\n",
       "      <td>0.800272</td>\n",
       "      <td>1.005791</td>\n",
       "    </tr>\n",
       "    <tr>\n",
       "      <th>0.059488</th>\n",
       "      <td>2.200275</td>\n",
       "      <td>1.376409</td>\n",
       "      <td>0.788582</td>\n",
       "      <td>0.319478</td>\n",
       "      <td>-2.821981</td>\n",
       "      <td>-2.821981</td>\n",
       "      <td>0.788582</td>\n",
       "      <td>0.319478</td>\n",
       "      <td>0.809378</td>\n",
       "    </tr>\n",
       "    <tr>\n",
       "      <th>0.068966</th>\n",
       "      <td>1.971725</td>\n",
       "      <td>1.302686</td>\n",
       "      <td>0.678909</td>\n",
       "      <td>0.264428</td>\n",
       "      <td>-2.674142</td>\n",
       "      <td>-2.674142</td>\n",
       "      <td>0.678909</td>\n",
       "      <td>0.264428</td>\n",
       "      <td>0.642258</td>\n",
       "    </tr>\n",
       "  </tbody>\n",
       "</table>\n",
       "</div>"
      ],
      "text/plain": [
       "               area       err     log A   log err  log rate  rate_log  \\\n",
       "rate                                                                    \n",
       "0.010000  15.939975  9.859094  2.768830  2.288394 -4.605170 -4.605170   \n",
       "0.019484   8.802813  6.536927  2.175071  1.877467 -3.938162 -3.938162   \n",
       "0.024483   6.261488  3.604256  1.834418  1.282115 -3.709776 -3.709776   \n",
       "0.034483   4.002107  3.187226  1.386821  1.159151 -3.367289 -3.367289   \n",
       "0.050000   2.611250  2.226146  0.959829  0.800272 -2.995732 -2.995732   \n",
       "0.059488   2.200275  1.376409  0.788582  0.319478 -2.821981 -2.821981   \n",
       "0.068966   1.971725  1.302686  0.678909  0.264428 -2.674142 -2.674142   \n",
       "\n",
       "          area_log   err_log         y  \n",
       "rate                                    \n",
       "0.010000  2.768830  2.288394  2.825134  \n",
       "0.019484  2.175071  1.877467  2.071133  \n",
       "0.024483  1.834418  1.282115  1.812961  \n",
       "0.034483  1.386821  1.159151  1.425806  \n",
       "0.050000  0.959829  0.800272  1.005791  \n",
       "0.059488  0.788582  0.319478  0.809378  \n",
       "0.068966  0.678909  0.264428  0.642258  "
      ]
     },
     "execution_count": 53,
     "metadata": {},
     "output_type": "execute_result"
    }
   ],
   "source": [
    "a_fit"
   ]
  },
  {
   "cell_type": "code",
   "execution_count": 50,
   "metadata": {},
   "outputs": [
    {
     "data": {
      "text/html": [
       "<div>\n",
       "<style scoped>\n",
       "    .dataframe tbody tr th:only-of-type {\n",
       "        vertical-align: middle;\n",
       "    }\n",
       "\n",
       "    .dataframe tbody tr th {\n",
       "        vertical-align: top;\n",
       "    }\n",
       "\n",
       "    .dataframe thead th {\n",
       "        text-align: right;\n",
       "    }\n",
       "</style>\n",
       "<table border=\"1\" class=\"dataframe\">\n",
       "  <thead>\n",
       "    <tr style=\"text-align: right;\">\n",
       "      <th></th>\n",
       "      <th>area</th>\n",
       "      <th>err</th>\n",
       "      <th>rate_log</th>\n",
       "      <th>area_log</th>\n",
       "      <th>y</th>\n",
       "    </tr>\n",
       "    <tr>\n",
       "      <th>rate</th>\n",
       "      <th></th>\n",
       "      <th></th>\n",
       "      <th></th>\n",
       "      <th></th>\n",
       "      <th></th>\n",
       "    </tr>\n",
       "  </thead>\n",
       "  <tbody>\n",
       "    <tr>\n",
       "      <th>0.010000</th>\n",
       "      <td>15.939975</td>\n",
       "      <td>9.859094</td>\n",
       "      <td>-4.605170</td>\n",
       "      <td>2.768830</td>\n",
       "      <td>2.825134</td>\n",
       "    </tr>\n",
       "    <tr>\n",
       "      <th>0.019484</th>\n",
       "      <td>8.802813</td>\n",
       "      <td>6.536927</td>\n",
       "      <td>-3.938162</td>\n",
       "      <td>2.175071</td>\n",
       "      <td>2.071133</td>\n",
       "    </tr>\n",
       "    <tr>\n",
       "      <th>0.024483</th>\n",
       "      <td>6.261488</td>\n",
       "      <td>3.604256</td>\n",
       "      <td>-3.709776</td>\n",
       "      <td>1.834418</td>\n",
       "      <td>1.812961</td>\n",
       "    </tr>\n",
       "    <tr>\n",
       "      <th>0.034483</th>\n",
       "      <td>4.002107</td>\n",
       "      <td>3.187226</td>\n",
       "      <td>-3.367289</td>\n",
       "      <td>1.386821</td>\n",
       "      <td>1.425806</td>\n",
       "    </tr>\n",
       "    <tr>\n",
       "      <th>0.050000</th>\n",
       "      <td>2.611250</td>\n",
       "      <td>2.226146</td>\n",
       "      <td>-2.995732</td>\n",
       "      <td>0.959829</td>\n",
       "      <td>1.005791</td>\n",
       "    </tr>\n",
       "    <tr>\n",
       "      <th>0.059488</th>\n",
       "      <td>2.200275</td>\n",
       "      <td>1.376409</td>\n",
       "      <td>-2.821981</td>\n",
       "      <td>0.788582</td>\n",
       "      <td>0.809378</td>\n",
       "    </tr>\n",
       "    <tr>\n",
       "      <th>0.068966</th>\n",
       "      <td>1.971725</td>\n",
       "      <td>1.302686</td>\n",
       "      <td>-2.674142</td>\n",
       "      <td>0.678909</td>\n",
       "      <td>0.642258</td>\n",
       "    </tr>\n",
       "  </tbody>\n",
       "</table>\n",
       "</div>"
      ],
      "text/plain": [
       "               area       err  rate_log  area_log         y\n",
       "rate                                                       \n",
       "0.010000  15.939975  9.859094 -4.605170  2.768830  2.825134\n",
       "0.019484   8.802813  6.536927 -3.938162  2.175071  2.071133\n",
       "0.024483   6.261488  3.604256 -3.709776  1.834418  1.812961\n",
       "0.034483   4.002107  3.187226 -3.367289  1.386821  1.425806\n",
       "0.050000   2.611250  2.226146 -2.995732  0.959829  1.005791\n",
       "0.059488   2.200275  1.376409 -2.821981  0.788582  0.809378\n",
       "0.068966   1.971725  1.302686 -2.674142  0.678909  0.642258"
      ]
     },
     "execution_count": 50,
     "metadata": {},
     "output_type": "execute_result"
    }
   ],
   "source": [
    "a_fit"
   ]
  },
  {
   "cell_type": "code",
   "execution_count": 47,
   "metadata": {},
   "outputs": [
    {
     "name": "stderr",
     "output_type": "stream",
     "text": [
      "/home/carolina/anaconda3/lib/python3.7/site-packages/ipykernel_launcher.py:3: SettingWithCopyWarning: \n",
      "A value is trying to be set on a copy of a slice from a DataFrame.\n",
      "Try using .loc[row_indexer,col_indexer] = value instead\n",
      "\n",
      "See the caveats in the documentation: https://pandas.pydata.org/pandas-docs/stable/user_guide/indexing.html#returning-a-view-versus-a-copy\n",
      "  This is separate from the ipykernel package so we can avoid doing imports until\n"
     ]
    },
    {
     "data": {
      "image/png": "[encoded data removed]",
      "text/plain": [
       "<Figure size 600x400 with 1 Axes>"
      ]
     },
     "metadata": {
      "needs_background": "light"
     },
     "output_type": "display_data"
    }
   ],
   "source": [
    "plt.plot(figsize=(5,5))\n",
    "\n",
    "a_fit['y'] = a_fit.index.get_level_values('rate')**(-1.13042134) \n",
    "plt.plot(a_fit.index.get_level_values('rate'), a_fit['y'],'-',color = 'black')\n",
    "plt.errorbar(a.index.get_level_values('rate'), a['area'],yerr = a['err'], fmt= 'o', markersize = 7, color = 'blue')\n",
    "#plt.xlabel('rate (mT/s)', size = 20)\n",
    "#plt.ylabel('$-\\chi$', size = 20)\n",
    "\n",
    "plt.tick_params(axis='y', labelsize=30)\n",
    "plt.tick_params(axis='x', labelsize=30)\n",
    "plt.text(0.03, 80, '$rate^{-1.13}$', fontsize=25)\n",
    "plt.yscale('log', nonposy='clip')\n",
    "plt.xscale('log', nonposx='clip')\n",
    "\n",
    "plt.gca().set_aspect('equal', adjustable='box')\n",
    "plt.draw()"
   ]
  },
  {
   "cell_type": "markdown",
   "metadata": {},
   "source": [
    "    2. The other part of the dataset "
   ]
  },
  {
   "cell_type": "code",
   "execution_count": 44,
   "metadata": {},
   "outputs": [
    {
     "name": "stderr",
     "output_type": "stream",
     "text": [
      "/home/carolina/anaconda3/lib/python3.7/site-packages/ipykernel_launcher.py:2: SettingWithCopyWarning: \n",
      "A value is trying to be set on a copy of a slice from a DataFrame.\n",
      "Try using .loc[row_indexer,col_indexer] = value instead\n",
      "\n",
      "See the caveats in the documentation: https://pandas.pydata.org/pandas-docs/stable/user_guide/indexing.html#returning-a-view-versus-a-copy\n",
      "  \n",
      "/home/carolina/anaconda3/lib/python3.7/site-packages/pandas/core/series.py:679: RuntimeWarning: invalid value encountered in log\n",
      "  result = getattr(ufunc, method)(*inputs, **kwargs)\n",
      "/home/carolina/anaconda3/lib/python3.7/site-packages/ipykernel_launcher.py:3: SettingWithCopyWarning: \n",
      "A value is trying to be set on a copy of a slice from a DataFrame.\n",
      "Try using .loc[row_indexer,col_indexer] = value instead\n",
      "\n",
      "See the caveats in the documentation: https://pandas.pydata.org/pandas-docs/stable/user_guide/indexing.html#returning-a-view-versus-a-copy\n",
      "  This is separate from the ipykernel package so we can avoid doing imports until\n"
     ]
    }
   ],
   "source": [
    "a_fit2 = a.loc[(a.index.get_level_values('rate') > 0.1) & (a.index.get_level_values('rate') < 0.45)]\n",
    "a_fit2['rate_log'] = np.log(a_fit2.index.get_level_values('rate'))\n",
    "a_fit2['area_log'] = np.log(a_fit2['area'])"
   ]
  },
  {
   "cell_type": "code",
   "execution_count": null,
   "metadata": {},
   "outputs": [],
   "source": [
    "a_fit2"
   ]
  },
  {
   "cell_type": "code",
   "execution_count": null,
   "metadata": {},
   "outputs": [],
   "source": [
    "a_fit2.dropna(subset = [\"area_log\"], inplace=True)"
   ]
  },
  {
   "cell_type": "code",
   "execution_count": null,
   "metadata": {},
   "outputs": [],
   "source": [
    "a_fit2"
   ]
  },
  {
   "cell_type": "code",
   "execution_count": null,
   "metadata": {},
   "outputs": [],
   "source": [
    "x = a_fit2['rate_log'].values.reshape((-1, 1))\n",
    "y = a_fit2['area_log'].values\n",
    "model = LinearRegression()"
   ]
  },
  {
   "cell_type": "code",
   "execution_count": null,
   "metadata": {},
   "outputs": [],
   "source": [
    "model = LinearRegression().fit(x, y)\n",
    "\n",
    "r_sq = model.score(x, y)\n",
    "\n",
    "print('coefficient of determination:', r_sq)\n",
    "print('intercept:', model.intercept_)\n",
    "print('slope:', model.coef_)\n",
    "\n"
   ]
  },
  {
   "cell_type": "code",
   "execution_count": null,
   "metadata": {},
   "outputs": [],
   "source": [
    "a_fit2['y'] = a_fit2.index.get_level_values('rate')**(-2.24174557)"
   ]
  },
  {
   "cell_type": "code",
   "execution_count": null,
   "metadata": {},
   "outputs": [],
   "source": [
    "a_fit2"
   ]
  },
  {
   "cell_type": "code",
   "execution_count": null,
   "metadata": {},
   "outputs": [],
   "source": [
    "plt.plot(a_fit2.index.get_level_values('rate'), a_fit2['y'],'-',color = 'black')\n",
    "\n",
    "plt.plot(a_fit.index.get_level_values('rate'), a_fit['y'],'-',color = 'black')\n",
    "plt.errorbar(a.index.get_level_values('rate'), a['area'],yerr = a['err'], fmt= 'o', markersize = 7, color = 'blue')\n",
    "plt.xlabel('rate (mT/s)', size = 20)\n",
    "plt.ylabel('$-\\chi$', size = 20)\n",
    "\n",
    "plt.tick_params(axis='y', labelsize=20)\n",
    "plt.tick_params(axis='x', labelsize=20)\n",
    "plt.text(0.05, 80, '$rate^{-1.13}$', fontsize=12)\n",
    "plt.text(0.3, 2, '$rate^{-2.24}$', fontsize=12)\n",
    "\n",
    "plt.yscale('log')\n",
    "plt.xscale('log')"
   ]
  },
  {
   "cell_type": "code",
   "execution_count": null,
   "metadata": {},
   "outputs": [],
   "source": [
    "a"
   ]
  },
  {
   "cell_type": "markdown",
   "metadata": {},
   "source": [
    "### end"
   ]
  },
  {
   "cell_type": "code",
   "execution_count": null,
   "metadata": {},
   "outputs": [],
   "source": [
    "#a.to_csv('chi_vs_rate_new.dat', sep = '\\t')"
   ]
  },
  {
   "cell_type": "code",
   "execution_count": null,
   "metadata": {},
   "outputs": [],
   "source": [
    "plt.errorbar(b.index.get_level_values('rate'), b['area'],yerr = b['err'], fmt= 'o', markersize = 7, color = 'blue')\n",
    "\n",
    "plt.xlabel('rate (mT/s)', size = 20)\n",
    "plt.ylabel('$\\chi$', size = 20)\n",
    "\n",
    "plt.tick_params(axis='y', labelsize=20)\n",
    "plt.tick_params(axis='x', labelsize=20)\n",
    "\n",
    "#plt.savefig('chi_vs_rate', bbox_inches='tight')"
   ]
  },
  {
   "cell_type": "code",
   "execution_count": null,
   "metadata": {},
   "outputs": [],
   "source": [
    "200/8000"
   ]
  },
  {
   "cell_type": "code",
   "execution_count": null,
   "metadata": {},
   "outputs": [],
   "source": [
    "plt.errorbar(b.index.get_level_values('rate'), b['area'],yerr = b['err'], fmt= 'o', markersize = 7, color = 'blue')\n",
    "\n",
    "plt.xlabel('rate (mT/s)', size = 20)\n",
    "plt.ylabel('$\\chi$', size = 20)\n",
    "\n",
    "plt.tick_params(axis='y', labelsize=20)\n",
    "plt.tick_params(axis='x', labelsize=20)\n",
    "\n",
    "plt.xscale('log')\n",
    "#plt.savefig('chi_vs_rate', bbox_inches='tight')"
   ]
  },
  {
   "cell_type": "code",
   "execution_count": 61,
   "metadata": {},
   "outputs": [
    {
     "name": "stderr",
     "output_type": "stream",
     "text": [
      "/home/carolina/anaconda3/lib/python3.7/site-packages/ipykernel_launcher.py:19: UserWarning: Attempted to set non-positive bottom ylim on a log-scaled axis.\n",
      "Invalid limit will be ignored.\n"
     ]
    },
    {
     "data": {
      "image/png": "[encoded data removed]",
      "text/plain": [
       "<Figure size 1200x300 with 3 Axes>"
      ]
     },
     "metadata": {
      "needs_background": "light"
     },
     "output_type": "display_data"
    }
   ],
   "source": [
    "fig, axs = plt.subplots(1,3, figsize=(12, 3),sharex=False, sharey=False)\n",
    "axs[0].errorbar(a.index.get_level_values('rate'), a['area'],yerr = a['err'], fmt= 'o', markersize = 7, color = 'blue')\n",
    "axs[0].set_xlabel('rate (mT/s)', size = 20)\n",
    "axs[0].set_ylabel('$-\\chi$', size = 20)\n",
    "\n",
    "\n",
    "axs[1].errorbar(a.index.get_level_values('rate'), a['area'],yerr = a['err'], fmt= 'o', markersize = 7, color = 'blue')\n",
    "axs[1].set_xlabel('rate (mT/s)', size = 20)\n",
    "axs[1].set_ylabel('$-\\chi$', size = 20)\n",
    "#axs[1].set_xscale('log')\n",
    "axs[1].set_xscale('log')\n",
    "\n",
    "\n",
    "axs[2].errorbar(a.index.get_level_values('rate'), a['area'],yerr = a['err'], fmt= 'o', markersize = 7, color = 'blue')\n",
    "axs[2].set_xlabel('rate (mT/s)', size = 20)\n",
    "axs[2].set_ylabel('$-\\chi$', size = 20)\n",
    "axs[2].set_yscale('log')\n",
    "axs[2].set_xscale('log')\n",
    "\n",
    "plt.subplots_adjust(wspace=0.37)"
   ]
  },
  {
   "cell_type": "code",
   "execution_count": 54,
   "metadata": {},
   "outputs": [
    {
     "data": {
      "image/png": "[encoded data removed]",
      "text/plain": [
       "<Figure size 800x300 with 2 Axes>"
      ]
     },
     "metadata": {
      "needs_background": "light"
     },
     "output_type": "display_data"
    }
   ],
   "source": [
    "fig, axs = plt.subplots(1,2, figsize=(8, 3),sharex=False, sharey=False)\n",
    "axs[0].errorbar(b.index.get_level_values('rate'), b['area'],yerr = b['err'], fmt= 'o', markersize = 5, color = 'blue')\n",
    "axs[0].set_xlabel('rate (mT/s)', size = 20)\n",
    "axs[0].set_ylabel('$\\chi$', size = 20)\n",
    "\n",
    "\n",
    "axs[1].errorbar(b.index.get_level_values('rate'), b['area'],yerr = b['err'], fmt= 'o', markersize = 5, color = 'blue')\n",
    "axs[1].set_xlabel('rate (mT/s)', size = 20)\n",
    "axs[1].set_ylabel('$\\chi$', size = 20)\n",
    "axs[1].set_xscale('log')\n",
    "\n",
    "\n",
    "plt.subplots_adjust(wspace=0.50)"
   ]
  },
  {
   "cell_type": "markdown",
   "metadata": {},
   "source": [
    "# Errors in LogLog plots"
   ]
  },
  {
   "cell_type": "code",
   "execution_count": 47,
   "metadata": {},
   "outputs": [],
   "source": [
    "x = [0.03, 0.1, 0.2 ,0.5 ,1, 2,5, 20,50,100]\n",
    "y = [0.011, 0.042,0.093, 0.21, 0.28, 0.53, 0.77, 1.88, 3.56, 8.10]\n",
    "dy = [0.003, 0.006 , 0.018 , 0.02 , 0.05 ,0.12 ,0.12 ,0.3 , 0.4 ,1.58] \n",
    "dy_log = [(i / j)*0.434 for i, j in zip(dy, y)]"
   ]
  },
  {
   "cell_type": "code",
   "execution_count": 37,
   "metadata": {},
   "outputs": [
    {
     "data": {
      "text/plain": [
       "<ErrorbarContainer object of 3 artists>"
      ]
     },
     "execution_count": 37,
     "metadata": {},
     "output_type": "execute_result"
    },
    {
     "data": {
      "image/png": "[encoded data removed]",
      "text/plain": [
       "<Figure size 600x400 with 1 Axes>"
      ]
     },
     "metadata": {
      "needs_background": "light"
     },
     "output_type": "display_data"
    }
   ],
   "source": [
    "plt.errorbar(x,y, yerr = dy, fmt = 'o')"
   ]
  },
  {
   "cell_type": "code",
   "execution_count": 50,
   "metadata": {},
   "outputs": [
    {
     "data": {
      "text/plain": [
       "<ErrorbarContainer object of 3 artists>"
      ]
     },
     "execution_count": 50,
     "metadata": {},
     "output_type": "execute_result"
    },
    {
     "data": {
      "image/png": "[encoded data removed]",
      "text/plain": [
       "<Figure size 600x400 with 1 Axes>"
      ]
     },
     "metadata": {
      "needs_background": "light"
     },
     "output_type": "display_data"
    }
   ],
   "source": [
    "plt.errorbar(np.log(x),np.log(y), yerr = dy_log, fmt = 'o')"
   ]
  },
  {
   "cell_type": "code",
   "execution_count": 49,
   "metadata": {},
   "outputs": [
    {
     "data": {
      "image/png": "[encoded data removed]",
      "text/plain": [
       "<Figure size 600x400 with 1 Axes>"
      ]
     },
     "metadata": {
      "needs_background": "light"
     },
     "output_type": "display_data"
    }
   ],
   "source": [
    "plt.errorbar(x,y, yerr = dy, fmt = 'o')\n",
    "plt.xscale('log')\n",
    "plt.yscale('log')"
   ]
  },
  {
   "cell_type": "markdown",
   "metadata": {},
   "source": [
    "The following code shows a strategy in order to plot a LogLog plot but without rescaling the used data. Instead this code uses different axis in order to first, plot the axis in LogLog scale and then put the data in the plot that is already transformed to LogLog."
   ]
  },
  {
   "cell_type": "code",
   "execution_count": 29,
   "metadata": {},
   "outputs": [
    {
     "data": {
      "image/png": "[encoded data removed]",
      "text/plain": [
       "<Figure size 600x600 with 2 Axes>"
      ]
     },
     "metadata": {
      "needs_background": "light"
     },
     "output_type": "display_data"
    }
   ],
   "source": [
    "import matplotlib.pyplot as plt\n",
    "import seaborn as sns\n",
    "import pandas as pd\n",
    "import numpy as np\n",
    "\n",
    "ranks = [3541, 60219, 172644, 108926, 733215, 1297533, 1297534, 1297535]\n",
    "# These frequencies are already log-scale\n",
    "freqs = [-10.932271003723145, -15.213129043579102, -17.091760635375977, -16.27560806274414, \n",
    "        -19.482173919677734, -19.502029418945312, -19.502029418945312, -19.502029418945312]\n",
    "\n",
    "data = {\n",
    "    'ranks': ranks, \n",
    "    'freqs': freqs,\n",
    "}\n",
    "\n",
    "df = pd.DataFrame(data=data)\n",
    "\n",
    "fig, ax = plt.subplots(figsize=(6, 6))\n",
    "# use 2 axes\n",
    "# ax is the log, log scale which produces nice labels and ticks\n",
    "ax.set(xscale=\"log\", yscale=\"log\")\n",
    "ax.set_title(\"Zipf plot\")\n",
    "# ax2 is the axes where the values are plottet to\n",
    "ax2 = ax.twinx()\n",
    "\n",
    "#plot values to ax2\n",
    "sns.regplot(\"ranks\", \"freqs\", data=df, ax=ax2, fit_reg=False)\n",
    "# set the limits of the log log axis to 10 to the power of the label of ax2\n",
    "ax.set_ylim(10**np.array(ax2.get_ylim())  )\n",
    "\n",
    "\n",
    "ax.set_xlabel(\"Frequency rank of token\")\n",
    "ax.set_ylabel(\"Absolute frequency of token\")\n",
    "# remove ticklabels and axislabel from ax2\n",
    "ax2.set_yticklabels([])\n",
    "ax2.set_ylabel(\"\")\n",
    "ax.grid(True, which=\"both\")\n",
    "plt.show()"
   ]
  },
  {
   "cell_type": "code",
   "execution_count": null,
   "metadata": {},
   "outputs": [],
   "source": []
  }
 ],
 "metadata": {
  "kernelspec": {
   "display_name": "Python 3",
   "language": "python",
   "name": "python3"
  },
  "language_info": {
   "codemirror_mode": {
    "name": "ipython",
    "version": 3
   },
   "file_extension": ".py",
   "mimetype": "text/x-python",
   "name": "python",
   "nbconvert_exporter": "python",
   "pygments_lexer": "ipython3",
   "version": "3.7.6"
  }
 },
 "nbformat": 4,
 "nbformat_minor": 4
}
