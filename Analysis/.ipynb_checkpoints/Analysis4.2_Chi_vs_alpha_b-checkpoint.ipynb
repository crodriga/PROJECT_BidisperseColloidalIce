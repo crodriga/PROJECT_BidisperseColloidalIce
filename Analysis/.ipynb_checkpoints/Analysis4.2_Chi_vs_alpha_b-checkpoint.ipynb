{
 "cells": [
  {
   "cell_type": "markdown",
   "metadata": {},
   "source": [
    "In this notebook I will pass to clean the Analysis4.1 script."
   ]
  },
  {
   "cell_type": "code",
   "execution_count": null,
   "metadata": {},
   "outputs": [],
   "source": [
    "import os\n",
    "import fnmatch\n",
    "from os.path import isfile, join\n",
    "\n",
    "import pandas as pd\n",
    "import numpy as np\n",
    "import scipy.integrate as integrate\n",
    "import matplotlib.pyplot as plt\n",
    "import matplotlib as mpl"
   ]
  },
  {
   "cell_type": "code",
   "execution_count": 54,
   "metadata": {},
   "outputs": [],
   "source": [
    "mpl.rc('text', usetex=False)\n",
    "mpl.rcParams['figure.dpi'] = 100\n",
    "\n",
    "#mpl.rcParams['font.family'] = 'serif'"
   ]
  },
  {
   "cell_type": "markdown",
   "metadata": {},
   "source": [
    "# Integrating areas\n",
    "\n",
    "In this notebook, I will integrate the area under the type 3 vertex population curve for the rising window and the decreasing one, then I will perform the substraction of both. I will perform this process for all the mT/s rates computed and all the runs. So, the objective of this notebook is to have A_{rising}-A_{decresing} vs increasing(decreasing) mT/s rate."
   ]
  },
  {
   "cell_type": "markdown",
   "metadata": {},
   "source": [
    "### 1. Importing the data\n",
    "\n",
    "First, I will import the dataframes of the vertex fraction for all the rates values. In order to build a unique dataframe. "
   ]
  },
  {
   "cell_type": "code",
   "execution_count": 55,
   "metadata": {},
   "outputs": [],
   "source": [
    "Data_path = \"/home/carolina/Dropbox/BidisperseColloidalIce_PROJECT/data_Chi_vs_rate\""
   ]
  },
  {
   "cell_type": "code",
   "execution_count": 56,
   "metadata": {},
   "outputs": [
    {
     "name": "stdout",
     "output_type": "stream",
     "text": [
      "Bajada_sep2900.dat\n",
      "Bajada_sep4000.dat\n",
      "Bajada_sep2000.dat\n",
      "Bajada_sep8169.dat\n",
      "Bajada_sep220.dat\n",
      "Bajada_sep250.dat\n",
      "Bajada_sep500.dat\n",
      "Bajada_sep3362.dat\n",
      "Bajada_sep280.dat\n",
      "Bajada_sep5800.dat\n",
      "Bajada_sep10265.dat\n",
      "Bajada_sep330.dat\n",
      "Bajada_sep20000.dat\n",
      "Bajada_sep400.dat\n",
      "Bajada_sep200.dat\n",
      "Bajada_sep650.dat\n",
      "Bajada_sep970.dat\n"
     ]
    }
   ],
   "source": [
    "inc = []\n",
    "dec = []\n",
    "\n",
    "for file in os.listdir(Data_path):\n",
    "    if fnmatch.fnmatch(file, 'Bajada_sep*.dat'):\n",
    "        print(file)\n",
    "        dec.append(pd.read_csv(join(Data_path,file), sep = \"\\t\", index_col = [0,1])) \n",
    "    if fnmatch.fnmatch(file, 'Subida_sep*.dat'):\n",
    "        #print(file)\n",
    "        inc.append(pd.read_csv(join(Data_path,file), sep = \"\\t\", index_col = [0,1])) \n",
    "field_max = 200\n",
    "keys_d = [2900,4000,2000,8169,220,250,500,3362,280,5800,10265,330,20000,400,200,650,970]\n",
    "keys_s = [500,10265,650,20000,4000,2900,250,200,280,970,8169,5800,220,3362,330,400,2000]"
   ]
  },
  {
   "cell_type": "code",
   "execution_count": 57,
   "metadata": {},
   "outputs": [],
   "source": [
    "keys_d[:] = [round(field_max/x,6) for x in keys_d]\n",
    "keys_s[:] = [round(field_max/x,6) for x in keys_s]"
   ]
  },
  {
   "cell_type": "code",
   "execution_count": 58,
   "metadata": {},
   "outputs": [],
   "source": [
    "inc = pd.concat(inc, keys = keys_s)\n",
    "dec = pd.concat(dec, keys = keys_d)"
   ]
  },
  {
   "cell_type": "code",
   "execution_count": 59,
   "metadata": {},
   "outputs": [],
   "source": [
    "dec.index.names = ['rate', 'exp', 'frame']\n",
    "inc.index.names = ['rate', 'exp', 'frame']"
   ]
  },
  {
   "cell_type": "markdown",
   "metadata": {},
   "source": [
    "### 2. Computing the area under the type 3 population curves\n",
    "\n",
    "Now, I will compute the area under the type 3 population curves for all the experiments and rates values. I will use the trapezoidal method. "
   ]
  },
  {
   "cell_type": "code",
   "execution_count": 60,
   "metadata": {},
   "outputs": [],
   "source": [
    "def trpz_integral(dataframe):\n",
    "    \n",
    "    \"\"\" \n",
    "    input: dataframe with the vertex fraction information of each experiment and rate\n",
    "    output: dataframe with the integrated area under the data for each rate and experiment\n",
    "    \"\"\"\n",
    "    \n",
    "    int_res = []\n",
    "    rate = []\n",
    "    exp = []\n",
    "    df = dataframe.groupby(['rate', 'exp'])\n",
    "    \n",
    "    for i, (n,gr) in enumerate(df):\n",
    "#        int_res.append(integrate.trapz(gr['fraction'],gr.index.get_level_values('frame')))\n",
    "        int_res.append(integrate.trapz(gr['fraction'], dx = 1))\n",
    "\n",
    "        rate.append(n[0])\n",
    "        exp.append(n[1])\n",
    "        \n",
    "    d = {'area': int_res, 'rate': rate, 'exp': exp}\n",
    "\n",
    "    df = pd.DataFrame(data=d)\n",
    "    \n",
    "    df = df.set_index(['rate','exp'])\n",
    "        \n",
    "    return df"
   ]
  },
  {
   "cell_type": "code",
   "execution_count": 61,
   "metadata": {},
   "outputs": [],
   "source": [
    "def mean_and_err(dataframe):\n",
    "    \n",
    "    \"\"\"\n",
    "    After the correction\n",
    "    \"\"\"\n",
    "    df = dataframe.groupby('rate')['area'].mean()\n",
    "    \n",
    "    df = df.to_frame()\n",
    "    df = df/dataframe.groupby(['rate']).count()\n",
    "    \n",
    "    df['err'] = dataframe.groupby('rate')['area'].std().to_frame()/np.sqrt(dataframe.groupby('rate').count())\n",
    "    \n",
    "    return df "
   ]
  },
  {
   "cell_type": "code",
   "execution_count": 62,
   "metadata": {},
   "outputs": [],
   "source": [
    "df_inc = trpz_integral(inc)\n",
    "df_dec = trpz_integral(dec)"
   ]
  },
  {
   "cell_type": "code",
   "execution_count": 63,
   "metadata": {},
   "outputs": [],
   "source": [
    "i = mean_and_err(df_inc)\n",
    "d = mean_and_err(df_dec)"
   ]
  },
  {
   "cell_type": "code",
   "execution_count": 64,
   "metadata": {},
   "outputs": [],
   "source": [
    "a = (d['area'])-(i['area'])\n",
    "b = (i['area'])-(d['area'])"
   ]
  },
  {
   "cell_type": "code",
   "execution_count": 65,
   "metadata": {},
   "outputs": [],
   "source": [
    "a = a.to_frame()\n",
    "b = b.to_frame()"
   ]
  },
  {
   "cell_type": "code",
   "execution_count": 66,
   "metadata": {},
   "outputs": [],
   "source": [
    "a['err'] = i['err']+d['err']\n",
    "b['err'] = i['err']+d['err']"
   ]
  },
  {
   "cell_type": "markdown",
   "metadata": {},
   "source": [
    "### 3. Plotting the resulting data "
   ]
  },
  {
   "cell_type": "code",
   "execution_count": 129,
   "metadata": {},
   "outputs": [
    {
     "data": {
      "image/png": "[encoded data removed]",
      "text/plain": [
       "<Figure size 400x400 with 1 Axes>"
      ]
     },
     "metadata": {
      "needs_background": "light"
     },
     "output_type": "display_data"
    }
   ],
   "source": [
    "plt.figure(figsize = (4,4))\n",
    "plt.errorbar(a.index.get_level_values('rate'), a['area'],yerr = a['err'], fmt= 'o', markersize = 7, color = 'blue')\n",
    "\n",
    "plt.xlabel(r'$ \\alpha_{B} $', size = 20)\n",
    "plt.ylabel('$|\\chi|$', size = 20)\n",
    "\n",
    "plt.tick_params(axis='y', labelsize=20)\n",
    "plt.tick_params(axis='x', labelsize=20)\n",
    "\n",
    "plt.savefig('chi_vs_rate.png')"
   ]
  },
  {
   "cell_type": "code",
   "execution_count": 68,
   "metadata": {},
   "outputs": [
    {
     "name": "stderr",
     "output_type": "stream",
     "text": [
      "/home/carolina/anaconda3/lib/python3.7/site-packages/pandas/core/series.py:679: RuntimeWarning: invalid value encountered in log\n",
      "  result = getattr(ufunc, method)(*inputs, **kwargs)\n"
     ]
    },
    {
     "data": {
      "text/html": [
       "<div>\n",
       "<style scoped>\n",
       "    .dataframe tbody tr th:only-of-type {\n",
       "        vertical-align: middle;\n",
       "    }\n",
       "\n",
       "    .dataframe tbody tr th {\n",
       "        vertical-align: top;\n",
       "    }\n",
       "\n",
       "    .dataframe thead th {\n",
       "        text-align: right;\n",
       "    }\n",
       "</style>\n",
       "<table border=\"1\" class=\"dataframe\">\n",
       "  <thead>\n",
       "    <tr style=\"text-align: right;\">\n",
       "      <th></th>\n",
       "      <th>area</th>\n",
       "      <th>err</th>\n",
       "      <th>log A</th>\n",
       "      <th>log err</th>\n",
       "      <th>log rate</th>\n",
       "    </tr>\n",
       "    <tr>\n",
       "      <th>rate</th>\n",
       "      <th></th>\n",
       "      <th></th>\n",
       "      <th></th>\n",
       "      <th></th>\n",
       "      <th></th>\n",
       "    </tr>\n",
       "  </thead>\n",
       "  <tbody>\n",
       "    <tr>\n",
       "      <th>0.010000</th>\n",
       "      <td>15.939975</td>\n",
       "      <td>9.859094</td>\n",
       "      <td>2.768830</td>\n",
       "      <td>0.268435</td>\n",
       "      <td>-4.605170</td>\n",
       "    </tr>\n",
       "    <tr>\n",
       "      <th>0.019484</th>\n",
       "      <td>8.802813</td>\n",
       "      <td>6.536927</td>\n",
       "      <td>2.175071</td>\n",
       "      <td>0.322286</td>\n",
       "      <td>-3.938162</td>\n",
       "    </tr>\n",
       "    <tr>\n",
       "      <th>0.024483</th>\n",
       "      <td>6.261488</td>\n",
       "      <td>3.604256</td>\n",
       "      <td>1.834418</td>\n",
       "      <td>0.249820</td>\n",
       "      <td>-3.709776</td>\n",
       "    </tr>\n",
       "    <tr>\n",
       "      <th>0.034483</th>\n",
       "      <td>4.002107</td>\n",
       "      <td>3.187226</td>\n",
       "      <td>1.386821</td>\n",
       "      <td>0.345632</td>\n",
       "      <td>-3.367289</td>\n",
       "    </tr>\n",
       "    <tr>\n",
       "      <th>0.050000</th>\n",
       "      <td>2.611250</td>\n",
       "      <td>2.226146</td>\n",
       "      <td>0.959829</td>\n",
       "      <td>0.369994</td>\n",
       "      <td>-2.995732</td>\n",
       "    </tr>\n",
       "    <tr>\n",
       "      <th>0.059488</th>\n",
       "      <td>2.200275</td>\n",
       "      <td>1.376409</td>\n",
       "      <td>0.788582</td>\n",
       "      <td>0.271494</td>\n",
       "      <td>-2.821981</td>\n",
       "    </tr>\n",
       "    <tr>\n",
       "      <th>0.068966</th>\n",
       "      <td>1.971725</td>\n",
       "      <td>1.302686</td>\n",
       "      <td>0.678909</td>\n",
       "      <td>0.286737</td>\n",
       "      <td>-2.674142</td>\n",
       "    </tr>\n",
       "    <tr>\n",
       "      <th>0.100000</th>\n",
       "      <td>0.910488</td>\n",
       "      <td>1.151609</td>\n",
       "      <td>-0.093775</td>\n",
       "      <td>0.548935</td>\n",
       "      <td>-2.302585</td>\n",
       "    </tr>\n",
       "    <tr>\n",
       "      <th>0.206186</th>\n",
       "      <td>0.155275</td>\n",
       "      <td>0.326094</td>\n",
       "      <td>-1.862558</td>\n",
       "      <td>0.911447</td>\n",
       "      <td>-1.578977</td>\n",
       "    </tr>\n",
       "    <tr>\n",
       "      <th>0.307692</th>\n",
       "      <td>-0.002600</td>\n",
       "      <td>0.280279</td>\n",
       "      <td>NaN</td>\n",
       "      <td>-46.784955</td>\n",
       "      <td>-1.178656</td>\n",
       "    </tr>\n",
       "    <tr>\n",
       "      <th>0.400000</th>\n",
       "      <td>0.035150</td>\n",
       "      <td>0.220444</td>\n",
       "      <td>-3.348131</td>\n",
       "      <td>2.721841</td>\n",
       "      <td>-0.916291</td>\n",
       "    </tr>\n",
       "    <tr>\n",
       "      <th>0.500000</th>\n",
       "      <td>0.031825</td>\n",
       "      <td>0.232086</td>\n",
       "      <td>-3.447503</td>\n",
       "      <td>3.164974</td>\n",
       "      <td>-0.693147</td>\n",
       "    </tr>\n",
       "    <tr>\n",
       "      <th>0.606061</th>\n",
       "      <td>0.048075</td>\n",
       "      <td>0.141573</td>\n",
       "      <td>-3.034993</td>\n",
       "      <td>1.278059</td>\n",
       "      <td>-0.500775</td>\n",
       "    </tr>\n",
       "    <tr>\n",
       "      <th>0.714286</th>\n",
       "      <td>0.035962</td>\n",
       "      <td>0.092184</td>\n",
       "      <td>-3.325279</td>\n",
       "      <td>1.112489</td>\n",
       "      <td>-0.336472</td>\n",
       "    </tr>\n",
       "    <tr>\n",
       "      <th>0.800000</th>\n",
       "      <td>0.053037</td>\n",
       "      <td>0.158853</td>\n",
       "      <td>-2.936756</td>\n",
       "      <td>1.299877</td>\n",
       "      <td>-0.223144</td>\n",
       "    </tr>\n",
       "    <tr>\n",
       "      <th>0.909091</th>\n",
       "      <td>0.075400</td>\n",
       "      <td>0.151604</td>\n",
       "      <td>-2.584948</td>\n",
       "      <td>0.872628</td>\n",
       "      <td>-0.095310</td>\n",
       "    </tr>\n",
       "    <tr>\n",
       "      <th>1.000000</th>\n",
       "      <td>0.137875</td>\n",
       "      <td>0.098990</td>\n",
       "      <td>-1.981408</td>\n",
       "      <td>0.311599</td>\n",
       "      <td>0.000000</td>\n",
       "    </tr>\n",
       "  </tbody>\n",
       "</table>\n",
       "</div>"
      ],
      "text/plain": [
       "               area       err     log A    log err  log rate\n",
       "rate                                                        \n",
       "0.010000  15.939975  9.859094  2.768830   0.268435 -4.605170\n",
       "0.019484   8.802813  6.536927  2.175071   0.322286 -3.938162\n",
       "0.024483   6.261488  3.604256  1.834418   0.249820 -3.709776\n",
       "0.034483   4.002107  3.187226  1.386821   0.345632 -3.367289\n",
       "0.050000   2.611250  2.226146  0.959829   0.369994 -2.995732\n",
       "0.059488   2.200275  1.376409  0.788582   0.271494 -2.821981\n",
       "0.068966   1.971725  1.302686  0.678909   0.286737 -2.674142\n",
       "0.100000   0.910488  1.151609 -0.093775   0.548935 -2.302585\n",
       "0.206186   0.155275  0.326094 -1.862558   0.911447 -1.578977\n",
       "0.307692  -0.002600  0.280279       NaN -46.784955 -1.178656\n",
       "0.400000   0.035150  0.220444 -3.348131   2.721841 -0.916291\n",
       "0.500000   0.031825  0.232086 -3.447503   3.164974 -0.693147\n",
       "0.606061   0.048075  0.141573 -3.034993   1.278059 -0.500775\n",
       "0.714286   0.035962  0.092184 -3.325279   1.112489 -0.336472\n",
       "0.800000   0.053037  0.158853 -2.936756   1.299877 -0.223144\n",
       "0.909091   0.075400  0.151604 -2.584948   0.872628 -0.095310\n",
       "1.000000   0.137875  0.098990 -1.981408   0.311599  0.000000"
      ]
     },
     "execution_count": 68,
     "metadata": {},
     "output_type": "execute_result"
    }
   ],
   "source": [
    "a['log A'] = np.log(a['area'])\n",
    "a['log err'] = a['err']*0.434/a['area']\n",
    "a['log rate'] = np.log(a.index.get_level_values('rate'))\n",
    "a"
   ]
  },
  {
   "cell_type": "code",
   "execution_count": 69,
   "metadata": {},
   "outputs": [
    {
     "data": {
      "image/png": "[encoded data removed]",
      "text/plain": [
       "<Figure size 600x400 with 1 Axes>"
      ]
     },
     "metadata": {
      "needs_background": "light"
     },
     "output_type": "display_data"
    }
   ],
   "source": [
    "@plt.FuncFormatter\n",
    "def fake_log(x, pos):\n",
    "    'The two args are the value and tick position'\n",
    "    return r'$10^{%d}$' % (x)\n",
    "\n",
    " \n",
    "\n",
    "fig, (ax1) = plt.subplots()\n",
    "ax1.errorbar(a['log rate'],a['log A'], yerr = a['log err'] ,fmt ='o', color = 'blue')\n",
    "\n",
    "ax1.xaxis.set_major_formatter(fake_log)\n",
    "ax1.yaxis.set_major_formatter(fake_log)\n",
    "ax1.set_xlabel(r'$ \\alpha_{B} $', size = 20)\n",
    "ax1.set_ylabel('$|\\chi|$', size = 20)\n",
    "\n",
    "\n",
    "ax1.tick_params(axis='y', labelsize=20)\n",
    "ax1.tick_params(axis='x', labelsize=20)\n",
    "plt.gca().set_aspect('equal', adjustable='box')"
   ]
  },
  {
   "cell_type": "markdown",
   "metadata": {},
   "source": [
    "### 4. Fitting data in LogLog"
   ]
  },
  {
   "cell_type": "code",
   "execution_count": 70,
   "metadata": {},
   "outputs": [],
   "source": [
    "from sklearn.linear_model import LinearRegression"
   ]
  },
  {
   "cell_type": "code",
   "execution_count": 71,
   "metadata": {},
   "outputs": [
    {
     "name": "stderr",
     "output_type": "stream",
     "text": [
      "/home/carolina/anaconda3/lib/python3.7/site-packages/ipykernel_launcher.py:2: SettingWithCopyWarning: \n",
      "A value is trying to be set on a copy of a slice from a DataFrame.\n",
      "Try using .loc[row_indexer,col_indexer] = value instead\n",
      "\n",
      "See the caveats in the documentation: https://pandas.pydata.org/pandas-docs/stable/user_guide/indexing.html#returning-a-view-versus-a-copy\n",
      "  \n",
      "/home/carolina/anaconda3/lib/python3.7/site-packages/ipykernel_launcher.py:3: SettingWithCopyWarning: \n",
      "A value is trying to be set on a copy of a slice from a DataFrame.\n",
      "Try using .loc[row_indexer,col_indexer] = value instead\n",
      "\n",
      "See the caveats in the documentation: https://pandas.pydata.org/pandas-docs/stable/user_guide/indexing.html#returning-a-view-versus-a-copy\n",
      "  This is separate from the ipykernel package so we can avoid doing imports until\n",
      "/home/carolina/anaconda3/lib/python3.7/site-packages/ipykernel_launcher.py:4: SettingWithCopyWarning: \n",
      "A value is trying to be set on a copy of a slice from a DataFrame.\n",
      "Try using .loc[row_indexer,col_indexer] = value instead\n",
      "\n",
      "See the caveats in the documentation: https://pandas.pydata.org/pandas-docs/stable/user_guide/indexing.html#returning-a-view-versus-a-copy\n",
      "  after removing the cwd from sys.path.\n"
     ]
    }
   ],
   "source": [
    "a_fit = a.loc[a.index.get_level_values('rate') < 0.1]\n",
    "a_fit['log rate'] = np.log(a_fit.index.get_level_values('rate'))\n",
    "a_fit['log A'] = np.log(a_fit['area'])\n",
    "a_fit['log err'] = np.log(a_fit['err'])"
   ]
  },
  {
   "cell_type": "code",
   "execution_count": 72,
   "metadata": {},
   "outputs": [],
   "source": [
    "x = a_fit['log rate'].values.reshape((-1, 1))\n",
    "y = a_fit['log A'].values\n",
    "model = LinearRegression()"
   ]
  },
  {
   "cell_type": "code",
   "execution_count": 73,
   "metadata": {},
   "outputs": [
    {
     "name": "stdout",
     "output_type": "stream",
     "text": [
      "coefficient of determination: 0.994580493052978\n",
      "intercept: -2.380649034861084\n",
      "slope: [-1.13042134]\n"
     ]
    }
   ],
   "source": [
    "model = LinearRegression().fit(x, y)\n",
    "\n",
    "r_sq = model.score(x, y)\n",
    "\n",
    "print('coefficient of determination:', r_sq)\n",
    "print('intercept:', model.intercept_)\n",
    "print('slope:', model.coef_)"
   ]
  },
  {
   "cell_type": "code",
   "execution_count": 74,
   "metadata": {},
   "outputs": [
    {
     "data": {
      "text/html": [
       "<div>\n",
       "<style scoped>\n",
       "    .dataframe tbody tr th:only-of-type {\n",
       "        vertical-align: middle;\n",
       "    }\n",
       "\n",
       "    .dataframe tbody tr th {\n",
       "        vertical-align: top;\n",
       "    }\n",
       "\n",
       "    .dataframe thead th {\n",
       "        text-align: right;\n",
       "    }\n",
       "</style>\n",
       "<table border=\"1\" class=\"dataframe\">\n",
       "  <thead>\n",
       "    <tr style=\"text-align: right;\">\n",
       "      <th></th>\n",
       "      <th>area</th>\n",
       "      <th>err</th>\n",
       "      <th>log A</th>\n",
       "      <th>log err</th>\n",
       "      <th>log rate</th>\n",
       "    </tr>\n",
       "    <tr>\n",
       "      <th>rate</th>\n",
       "      <th></th>\n",
       "      <th></th>\n",
       "      <th></th>\n",
       "      <th></th>\n",
       "      <th></th>\n",
       "    </tr>\n",
       "  </thead>\n",
       "  <tbody>\n",
       "    <tr>\n",
       "      <th>0.010000</th>\n",
       "      <td>15.939975</td>\n",
       "      <td>9.859094</td>\n",
       "      <td>2.768830</td>\n",
       "      <td>2.288394</td>\n",
       "      <td>-4.605170</td>\n",
       "    </tr>\n",
       "    <tr>\n",
       "      <th>0.019484</th>\n",
       "      <td>8.802813</td>\n",
       "      <td>6.536927</td>\n",
       "      <td>2.175071</td>\n",
       "      <td>1.877467</td>\n",
       "      <td>-3.938162</td>\n",
       "    </tr>\n",
       "    <tr>\n",
       "      <th>0.024483</th>\n",
       "      <td>6.261488</td>\n",
       "      <td>3.604256</td>\n",
       "      <td>1.834418</td>\n",
       "      <td>1.282115</td>\n",
       "      <td>-3.709776</td>\n",
       "    </tr>\n",
       "    <tr>\n",
       "      <th>0.034483</th>\n",
       "      <td>4.002107</td>\n",
       "      <td>3.187226</td>\n",
       "      <td>1.386821</td>\n",
       "      <td>1.159151</td>\n",
       "      <td>-3.367289</td>\n",
       "    </tr>\n",
       "    <tr>\n",
       "      <th>0.050000</th>\n",
       "      <td>2.611250</td>\n",
       "      <td>2.226146</td>\n",
       "      <td>0.959829</td>\n",
       "      <td>0.800272</td>\n",
       "      <td>-2.995732</td>\n",
       "    </tr>\n",
       "    <tr>\n",
       "      <th>0.059488</th>\n",
       "      <td>2.200275</td>\n",
       "      <td>1.376409</td>\n",
       "      <td>0.788582</td>\n",
       "      <td>0.319478</td>\n",
       "      <td>-2.821981</td>\n",
       "    </tr>\n",
       "    <tr>\n",
       "      <th>0.068966</th>\n",
       "      <td>1.971725</td>\n",
       "      <td>1.302686</td>\n",
       "      <td>0.678909</td>\n",
       "      <td>0.264428</td>\n",
       "      <td>-2.674142</td>\n",
       "    </tr>\n",
       "  </tbody>\n",
       "</table>\n",
       "</div>"
      ],
      "text/plain": [
       "               area       err     log A   log err  log rate\n",
       "rate                                                       \n",
       "0.010000  15.939975  9.859094  2.768830  2.288394 -4.605170\n",
       "0.019484   8.802813  6.536927  2.175071  1.877467 -3.938162\n",
       "0.024483   6.261488  3.604256  1.834418  1.282115 -3.709776\n",
       "0.034483   4.002107  3.187226  1.386821  1.159151 -3.367289\n",
       "0.050000   2.611250  2.226146  0.959829  0.800272 -2.995732\n",
       "0.059488   2.200275  1.376409  0.788582  0.319478 -2.821981\n",
       "0.068966   1.971725  1.302686  0.678909  0.264428 -2.674142"
      ]
     },
     "execution_count": 74,
     "metadata": {},
     "output_type": "execute_result"
    }
   ],
   "source": [
    "a_fit"
   ]
  },
  {
   "cell_type": "code",
   "execution_count": 83,
   "metadata": {},
   "outputs": [],
   "source": [
    "a['y'] = -1.13042134*a['log rate']"
   ]
  },
  {
   "cell_type": "code",
   "execution_count": 84,
   "metadata": {},
   "outputs": [
    {
     "data": {
      "text/html": [
       "<div>\n",
       "<style scoped>\n",
       "    .dataframe tbody tr th:only-of-type {\n",
       "        vertical-align: middle;\n",
       "    }\n",
       "\n",
       "    .dataframe tbody tr th {\n",
       "        vertical-align: top;\n",
       "    }\n",
       "\n",
       "    .dataframe thead th {\n",
       "        text-align: right;\n",
       "    }\n",
       "</style>\n",
       "<table border=\"1\" class=\"dataframe\">\n",
       "  <thead>\n",
       "    <tr style=\"text-align: right;\">\n",
       "      <th></th>\n",
       "      <th>area</th>\n",
       "      <th>err</th>\n",
       "      <th>log A</th>\n",
       "      <th>log err</th>\n",
       "      <th>log rate</th>\n",
       "      <th>y</th>\n",
       "    </tr>\n",
       "    <tr>\n",
       "      <th>rate</th>\n",
       "      <th></th>\n",
       "      <th></th>\n",
       "      <th></th>\n",
       "      <th></th>\n",
       "      <th></th>\n",
       "      <th></th>\n",
       "    </tr>\n",
       "  </thead>\n",
       "  <tbody>\n",
       "    <tr>\n",
       "      <th>0.010000</th>\n",
       "      <td>15.939975</td>\n",
       "      <td>9.859094</td>\n",
       "      <td>2.768830</td>\n",
       "      <td>0.268435</td>\n",
       "      <td>-4.605170</td>\n",
       "      <td>5.205783</td>\n",
       "    </tr>\n",
       "    <tr>\n",
       "      <th>0.019484</th>\n",
       "      <td>8.802813</td>\n",
       "      <td>6.536927</td>\n",
       "      <td>2.175071</td>\n",
       "      <td>0.322286</td>\n",
       "      <td>-3.938162</td>\n",
       "      <td>4.451782</td>\n",
       "    </tr>\n",
       "    <tr>\n",
       "      <th>0.024483</th>\n",
       "      <td>6.261488</td>\n",
       "      <td>3.604256</td>\n",
       "      <td>1.834418</td>\n",
       "      <td>0.249820</td>\n",
       "      <td>-3.709776</td>\n",
       "      <td>4.193610</td>\n",
       "    </tr>\n",
       "    <tr>\n",
       "      <th>0.034483</th>\n",
       "      <td>4.002107</td>\n",
       "      <td>3.187226</td>\n",
       "      <td>1.386821</td>\n",
       "      <td>0.345632</td>\n",
       "      <td>-3.367289</td>\n",
       "      <td>3.806455</td>\n",
       "    </tr>\n",
       "    <tr>\n",
       "      <th>0.050000</th>\n",
       "      <td>2.611250</td>\n",
       "      <td>2.226146</td>\n",
       "      <td>0.959829</td>\n",
       "      <td>0.369994</td>\n",
       "      <td>-2.995732</td>\n",
       "      <td>3.386440</td>\n",
       "    </tr>\n",
       "    <tr>\n",
       "      <th>0.059488</th>\n",
       "      <td>2.200275</td>\n",
       "      <td>1.376409</td>\n",
       "      <td>0.788582</td>\n",
       "      <td>0.271494</td>\n",
       "      <td>-2.821981</td>\n",
       "      <td>3.190027</td>\n",
       "    </tr>\n",
       "    <tr>\n",
       "      <th>0.068966</th>\n",
       "      <td>1.971725</td>\n",
       "      <td>1.302686</td>\n",
       "      <td>0.678909</td>\n",
       "      <td>0.286737</td>\n",
       "      <td>-2.674142</td>\n",
       "      <td>3.022907</td>\n",
       "    </tr>\n",
       "    <tr>\n",
       "      <th>0.100000</th>\n",
       "      <td>0.910488</td>\n",
       "      <td>1.151609</td>\n",
       "      <td>-0.093775</td>\n",
       "      <td>0.548935</td>\n",
       "      <td>-2.302585</td>\n",
       "      <td>2.602891</td>\n",
       "    </tr>\n",
       "    <tr>\n",
       "      <th>0.206186</th>\n",
       "      <td>0.155275</td>\n",
       "      <td>0.326094</td>\n",
       "      <td>-1.862558</td>\n",
       "      <td>0.911447</td>\n",
       "      <td>-1.578977</td>\n",
       "      <td>1.784909</td>\n",
       "    </tr>\n",
       "    <tr>\n",
       "      <th>0.307692</th>\n",
       "      <td>-0.002600</td>\n",
       "      <td>0.280279</td>\n",
       "      <td>NaN</td>\n",
       "      <td>-46.784955</td>\n",
       "      <td>-1.178656</td>\n",
       "      <td>1.332378</td>\n",
       "    </tr>\n",
       "    <tr>\n",
       "      <th>0.400000</th>\n",
       "      <td>0.035150</td>\n",
       "      <td>0.220444</td>\n",
       "      <td>-3.348131</td>\n",
       "      <td>2.721841</td>\n",
       "      <td>-0.916291</td>\n",
       "      <td>1.035795</td>\n",
       "    </tr>\n",
       "    <tr>\n",
       "      <th>0.500000</th>\n",
       "      <td>0.031825</td>\n",
       "      <td>0.232086</td>\n",
       "      <td>-3.447503</td>\n",
       "      <td>3.164974</td>\n",
       "      <td>-0.693147</td>\n",
       "      <td>0.783548</td>\n",
       "    </tr>\n",
       "    <tr>\n",
       "      <th>0.606061</th>\n",
       "      <td>0.048075</td>\n",
       "      <td>0.141573</td>\n",
       "      <td>-3.034993</td>\n",
       "      <td>1.278059</td>\n",
       "      <td>-0.500775</td>\n",
       "      <td>0.566086</td>\n",
       "    </tr>\n",
       "    <tr>\n",
       "      <th>0.714286</th>\n",
       "      <td>0.035962</td>\n",
       "      <td>0.092184</td>\n",
       "      <td>-3.325279</td>\n",
       "      <td>1.112489</td>\n",
       "      <td>-0.336472</td>\n",
       "      <td>0.380355</td>\n",
       "    </tr>\n",
       "    <tr>\n",
       "      <th>0.800000</th>\n",
       "      <td>0.053037</td>\n",
       "      <td>0.158853</td>\n",
       "      <td>-2.936756</td>\n",
       "      <td>1.299877</td>\n",
       "      <td>-0.223144</td>\n",
       "      <td>0.252246</td>\n",
       "    </tr>\n",
       "    <tr>\n",
       "      <th>0.909091</th>\n",
       "      <td>0.075400</td>\n",
       "      <td>0.151604</td>\n",
       "      <td>-2.584948</td>\n",
       "      <td>0.872628</td>\n",
       "      <td>-0.095310</td>\n",
       "      <td>0.107741</td>\n",
       "    </tr>\n",
       "    <tr>\n",
       "      <th>1.000000</th>\n",
       "      <td>0.137875</td>\n",
       "      <td>0.098990</td>\n",
       "      <td>-1.981408</td>\n",
       "      <td>0.311599</td>\n",
       "      <td>0.000000</td>\n",
       "      <td>-0.000000</td>\n",
       "    </tr>\n",
       "  </tbody>\n",
       "</table>\n",
       "</div>"
      ],
      "text/plain": [
       "               area       err     log A    log err  log rate         y\n",
       "rate                                                                  \n",
       "0.010000  15.939975  9.859094  2.768830   0.268435 -4.605170  5.205783\n",
       "0.019484   8.802813  6.536927  2.175071   0.322286 -3.938162  4.451782\n",
       "0.024483   6.261488  3.604256  1.834418   0.249820 -3.709776  4.193610\n",
       "0.034483   4.002107  3.187226  1.386821   0.345632 -3.367289  3.806455\n",
       "0.050000   2.611250  2.226146  0.959829   0.369994 -2.995732  3.386440\n",
       "0.059488   2.200275  1.376409  0.788582   0.271494 -2.821981  3.190027\n",
       "0.068966   1.971725  1.302686  0.678909   0.286737 -2.674142  3.022907\n",
       "0.100000   0.910488  1.151609 -0.093775   0.548935 -2.302585  2.602891\n",
       "0.206186   0.155275  0.326094 -1.862558   0.911447 -1.578977  1.784909\n",
       "0.307692  -0.002600  0.280279       NaN -46.784955 -1.178656  1.332378\n",
       "0.400000   0.035150  0.220444 -3.348131   2.721841 -0.916291  1.035795\n",
       "0.500000   0.031825  0.232086 -3.447503   3.164974 -0.693147  0.783548\n",
       "0.606061   0.048075  0.141573 -3.034993   1.278059 -0.500775  0.566086\n",
       "0.714286   0.035962  0.092184 -3.325279   1.112489 -0.336472  0.380355\n",
       "0.800000   0.053037  0.158853 -2.936756   1.299877 -0.223144  0.252246\n",
       "0.909091   0.075400  0.151604 -2.584948   0.872628 -0.095310  0.107741\n",
       "1.000000   0.137875  0.098990 -1.981408   0.311599  0.000000 -0.000000"
      ]
     },
     "execution_count": 84,
     "metadata": {},
     "output_type": "execute_result"
    }
   ],
   "source": [
    "a"
   ]
  },
  {
   "cell_type": "code",
   "execution_count": null,
   "metadata": {},
   "outputs": [],
   "source": []
  },
  {
   "cell_type": "code",
   "execution_count": 85,
   "metadata": {},
   "outputs": [
    {
     "data": {
      "text/plain": [
       "[<matplotlib.lines.Line2D at 0x7fe8138cae50>]"
      ]
     },
     "execution_count": 85,
     "metadata": {},
     "output_type": "execute_result"
    },
    {
     "data": {
      "image/png": "[encoded data removed]",
      "text/plain": [
       "<Figure size 600x400 with 1 Axes>"
      ]
     },
     "metadata": {
      "needs_background": "light"
     },
     "output_type": "display_data"
    }
   ],
   "source": [
    "plt.errorbar(a['log rate'],a['log A'], yerr = a['log err'] ,fmt ='o', color = 'blue')\n",
    "\n",
    "# < Adding the fit >\n",
    "\n",
    "plt.plot(a['log rate'],a['y'] ,':', color = 'black')"
   ]
  },
  {
   "cell_type": "code",
   "execution_count": 128,
   "metadata": {},
   "outputs": [
    {
     "data": {
      "image/png": "[encoded data removed]",
      "text/plain": [
       "<Figure size 200x200 with 1 Axes>"
      ]
     },
     "metadata": {
      "needs_background": "light"
     },
     "output_type": "display_data"
    }
   ],
   "source": [
    "@plt.FuncFormatter\n",
    "def fake_log(x, pos):\n",
    "    'The two args are the value and tick position'\n",
    "    return r'$10^{%d}$' % (x)\n",
    "\n",
    "fig, (ax1) = plt.subplots(figsize = (2,2))\n",
    "\n",
    "ax1.errorbar(a['log rate'],a['log A'], yerr = a['log err'] ,fmt ='o', color = 'blue')\n",
    "\n",
    "# < Adding the fit >\n",
    "\n",
    "ax1.plot(a['log rate'],a['y'] ,':', color = 'black')\n",
    "\n",
    "ax1.xaxis.set_major_formatter(fake_log)\n",
    "ax1.yaxis.set_major_formatter(fake_log)\n",
    "ax1.set_xlabel(r'$ \\alpha_{B} $', size = 12)\n",
    "ax1.set_ylabel('$|\\chi|$', size = 12)\n",
    "\n",
    "ax1.text(-2, 3, r'$ \\alpha_{B}^{-1.13} $', fontsize=12)\n",
    "\n",
    "ax1.tick_params(axis='y', labelsize=12)\n",
    "ax1.tick_params(axis='x', labelsize=12)\n",
    "#plt.gca().set_aspect('equal', adjustable='box')\n",
    "plt.savefig('inset.png')"
   ]
  },
  {
   "cell_type": "code",
   "execution_count": null,
   "metadata": {},
   "outputs": [],
   "source": []
  }
 ],
 "metadata": {
  "kernelspec": {
   "display_name": "Python 3",
   "language": "python",
   "name": "python3"
  },
  "language_info": {
   "codemirror_mode": {
    "name": "ipython",
    "version": 3
   },
   "file_extension": ".py",
   "mimetype": "text/x-python",
   "name": "python",
   "nbconvert_exporter": "python",
   "pygments_lexer": "ipython3",
   "version": "3.7.6"
  }
 },
 "nbformat": 4,
 "nbformat_minor": 4
}
