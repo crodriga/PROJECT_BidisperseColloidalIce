{
 "cells": [
  {
   "cell_type": "code",
   "execution_count": 1,
   "metadata": {},
   "outputs": [],
   "source": [
    "import matplotlib.pyplot as plt\n",
    "import matplotlib as mpl"
   ]
  },
  {
   "cell_type": "code",
   "execution_count": 2,
   "metadata": {},
   "outputs": [],
   "source": [
    "from os import listdir\n",
    "from os.path import isfile, join\n",
    "import pandas as pd\n",
    "import fnmatch\n",
    "import numpy as np"
   ]
  },
  {
   "cell_type": "code",
   "execution_count": 3,
   "metadata": {},
   "outputs": [],
   "source": [
    "mpl.rc('text', usetex=False)\n",
    "mpl.rcParams['figure.dpi'] = 100\n",
    "\n",
    "mpl.rcParams['font.family'] = 'serif'"
   ]
  },
  {
   "cell_type": "markdown",
   "metadata": {},
   "source": [
    "# Spin Overlap Parameter"
   ]
  },
  {
   "cell_type": "code",
   "execution_count": 4,
   "metadata": {},
   "outputs": [],
   "source": [
    "data = 'Data_RPM'"
   ]
  },
  {
   "cell_type": "markdown",
   "metadata": {},
   "source": [
    "Reading the data"
   ]
  },
  {
   "cell_type": "code",
   "execution_count": 8,
   "metadata": {},
   "outputs": [
    {
     "name": "stdout",
     "output_type": "stream",
     "text": [
      "Spins_short_100mT_EXP3\n",
      "Spins_short_100mT_EXP2\n",
      "Spins_short_100mT_EXP0\n",
      "Spins_short_100mT_EXP1\n",
      "Spins_short_100mT_EXP4\n"
     ]
    }
   ],
   "source": [
    "df_s = []\n",
    "df_l = []\n",
    "for f in listdir(data):\n",
    "    if fnmatch.fnmatch(f, 'Spins_short_100mT_EXP*'):\n",
    "        print(f)\n",
    "        df_s.append(pd.read_csv(join(data,f), sep = \"\\t\", index_col = [0,1]))\n",
    "    if fnmatch.fnmatch(f, 'Spins_long_100mT_EXP*'):\n",
    "        df_l.append(pd.read_csv(join(data,f), sep = \"\\t\", index_col = [0,1]))\n",
    "\n",
    "keys = []\n",
    "for i in range(len(df_s)):\n",
    "    keys.append(i)"
   ]
  },
  {
   "cell_type": "code",
   "execution_count": 9,
   "metadata": {},
   "outputs": [],
   "source": [
    "short = pd.concat(df_s, keys = keys)\n",
    "long = pd.concat(df_l, keys = keys)"
   ]
  },
  {
   "cell_type": "code",
   "execution_count": 10,
   "metadata": {},
   "outputs": [],
   "source": [
    "short.index = short.index.rename([\"exp\", \"frame\", \"id\"])"
   ]
  },
  {
   "cell_type": "code",
   "execution_count": 11,
   "metadata": {},
   "outputs": [
    {
     "data": {
      "text/plain": [
       "Int64Index([457100, 628500, 799900, 971300, 1142700, 1314100, 1485500, 1656900,\n",
       "            1828300],\n",
       "           dtype='int64', name='frame')"
      ]
     },
     "execution_count": 11,
     "metadata": {},
     "output_type": "execute_result"
    }
   ],
   "source": [
    "short.index.unique('frame')"
   ]
  },
  {
   "cell_type": "markdown",
   "metadata": {},
   "source": [
    "Multipliying the spins direction at differet cycles values"
   ]
  },
  {
   "cell_type": "code",
   "execution_count": 9,
   "metadata": {},
   "outputs": [],
   "source": [
    "def Spm(df, i):\n",
    "    \n",
    "    q1 = df.loc[(i,457100)]*df.loc[(i,628500)]\n",
    "    q2 = df.loc[(i,542800)]*df.loc[(i,714200)]\n",
    "    q3 = df.loc[(i,714200)]*df.loc[(i,885600)]\n",
    "    q4 = df.loc[(i,885600)]*df.loc[(i,1057000)]\n",
    "    q5 = df.loc[(i,1057000)]*df.loc[(i,1228400)]\n",
    "    q6 = df.loc[(i,1228400)]*df.loc[(i,1399800)]\n",
    "    q7 = df.loc[(i,1399800)]*df.loc[(i,1571200)]\n",
    "    q8 = df.loc[(i,1571200)]*df.loc[(i,1742600)]\n",
    "\n",
    "    q = [q1,q2,q3,q4,q5,q6,q7,q8]\n",
    "    \n",
    "    a = []\n",
    "    for i in q:\n",
    "\n",
    "\n",
    "        a.append((i.sum()/i.count()).values)\n",
    "    \n",
    "    return a"
   ]
  },
  {
   "cell_type": "markdown",
   "metadata": {},
   "source": [
    "Doing the same for each experiment (Here N = 10)"
   ]
  },
  {
   "cell_type": "code",
   "execution_count": 10,
   "metadata": {},
   "outputs": [],
   "source": [
    "def order_data(df):\n",
    "    \n",
    "    exp0 = Spm(df,0)\n",
    "    exp1 = Spm(df,1)\n",
    "    exp2 = Spm(df,2)\n",
    "    exp3 = Spm(df,3)\n",
    "    exp4 = Spm(df,4)\n",
    "    exp5 = Spm(df,5)\n",
    "    exp6 = Spm(df,6)\n",
    "    exp7 = Spm(df,7)\n",
    "    exp8 = Spm(df,8)\n",
    "    exp9 = Spm(df,9)\n",
    "    \n",
    "    exp_f = [exp0,exp1,exp2,exp3,exp4,exp5,exp6,exp7,exp8,exp9]\n",
    "    \n",
    "    return exp_f\n",
    "    "
   ]
  },
  {
   "cell_type": "code",
   "execution_count": 11,
   "metadata": {},
   "outputs": [],
   "source": [
    "df_s = order_data(short)\n",
    "df_l = order_data(long)"
   ]
  },
  {
   "cell_type": "markdown",
   "metadata": {},
   "source": [
    "Obtaining the mean value of the Spin Overlap Function over N = 10 experiments"
   ]
  },
  {
   "cell_type": "code",
   "execution_count": 27,
   "metadata": {},
   "outputs": [],
   "source": [
    "q_f = []\n",
    "q_err_f = []\n",
    "\n",
    "def mean_data_and_err(df):\n",
    "    \n",
    "    q = np.mean(df, axis = 0)\n",
    "    q_err = np.std(df,axis = 0)/np.sqrt(len(q))\n",
    "    \n",
    "    q_f = q.flatten()\n",
    "    q_err_f = q_err.flatten()\n",
    "    \n",
    "    return q_f, q_err_f"
   ]
  },
  {
   "cell_type": "code",
   "execution_count": 28,
   "metadata": {},
   "outputs": [],
   "source": [
    "q_s, q_s_err = mean_data_and_err(df_s)\n",
    "q_l, q_l_err = mean_data_and_err(df_l)\n"
   ]
  },
  {
   "cell_type": "code",
   "execution_count": 29,
   "metadata": {},
   "outputs": [
    {
     "data": {
      "text/plain": [
       "array([0.29158924, 0.33870267, 0.375074  , 0.37383006, 0.36157025,\n",
       "       0.38553719, 0.38086512, 0.36640744])"
      ]
     },
     "execution_count": 29,
     "metadata": {},
     "output_type": "execute_result"
    }
   ],
   "source": [
    "q_s.flatten()"
   ]
  },
  {
   "cell_type": "code",
   "execution_count": 31,
   "metadata": {},
   "outputs": [],
   "source": [
    "d1 = {'S': q_s, 'err': q_s_err}\n",
    "d2 = {'S': q_l, 'err': q_l_err}\n",
    "\n",
    "\n",
    "df_s = pd.DataFrame(data=d1)\n",
    "df_l = pd.DataFrame(data=d2)"
   ]
  },
  {
   "cell_type": "code",
   "execution_count": 33,
   "metadata": {},
   "outputs": [],
   "source": [
    "df_l.to_csv(\"SpinOverlapParameter_LongTraps_at_130mT\", sep = \"\\t\")\n",
    "df_s.to_csv(\"SpinOverlapParameter_ShortTraps_at_130mT\", sep = \"\\t\")"
   ]
  },
  {
   "cell_type": "code",
   "execution_count": 36,
   "metadata": {},
   "outputs": [
    {
     "data": {
      "text/html": [
       "<div>\n",
       "<style scoped>\n",
       "    .dataframe tbody tr th:only-of-type {\n",
       "        vertical-align: middle;\n",
       "    }\n",
       "\n",
       "    .dataframe tbody tr th {\n",
       "        vertical-align: top;\n",
       "    }\n",
       "\n",
       "    .dataframe thead th {\n",
       "        text-align: right;\n",
       "    }\n",
       "</style>\n",
       "<table border=\"1\" class=\"dataframe\">\n",
       "  <thead>\n",
       "    <tr style=\"text-align: right;\">\n",
       "      <th></th>\n",
       "      <th>S</th>\n",
       "      <th>err</th>\n",
       "    </tr>\n",
       "  </thead>\n",
       "  <tbody>\n",
       "    <tr>\n",
       "      <th>0</th>\n",
       "      <td>0.354132</td>\n",
       "      <td>0.021393</td>\n",
       "    </tr>\n",
       "    <tr>\n",
       "      <th>1</th>\n",
       "      <td>0.432528</td>\n",
       "      <td>0.019943</td>\n",
       "    </tr>\n",
       "    <tr>\n",
       "      <th>2</th>\n",
       "      <td>0.448338</td>\n",
       "      <td>0.016242</td>\n",
       "    </tr>\n",
       "    <tr>\n",
       "      <th>3</th>\n",
       "      <td>0.455863</td>\n",
       "      <td>0.013030</td>\n",
       "    </tr>\n",
       "    <tr>\n",
       "      <th>4</th>\n",
       "      <td>0.461983</td>\n",
       "      <td>0.012733</td>\n",
       "    </tr>\n",
       "    <tr>\n",
       "      <th>5</th>\n",
       "      <td>0.478099</td>\n",
       "      <td>0.017063</td>\n",
       "    </tr>\n",
       "    <tr>\n",
       "      <th>6</th>\n",
       "      <td>0.502479</td>\n",
       "      <td>0.018343</td>\n",
       "    </tr>\n",
       "    <tr>\n",
       "      <th>7</th>\n",
       "      <td>0.485124</td>\n",
       "      <td>0.018215</td>\n",
       "    </tr>\n",
       "  </tbody>\n",
       "</table>\n",
       "</div>"
      ],
      "text/plain": [
       "          S       err\n",
       "0  0.354132  0.021393\n",
       "1  0.432528  0.019943\n",
       "2  0.448338  0.016242\n",
       "3  0.455863  0.013030\n",
       "4  0.461983  0.012733\n",
       "5  0.478099  0.017063\n",
       "6  0.502479  0.018343\n",
       "7  0.485124  0.018215"
      ]
     },
     "execution_count": 36,
     "metadata": {},
     "output_type": "execute_result"
    }
   ],
   "source": [
    "df_l"
   ]
  },
  {
   "cell_type": "markdown",
   "metadata": {},
   "source": [
    "Plotting results"
   ]
  },
  {
   "cell_type": "code",
   "execution_count": 34,
   "metadata": {},
   "outputs": [
    {
     "data": {
      "image/png": "[encoded data removed]",
      "text/plain": [
       "<Figure size 600x400 with 1 Axes>"
      ]
     },
     "metadata": {
      "needs_background": "light"
     },
     "output_type": "display_data"
    }
   ],
   "source": [
    "plt.errorbar(y = q_s, x = [0,1,2,3,4,5,6,7], yerr = q_s_err, label = 'short traps')\n",
    "plt.errorbar(y = q_l, x = [0,1,2,3,4,5,6,7], yerr = q_l_err, label = 'short traps')\n",
    "plt.xlabel('No. of cycle', size = 17)\n",
    "plt.ylabel('Spin Overlap parameter', size = 17)\n",
    "plt.title('130 mT', size = 17)\n",
    "plt.legend()\n",
    "plt.savefig('Spin_Overlap_Parameter_130mT.png')"
   ]
  },
  {
   "cell_type": "code",
   "execution_count": null,
   "metadata": {},
   "outputs": [],
   "source": [
    "plt.plot()"
   ]
  }
 ],
 "metadata": {
  "kernelspec": {
   "display_name": "Python 3",
   "language": "python",
   "name": "python3"
  },
  "language_info": {
   "codemirror_mode": {
    "name": "ipython",
    "version": 3
   },
   "file_extension": ".py",
   "mimetype": "text/x-python",
   "name": "python",
   "nbconvert_exporter": "python",
   "pygments_lexer": "ipython3",
   "version": "3.7.6"
  }
 },
 "nbformat": 4,
 "nbformat_minor": 4
}
