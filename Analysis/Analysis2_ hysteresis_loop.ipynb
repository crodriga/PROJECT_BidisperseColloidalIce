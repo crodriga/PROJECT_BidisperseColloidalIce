{
 "cells": [
  {
   "cell_type": "code",
   "execution_count": 1,
   "metadata": {},
   "outputs": [],
   "source": [
    "import pandas as pd\n",
    "from os import listdir\n",
    "from os.path import isfile, join\n",
    "import numpy as np\n",
    "\n",
    "import matplotlib.pyplot as plt\n",
    "import matplotlib as mpl"
   ]
  },
  {
   "cell_type": "markdown",
   "metadata": {},
   "source": [
    "# Hysteresis loops"
   ]
  },
  {
   "cell_type": "markdown",
   "metadata": {},
   "source": [
    "In this notebook I will analyze the hysteresis loops at different mT/s rates. "
   ]
  },
  {
   "cell_type": "markdown",
   "metadata": {},
   "source": [
    "    Choose the change_m_time data that you want to analyze!"
   ]
  },
  {
   "cell_type": "code",
   "execution_count": 2,
   "metadata": {},
   "outputs": [],
   "source": [
    "change_m_time = 20000\n",
    "number_of_runs = 10"
   ]
  },
  {
   "cell_type": "markdown",
   "metadata": {},
   "source": [
    "### 1. First, I will read the data to be analyzed. "
   ]
  },
  {
   "cell_type": "code",
   "execution_count": 3,
   "metadata": {},
   "outputs": [],
   "source": [
    "Bi_imput = \"/home/carolina/DataFrames_Summer_2020\""
   ]
  },
  {
   "cell_type": "code",
   "execution_count": 4,
   "metadata": {},
   "outputs": [
    {
     "name": "stdout",
     "output_type": "stream",
     "text": [
      "BidisperseColloidalIce_Hysteresis-Loop_l22_time20000_exp12.dat\n"
     ]
    },
    {
     "name": "stderr",
     "output_type": "stream",
     "text": [
      "/home/carolina/anaconda3/lib/python3.7/site-packages/numpy/lib/arraysetops.py:569: FutureWarning: elementwise comparison failed; returning scalar instead, but in the future will perform elementwise comparison\n",
      "  mask |= (ar1 == a)\n"
     ]
    },
    {
     "name": "stdout",
     "output_type": "stream",
     "text": [
      "BidisperseColloidalIce_Hysteresis-Loop_l22_time20000_exp2.dat\n",
      "BidisperseColloidalIce_Hysteresis-Loop_l22_time20000_exp9.dat\n",
      "BidisperseColloidalIce_Hysteresis-Loop_l22_time20000_exp3.dat\n",
      "BidisperseColloidalIce_Hysteresis-Loop_l22_time20000_exp15.dat\n",
      "BidisperseColloidalIce_Hysteresis-Loop_l22_time20000_exp1.dat\n",
      "BidisperseColloidalIce_Hysteresis-Loop_l22_time20000_exp11.dat\n",
      "BidisperseColloidalIce_Hysteresis-Loop_l22_time20000_exp10.dat\n",
      "BidisperseColloidalIce_Hysteresis-Loop_l22_time20000_exp5.dat\n",
      "BidisperseColloidalIce_Hysteresis-Loop_l22_time20000_exp24.dat\n",
      "BidisperseColloidalIce_Hysteresis-Loop_l22_time20000_exp23.dat\n",
      "BidisperseColloidalIce_Hysteresis-Loop_l22_time20000_exp20.dat\n",
      "BidisperseColloidalIce_Hysteresis-Loop_l22_time20000_exp22.dat\n",
      "BidisperseColloidalIce_Hysteresis-Loop_l22_time20000_exp16.dat\n",
      "BidisperseColloidalIce_Hysteresis-Loop_l22_time20000_exp17.dat\n",
      "BidisperseColloidalIce_Hysteresis-Loop_l22_time20000_exp21.dat\n",
      "BidisperseColloidalIce_Hysteresis-Loop_l22_time20000_exp28.dat\n",
      "BidisperseColloidalIce_Hysteresis-Loop_l22_time20000_exp18.dat\n",
      "BidisperseColloidalIce_Hysteresis-Loop_l22_time20000_exp0.dat\n",
      "BidisperseColloidalIce_Hysteresis-Loop_l22_time20000_exp7.dat\n",
      "BidisperseColloidalIce_Hysteresis-Loop_l22_time20000_exp27.dat\n",
      "BidisperseColloidalIce_Hysteresis-Loop_l22_time20000_exp14.dat\n",
      "BidisperseColloidalIce_Hysteresis-Loop_l22_time20000_exp8.dat\n",
      "BidisperseColloidalIce_Hysteresis-Loop_l22_time20000_exp19.dat\n",
      "BidisperseColloidalIce_Hysteresis-Loop_l22_time20000_exp29.dat\n",
      "BidisperseColloidalIce_Hysteresis-Loop_l22_time20000_exp4.dat\n",
      "BidisperseColloidalIce_Hysteresis-Loop_l22_time20000_exp26.dat\n",
      "BidisperseColloidalIce_Hysteresis-Loop_l22_time20000_exp25.dat\n",
      "BidisperseColloidalIce_Hysteresis-Loop_l22_time20000_exp13.dat\n"
     ]
    }
   ],
   "source": [
    "import fnmatch\n",
    "import os\n",
    "\n",
    "Bi = []\n",
    "for file in os.listdir(Bi_imput):\n",
    "    if fnmatch.fnmatch(file, '*'+str(change_m_time)+'_exp*.dat'):\n",
    "        print(file)\n",
    "        Bi.append(pd.read_csv(join(Bi_imput,file), sep = \"\\t\", index_col = [0,1])) \n",
    "        \n",
    "keys_Bi = []\n",
    "for i in range(len(Bi)):\n",
    "    keys_Bi.append(i)"
   ]
  },
  {
   "cell_type": "code",
   "execution_count": 5,
   "metadata": {},
   "outputs": [],
   "source": [
    "Bi = Bi[:len(Bi)//3]\n",
    "keys_Bi = keys_Bi[:len(keys_Bi)//3]"
   ]
  },
  {
   "cell_type": "code",
   "execution_count": 6,
   "metadata": {},
   "outputs": [
    {
     "data": {
      "text/plain": [
       "(9, 9)"
      ]
     },
     "execution_count": 6,
     "metadata": {},
     "output_type": "execute_result"
    }
   ],
   "source": [
    "len(Bi), len(keys_Bi)"
   ]
  },
  {
   "cell_type": "code",
   "execution_count": 7,
   "metadata": {},
   "outputs": [],
   "source": [
    "Bidi = pd.concat(Bi, keys = keys_Bi)"
   ]
  },
  {
   "cell_type": "code",
   "execution_count": 8,
   "metadata": {},
   "outputs": [],
   "source": [
    "Bidi.index.names = ['Exp', 'frame', 'id']"
   ]
  },
  {
   "cell_type": "code",
   "execution_count": 9,
   "metadata": {},
   "outputs": [
    {
     "data": {
      "text/html": [
       "<div>\n",
       "<style scoped>\n",
       "    .dataframe tbody tr th:only-of-type {\n",
       "        vertical-align: middle;\n",
       "    }\n",
       "\n",
       "    .dataframe tbody tr th {\n",
       "        vertical-align: top;\n",
       "    }\n",
       "\n",
       "    .dataframe thead th {\n",
       "        text-align: right;\n",
       "    }\n",
       "</style>\n",
       "<table border=\"1\" class=\"dataframe\">\n",
       "  <thead>\n",
       "    <tr style=\"text-align: right;\">\n",
       "      <th></th>\n",
       "      <th></th>\n",
       "      <th></th>\n",
       "      <th>Coordination</th>\n",
       "      <th>Charge</th>\n",
       "      <th>DipoleX</th>\n",
       "      <th>DipoleY</th>\n",
       "      <th>LocationX</th>\n",
       "      <th>LocationY</th>\n",
       "    </tr>\n",
       "    <tr>\n",
       "      <th>Exp</th>\n",
       "      <th>frame</th>\n",
       "      <th>id</th>\n",
       "      <th></th>\n",
       "      <th></th>\n",
       "      <th></th>\n",
       "      <th></th>\n",
       "      <th></th>\n",
       "      <th></th>\n",
       "    </tr>\n",
       "  </thead>\n",
       "  <tbody>\n",
       "    <tr>\n",
       "      <th rowspan=\"5\" valign=\"top\">0</th>\n",
       "      <th rowspan=\"5\" valign=\"top\">0</th>\n",
       "      <th>0</th>\n",
       "      <td>3</td>\n",
       "      <td>1</td>\n",
       "      <td>0.000000e+00</td>\n",
       "      <td>1.0</td>\n",
       "      <td>429.0</td>\n",
       "      <td>0.0</td>\n",
       "    </tr>\n",
       "    <tr>\n",
       "      <th>1</th>\n",
       "      <td>3</td>\n",
       "      <td>1</td>\n",
       "      <td>-1.000000e+00</td>\n",
       "      <td>-2.0</td>\n",
       "      <td>0.0</td>\n",
       "      <td>231.0</td>\n",
       "    </tr>\n",
       "    <tr>\n",
       "      <th>2</th>\n",
       "      <td>3</td>\n",
       "      <td>1</td>\n",
       "      <td>0.000000e+00</td>\n",
       "      <td>1.0</td>\n",
       "      <td>693.0</td>\n",
       "      <td>0.0</td>\n",
       "    </tr>\n",
       "    <tr>\n",
       "      <th>3</th>\n",
       "      <td>4</td>\n",
       "      <td>4</td>\n",
       "      <td>-6.123234e-17</td>\n",
       "      <td>0.0</td>\n",
       "      <td>693.0</td>\n",
       "      <td>33.0</td>\n",
       "    </tr>\n",
       "    <tr>\n",
       "      <th>4</th>\n",
       "      <td>3</td>\n",
       "      <td>3</td>\n",
       "      <td>-6.123234e-17</td>\n",
       "      <td>-1.0</td>\n",
       "      <td>627.0</td>\n",
       "      <td>0.0</td>\n",
       "    </tr>\n",
       "    <tr>\n",
       "      <th>...</th>\n",
       "      <th>...</th>\n",
       "      <th>...</th>\n",
       "      <td>...</td>\n",
       "      <td>...</td>\n",
       "      <td>...</td>\n",
       "      <td>...</td>\n",
       "      <td>...</td>\n",
       "      <td>...</td>\n",
       "    </tr>\n",
       "    <tr>\n",
       "      <th rowspan=\"5\" valign=\"top\">8</th>\n",
       "      <th rowspan=\"5\" valign=\"top\">2666</th>\n",
       "      <th>478</th>\n",
       "      <td>4</td>\n",
       "      <td>2</td>\n",
       "      <td>-2.000000e+00</td>\n",
       "      <td>0.0</td>\n",
       "      <td>330.0</td>\n",
       "      <td>495.0</td>\n",
       "    </tr>\n",
       "    <tr>\n",
       "      <th>479</th>\n",
       "      <td>4</td>\n",
       "      <td>-2</td>\n",
       "      <td>2.000000e+00</td>\n",
       "      <td>0.0</td>\n",
       "      <td>561.0</td>\n",
       "      <td>99.0</td>\n",
       "    </tr>\n",
       "    <tr>\n",
       "      <th>480</th>\n",
       "      <td>4</td>\n",
       "      <td>-2</td>\n",
       "      <td>-2.000000e+00</td>\n",
       "      <td>0.0</td>\n",
       "      <td>594.0</td>\n",
       "      <td>66.0</td>\n",
       "    </tr>\n",
       "    <tr>\n",
       "      <th>481</th>\n",
       "      <td>4</td>\n",
       "      <td>0</td>\n",
       "      <td>0.000000e+00</td>\n",
       "      <td>0.0</td>\n",
       "      <td>627.0</td>\n",
       "      <td>66.0</td>\n",
       "    </tr>\n",
       "    <tr>\n",
       "      <th>482</th>\n",
       "      <td>4</td>\n",
       "      <td>4</td>\n",
       "      <td>0.000000e+00</td>\n",
       "      <td>0.0</td>\n",
       "      <td>594.0</td>\n",
       "      <td>99.0</td>\n",
       "    </tr>\n",
       "  </tbody>\n",
       "</table>\n",
       "<p>11593449 rows × 6 columns</p>\n",
       "</div>"
      ],
      "text/plain": [
       "               Coordination  Charge       DipoleX  DipoleY  LocationX  \\\n",
       "Exp frame id                                                            \n",
       "0   0     0               3       1  0.000000e+00      1.0      429.0   \n",
       "          1               3       1 -1.000000e+00     -2.0        0.0   \n",
       "          2               3       1  0.000000e+00      1.0      693.0   \n",
       "          3               4       4 -6.123234e-17      0.0      693.0   \n",
       "          4               3       3 -6.123234e-17     -1.0      627.0   \n",
       "...                     ...     ...           ...      ...        ...   \n",
       "8   2666  478             4       2 -2.000000e+00      0.0      330.0   \n",
       "          479             4      -2  2.000000e+00      0.0      561.0   \n",
       "          480             4      -2 -2.000000e+00      0.0      594.0   \n",
       "          481             4       0  0.000000e+00      0.0      627.0   \n",
       "          482             4       4  0.000000e+00      0.0      594.0   \n",
       "\n",
       "               LocationY  \n",
       "Exp frame id              \n",
       "0   0     0          0.0  \n",
       "          1        231.0  \n",
       "          2          0.0  \n",
       "          3         33.0  \n",
       "          4          0.0  \n",
       "...                  ...  \n",
       "8   2666  478      495.0  \n",
       "          479       99.0  \n",
       "          480       66.0  \n",
       "          481       66.0  \n",
       "          482       99.0  \n",
       "\n",
       "[11593449 rows x 6 columns]"
      ]
     },
     "execution_count": 9,
     "metadata": {},
     "output_type": "execute_result"
    }
   ],
   "source": [
    "Bidi"
   ]
  },
  {
   "cell_type": "markdown",
   "metadata": {},
   "source": [
    "### 2. Filter vertices\n",
    "\n",
    "I will remove the vertices from the first corona since they are of coordination 3 and the vertex lecture is not correct"
   ]
  },
  {
   "cell_type": "code",
   "execution_count": 10,
   "metadata": {},
   "outputs": [],
   "source": [
    "n_of_vertex_system = 20"
   ]
  },
  {
   "cell_type": "code",
   "execution_count": 11,
   "metadata": {},
   "outputs": [],
   "source": [
    "B = Bidi.loc[ (Bidi['LocationX']<33+33*n_of_vertex_system) & (Bidi['LocationX']>16.5)]\n",
    "b = B.loc[ (B['LocationY']<33+33*n_of_vertex_system) & (B['LocationY']>16.5)]"
   ]
  },
  {
   "cell_type": "markdown",
   "metadata": {},
   "source": [
    "The following lines helps to plot the choosen vertices"
   ]
  },
  {
   "cell_type": "code",
   "execution_count": 12,
   "metadata": {},
   "outputs": [],
   "source": [
    "#plt.plot(Bidi.LocationX, Bidi.LocationY, 'o')\n",
    "#plt.plot(b.LocationX, b.LocationY, 'o')"
   ]
  },
  {
   "cell_type": "markdown",
   "metadata": {},
   "source": [
    "### 3. Separating the branches\n",
    "Now, we will find the criteria to separate the two cycles. On one hand, the rising one and in the other hand the dropping one. Since, we have computed the vertex data each 15 frames, and the framerate is 1 Hz, to obtain when we start to decrese the field we only need to compute change_m_time/15 (change_m_time is a parameter of the script_6)"
   ]
  },
  {
   "cell_type": "code",
   "execution_count": 13,
   "metadata": {},
   "outputs": [
    {
     "data": {
      "text/plain": [
       "1332"
      ]
     },
     "execution_count": 13,
     "metadata": {},
     "output_type": "execute_result"
    }
   ],
   "source": [
    "infle = change_m_time/15\n",
    "round(infle)-1"
   ]
  },
  {
   "cell_type": "code",
   "execution_count": 14,
   "metadata": {},
   "outputs": [],
   "source": [
    "inc = b.loc[b.index.get_level_values('frame') < round(infle)-1]\n",
    "dec = b.loc[b.index.get_level_values('frame') > round(infle)-1]"
   ]
  },
  {
   "cell_type": "code",
   "execution_count": 15,
   "metadata": {},
   "outputs": [
    {
     "data": {
      "text/html": [
       "<div>\n",
       "<style scoped>\n",
       "    .dataframe tbody tr th:only-of-type {\n",
       "        vertical-align: middle;\n",
       "    }\n",
       "\n",
       "    .dataframe tbody tr th {\n",
       "        vertical-align: top;\n",
       "    }\n",
       "\n",
       "    .dataframe thead th {\n",
       "        text-align: right;\n",
       "    }\n",
       "</style>\n",
       "<table border=\"1\" class=\"dataframe\">\n",
       "  <thead>\n",
       "    <tr style=\"text-align: right;\">\n",
       "      <th></th>\n",
       "      <th></th>\n",
       "      <th></th>\n",
       "      <th>Coordination</th>\n",
       "      <th>Charge</th>\n",
       "      <th>DipoleX</th>\n",
       "      <th>DipoleY</th>\n",
       "      <th>LocationX</th>\n",
       "      <th>LocationY</th>\n",
       "    </tr>\n",
       "    <tr>\n",
       "      <th>Exp</th>\n",
       "      <th>frame</th>\n",
       "      <th>id</th>\n",
       "      <th></th>\n",
       "      <th></th>\n",
       "      <th></th>\n",
       "      <th></th>\n",
       "      <th></th>\n",
       "      <th></th>\n",
       "    </tr>\n",
       "  </thead>\n",
       "  <tbody>\n",
       "    <tr>\n",
       "      <th rowspan=\"5\" valign=\"top\">0</th>\n",
       "      <th rowspan=\"5\" valign=\"top\">0</th>\n",
       "      <th>6</th>\n",
       "      <td>4</td>\n",
       "      <td>0</td>\n",
       "      <td>-2.0</td>\n",
       "      <td>-2.0</td>\n",
       "      <td>33.0</td>\n",
       "      <td>297.0</td>\n",
       "    </tr>\n",
       "    <tr>\n",
       "      <th>15</th>\n",
       "      <td>4</td>\n",
       "      <td>0</td>\n",
       "      <td>0.0</td>\n",
       "      <td>0.0</td>\n",
       "      <td>33.0</td>\n",
       "      <td>561.0</td>\n",
       "    </tr>\n",
       "    <tr>\n",
       "      <th>19</th>\n",
       "      <td>4</td>\n",
       "      <td>0</td>\n",
       "      <td>2.0</td>\n",
       "      <td>2.0</td>\n",
       "      <td>297.0</td>\n",
       "      <td>429.0</td>\n",
       "    </tr>\n",
       "    <tr>\n",
       "      <th>20</th>\n",
       "      <td>4</td>\n",
       "      <td>0</td>\n",
       "      <td>2.0</td>\n",
       "      <td>2.0</td>\n",
       "      <td>297.0</td>\n",
       "      <td>396.0</td>\n",
       "    </tr>\n",
       "    <tr>\n",
       "      <th>21</th>\n",
       "      <td>4</td>\n",
       "      <td>0</td>\n",
       "      <td>2.0</td>\n",
       "      <td>2.0</td>\n",
       "      <td>231.0</td>\n",
       "      <td>330.0</td>\n",
       "    </tr>\n",
       "    <tr>\n",
       "      <th>...</th>\n",
       "      <th>...</th>\n",
       "      <th>...</th>\n",
       "      <td>...</td>\n",
       "      <td>...</td>\n",
       "      <td>...</td>\n",
       "      <td>...</td>\n",
       "      <td>...</td>\n",
       "      <td>...</td>\n",
       "    </tr>\n",
       "    <tr>\n",
       "      <th rowspan=\"5\" valign=\"top\">8</th>\n",
       "      <th rowspan=\"5\" valign=\"top\">2666</th>\n",
       "      <th>478</th>\n",
       "      <td>4</td>\n",
       "      <td>2</td>\n",
       "      <td>-2.0</td>\n",
       "      <td>0.0</td>\n",
       "      <td>330.0</td>\n",
       "      <td>495.0</td>\n",
       "    </tr>\n",
       "    <tr>\n",
       "      <th>479</th>\n",
       "      <td>4</td>\n",
       "      <td>-2</td>\n",
       "      <td>2.0</td>\n",
       "      <td>0.0</td>\n",
       "      <td>561.0</td>\n",
       "      <td>99.0</td>\n",
       "    </tr>\n",
       "    <tr>\n",
       "      <th>480</th>\n",
       "      <td>4</td>\n",
       "      <td>-2</td>\n",
       "      <td>-2.0</td>\n",
       "      <td>0.0</td>\n",
       "      <td>594.0</td>\n",
       "      <td>66.0</td>\n",
       "    </tr>\n",
       "    <tr>\n",
       "      <th>481</th>\n",
       "      <td>4</td>\n",
       "      <td>0</td>\n",
       "      <td>0.0</td>\n",
       "      <td>0.0</td>\n",
       "      <td>627.0</td>\n",
       "      <td>66.0</td>\n",
       "    </tr>\n",
       "    <tr>\n",
       "      <th>482</th>\n",
       "      <td>4</td>\n",
       "      <td>4</td>\n",
       "      <td>0.0</td>\n",
       "      <td>0.0</td>\n",
       "      <td>594.0</td>\n",
       "      <td>99.0</td>\n",
       "    </tr>\n",
       "  </tbody>\n",
       "</table>\n",
       "<p>9601200 rows × 6 columns</p>\n",
       "</div>"
      ],
      "text/plain": [
       "               Coordination  Charge  DipoleX  DipoleY  LocationX  LocationY\n",
       "Exp frame id                                                               \n",
       "0   0     6               4       0     -2.0     -2.0       33.0      297.0\n",
       "          15              4       0      0.0      0.0       33.0      561.0\n",
       "          19              4       0      2.0      2.0      297.0      429.0\n",
       "          20              4       0      2.0      2.0      297.0      396.0\n",
       "          21              4       0      2.0      2.0      231.0      330.0\n",
       "...                     ...     ...      ...      ...        ...        ...\n",
       "8   2666  478             4       2     -2.0      0.0      330.0      495.0\n",
       "          479             4      -2      2.0      0.0      561.0       99.0\n",
       "          480             4      -2     -2.0      0.0      594.0       66.0\n",
       "          481             4       0      0.0      0.0      627.0       66.0\n",
       "          482             4       4      0.0      0.0      594.0       99.0\n",
       "\n",
       "[9601200 rows x 6 columns]"
      ]
     },
     "execution_count": 15,
     "metadata": {},
     "output_type": "execute_result"
    }
   ],
   "source": [
    "b"
   ]
  },
  {
   "cell_type": "markdown",
   "metadata": {},
   "source": [
    "### 4. Introducing further data \n",
    "We need to add the field information and also the type of vertices that we have, in order to compute the vertex population data. "
   ]
  },
  {
   "cell_type": "code",
   "execution_count": 16,
   "metadata": {},
   "outputs": [
    {
     "data": {
      "text/plain": [
       "0.01"
      ]
     },
     "execution_count": 16,
     "metadata": {},
     "output_type": "execute_result"
    }
   ],
   "source": [
    "field_max = 200\n",
    "slope = field_max/change_m_time\n",
    "slope"
   ]
  },
  {
   "cell_type": "markdown",
   "metadata": {},
   "source": [
    "To compute the magnetic field value we only need to multiply the frame * the step at which we take the information and the mT/s value , that means the slope\n"
   ]
  },
  {
   "cell_type": "code",
   "execution_count": 17,
   "metadata": {},
   "outputs": [
    {
     "name": "stderr",
     "output_type": "stream",
     "text": [
      "/home/carolina/anaconda3/lib/python3.7/site-packages/ipykernel_launcher.py:1: SettingWithCopyWarning: \n",
      "A value is trying to be set on a copy of a slice from a DataFrame.\n",
      "Try using .loc[row_indexer,col_indexer] = value instead\n",
      "\n",
      "See the caveats in the documentation: https://pandas.pydata.org/pandas-docs/stable/user_guide/indexing.html#returning-a-view-versus-a-copy\n",
      "  \"\"\"Entry point for launching an IPython kernel.\n",
      "/home/carolina/anaconda3/lib/python3.7/site-packages/ipykernel_launcher.py:3: SettingWithCopyWarning: \n",
      "A value is trying to be set on a copy of a slice from a DataFrame.\n",
      "Try using .loc[row_indexer,col_indexer] = value instead\n",
      "\n",
      "See the caveats in the documentation: https://pandas.pydata.org/pandas-docs/stable/user_guide/indexing.html#returning-a-view-versus-a-copy\n",
      "  This is separate from the ipykernel package so we can avoid doing imports until\n"
     ]
    }
   ],
   "source": [
    "inc['field'] = (inc.index.get_level_values('frame'))*15*slope \n",
    "\n",
    "dec['field'] = field_max-field_max*((dec.index.get_level_values('frame')-dec.index.get_level_values('frame').min())/(dec.index.get_level_values('frame').min())) "
   ]
  },
  {
   "cell_type": "code",
   "execution_count": 18,
   "metadata": {},
   "outputs": [
    {
     "data": {
      "text/html": [
       "<div>\n",
       "<style scoped>\n",
       "    .dataframe tbody tr th:only-of-type {\n",
       "        vertical-align: middle;\n",
       "    }\n",
       "\n",
       "    .dataframe tbody tr th {\n",
       "        vertical-align: top;\n",
       "    }\n",
       "\n",
       "    .dataframe thead th {\n",
       "        text-align: right;\n",
       "    }\n",
       "</style>\n",
       "<table border=\"1\" class=\"dataframe\">\n",
       "  <thead>\n",
       "    <tr style=\"text-align: right;\">\n",
       "      <th></th>\n",
       "      <th></th>\n",
       "      <th></th>\n",
       "      <th>Coordination</th>\n",
       "      <th>Charge</th>\n",
       "      <th>DipoleX</th>\n",
       "      <th>DipoleY</th>\n",
       "      <th>LocationX</th>\n",
       "      <th>LocationY</th>\n",
       "      <th>field</th>\n",
       "    </tr>\n",
       "    <tr>\n",
       "      <th>Exp</th>\n",
       "      <th>frame</th>\n",
       "      <th>id</th>\n",
       "      <th></th>\n",
       "      <th></th>\n",
       "      <th></th>\n",
       "      <th></th>\n",
       "      <th></th>\n",
       "      <th></th>\n",
       "      <th></th>\n",
       "    </tr>\n",
       "  </thead>\n",
       "  <tbody>\n",
       "    <tr>\n",
       "      <th rowspan=\"11\" valign=\"top\">0</th>\n",
       "      <th rowspan=\"5\" valign=\"top\">1333</th>\n",
       "      <th>6</th>\n",
       "      <td>4</td>\n",
       "      <td>2</td>\n",
       "      <td>2.000000e+00</td>\n",
       "      <td>0.0</td>\n",
       "      <td>33.0</td>\n",
       "      <td>297.0</td>\n",
       "      <td>200.000000</td>\n",
       "    </tr>\n",
       "    <tr>\n",
       "      <th>15</th>\n",
       "      <td>4</td>\n",
       "      <td>0</td>\n",
       "      <td>0.000000e+00</td>\n",
       "      <td>0.0</td>\n",
       "      <td>33.0</td>\n",
       "      <td>561.0</td>\n",
       "      <td>200.000000</td>\n",
       "    </tr>\n",
       "    <tr>\n",
       "      <th>19</th>\n",
       "      <td>4</td>\n",
       "      <td>2</td>\n",
       "      <td>2.220446e-16</td>\n",
       "      <td>2.0</td>\n",
       "      <td>297.0</td>\n",
       "      <td>429.0</td>\n",
       "      <td>200.000000</td>\n",
       "    </tr>\n",
       "    <tr>\n",
       "      <th>20</th>\n",
       "      <td>4</td>\n",
       "      <td>-2</td>\n",
       "      <td>-2.000000e+00</td>\n",
       "      <td>0.0</td>\n",
       "      <td>297.0</td>\n",
       "      <td>396.0</td>\n",
       "      <td>200.000000</td>\n",
       "    </tr>\n",
       "    <tr>\n",
       "      <th>21</th>\n",
       "      <td>4</td>\n",
       "      <td>0</td>\n",
       "      <td>-2.000000e+00</td>\n",
       "      <td>2.0</td>\n",
       "      <td>231.0</td>\n",
       "      <td>330.0</td>\n",
       "      <td>200.000000</td>\n",
       "    </tr>\n",
       "    <tr>\n",
       "      <th>...</th>\n",
       "      <th>...</th>\n",
       "      <td>...</td>\n",
       "      <td>...</td>\n",
       "      <td>...</td>\n",
       "      <td>...</td>\n",
       "      <td>...</td>\n",
       "      <td>...</td>\n",
       "      <td>...</td>\n",
       "    </tr>\n",
       "    <tr>\n",
       "      <th rowspan=\"5\" valign=\"top\">1334</th>\n",
       "      <th>478</th>\n",
       "      <td>4</td>\n",
       "      <td>0</td>\n",
       "      <td>-2.000000e+00</td>\n",
       "      <td>2.0</td>\n",
       "      <td>330.0</td>\n",
       "      <td>495.0</td>\n",
       "      <td>199.849962</td>\n",
       "    </tr>\n",
       "    <tr>\n",
       "      <th>479</th>\n",
       "      <td>4</td>\n",
       "      <td>2</td>\n",
       "      <td>6.123234e-17</td>\n",
       "      <td>2.0</td>\n",
       "      <td>561.0</td>\n",
       "      <td>99.0</td>\n",
       "      <td>199.849962</td>\n",
       "    </tr>\n",
       "    <tr>\n",
       "      <th>480</th>\n",
       "      <td>4</td>\n",
       "      <td>-2</td>\n",
       "      <td>-2.000000e+00</td>\n",
       "      <td>0.0</td>\n",
       "      <td>594.0</td>\n",
       "      <td>66.0</td>\n",
       "      <td>199.849962</td>\n",
       "    </tr>\n",
       "    <tr>\n",
       "      <th>481</th>\n",
       "      <td>4</td>\n",
       "      <td>-2</td>\n",
       "      <td>-2.220446e-16</td>\n",
       "      <td>-2.0</td>\n",
       "      <td>627.0</td>\n",
       "      <td>66.0</td>\n",
       "      <td>199.849962</td>\n",
       "    </tr>\n",
       "    <tr>\n",
       "      <th>482</th>\n",
       "      <td>4</td>\n",
       "      <td>-2</td>\n",
       "      <td>1.110223e-16</td>\n",
       "      <td>2.0</td>\n",
       "      <td>594.0</td>\n",
       "      <td>99.0</td>\n",
       "      <td>199.849962</td>\n",
       "    </tr>\n",
       "  </tbody>\n",
       "</table>\n",
       "<p>800 rows × 7 columns</p>\n",
       "</div>"
      ],
      "text/plain": [
       "               Coordination  Charge       DipoleX  DipoleY  LocationX  \\\n",
       "Exp frame id                                                            \n",
       "0   1333  6               4       2  2.000000e+00      0.0       33.0   \n",
       "          15              4       0  0.000000e+00      0.0       33.0   \n",
       "          19              4       2  2.220446e-16      2.0      297.0   \n",
       "          20              4      -2 -2.000000e+00      0.0      297.0   \n",
       "          21              4       0 -2.000000e+00      2.0      231.0   \n",
       "...                     ...     ...           ...      ...        ...   \n",
       "    1334  478             4       0 -2.000000e+00      2.0      330.0   \n",
       "          479             4       2  6.123234e-17      2.0      561.0   \n",
       "          480             4      -2 -2.000000e+00      0.0      594.0   \n",
       "          481             4      -2 -2.220446e-16     -2.0      627.0   \n",
       "          482             4      -2  1.110223e-16      2.0      594.0   \n",
       "\n",
       "               LocationY       field  \n",
       "Exp frame id                          \n",
       "0   1333  6        297.0  200.000000  \n",
       "          15       561.0  200.000000  \n",
       "          19       429.0  200.000000  \n",
       "          20       396.0  200.000000  \n",
       "          21       330.0  200.000000  \n",
       "...                  ...         ...  \n",
       "    1334  478      495.0  199.849962  \n",
       "          479       99.0  199.849962  \n",
       "          480       66.0  199.849962  \n",
       "          481       66.0  199.849962  \n",
       "          482       99.0  199.849962  \n",
       "\n",
       "[800 rows x 7 columns]"
      ]
     },
     "execution_count": 18,
     "metadata": {},
     "output_type": "execute_result"
    }
   ],
   "source": [
    "dec.head(800)"
   ]
  },
  {
   "cell_type": "markdown",
   "metadata": {},
   "source": [
    "Now, classifing the vertices per type."
   ]
  },
  {
   "cell_type": "code",
   "execution_count": 19,
   "metadata": {},
   "outputs": [
    {
     "name": "stderr",
     "output_type": "stream",
     "text": [
      "/home/carolina/anaconda3/lib/python3.7/site-packages/ipykernel_launcher.py:1: SettingWithCopyWarning: \n",
      "A value is trying to be set on a copy of a slice from a DataFrame.\n",
      "Try using .loc[row_indexer,col_indexer] = value instead\n",
      "\n",
      "See the caveats in the documentation: https://pandas.pydata.org/pandas-docs/stable/user_guide/indexing.html#returning-a-view-versus-a-copy\n",
      "  \"\"\"Entry point for launching an IPython kernel.\n",
      "/home/carolina/anaconda3/lib/python3.7/site-packages/pandas/core/indexing.py:965: SettingWithCopyWarning: \n",
      "A value is trying to be set on a copy of a slice from a DataFrame.\n",
      "Try using .loc[row_indexer,col_indexer] = value instead\n",
      "\n",
      "See the caveats in the documentation: https://pandas.pydata.org/pandas-docs/stable/user_guide/indexing.html#returning-a-view-versus-a-copy\n",
      "  self.obj[item] = s\n"
     ]
    }
   ],
   "source": [
    "inc[\"type\"] = np.NaN\n",
    "inc.loc[inc.Charge==-4, \"type\"] = \"Type 1\"\n",
    "inc.loc[inc.Charge==-2, \"type\"] = \"Type 2\"\n",
    "inc.loc[inc.Charge==+2, \"type\"] = \"Type 5\"\n",
    "inc.loc[inc.Charge==+4, \"type\"] = \"Type 6\"\n",
    "\n",
    "zeroq = inc.Charge==0\n",
    "\n",
    "dipole_magnitude = np.sqrt(inc[zeroq].DipoleX**2+inc[zeroq].DipoleY**2)\n",
    "\n",
    "inc.loc[zeroq & (dipole_magnitude<1), \"type\"] = \"Type 3\"\n",
    "inc.loc[zeroq & (dipole_magnitude>2) , \"type\"] = \"Type 4\""
   ]
  },
  {
   "cell_type": "code",
   "execution_count": 20,
   "metadata": {},
   "outputs": [
    {
     "name": "stderr",
     "output_type": "stream",
     "text": [
      "/home/carolina/anaconda3/lib/python3.7/site-packages/ipykernel_launcher.py:1: SettingWithCopyWarning: \n",
      "A value is trying to be set on a copy of a slice from a DataFrame.\n",
      "Try using .loc[row_indexer,col_indexer] = value instead\n",
      "\n",
      "See the caveats in the documentation: https://pandas.pydata.org/pandas-docs/stable/user_guide/indexing.html#returning-a-view-versus-a-copy\n",
      "  \"\"\"Entry point for launching an IPython kernel.\n"
     ]
    }
   ],
   "source": [
    "dec[\"type\"] = np.NaN\n",
    "dec.loc[dec.Charge==-4, \"type\"] = \"Type 1\"\n",
    "dec.loc[dec.Charge==-2, \"type\"] = \"Type 2\"\n",
    "dec.loc[dec.Charge==+2, \"type\"] = \"Type 5\"\n",
    "dec.loc[dec.Charge==+4, \"type\"] = \"Type 6\"\n",
    "\n",
    "zeroq = dec.Charge==0\n",
    "\n",
    "dipole_magnitude = np.sqrt(dec[zeroq].DipoleX**2+dec[zeroq].DipoleY**2)\n",
    "\n",
    "dec.loc[zeroq & (dipole_magnitude<1), \"type\"] = \"Type 3\"\n",
    "dec.loc[zeroq & (dipole_magnitude>2) , \"type\"] = \"Type 4\""
   ]
  },
  {
   "cell_type": "code",
   "execution_count": 21,
   "metadata": {},
   "outputs": [
    {
     "data": {
      "text/html": [
       "<div>\n",
       "<style scoped>\n",
       "    .dataframe tbody tr th:only-of-type {\n",
       "        vertical-align: middle;\n",
       "    }\n",
       "\n",
       "    .dataframe tbody tr th {\n",
       "        vertical-align: top;\n",
       "    }\n",
       "\n",
       "    .dataframe thead th {\n",
       "        text-align: right;\n",
       "    }\n",
       "</style>\n",
       "<table border=\"1\" class=\"dataframe\">\n",
       "  <thead>\n",
       "    <tr style=\"text-align: right;\">\n",
       "      <th></th>\n",
       "      <th></th>\n",
       "      <th></th>\n",
       "      <th>Coordination</th>\n",
       "      <th>Charge</th>\n",
       "      <th>DipoleX</th>\n",
       "      <th>DipoleY</th>\n",
       "      <th>LocationX</th>\n",
       "      <th>LocationY</th>\n",
       "      <th>field</th>\n",
       "      <th>type</th>\n",
       "    </tr>\n",
       "    <tr>\n",
       "      <th>Exp</th>\n",
       "      <th>frame</th>\n",
       "      <th>id</th>\n",
       "      <th></th>\n",
       "      <th></th>\n",
       "      <th></th>\n",
       "      <th></th>\n",
       "      <th></th>\n",
       "      <th></th>\n",
       "      <th></th>\n",
       "      <th></th>\n",
       "    </tr>\n",
       "  </thead>\n",
       "  <tbody>\n",
       "    <tr>\n",
       "      <th rowspan=\"5\" valign=\"top\">0</th>\n",
       "      <th rowspan=\"5\" valign=\"top\">1333</th>\n",
       "      <th>6</th>\n",
       "      <td>4</td>\n",
       "      <td>2</td>\n",
       "      <td>2.000000e+00</td>\n",
       "      <td>0.0</td>\n",
       "      <td>33.0</td>\n",
       "      <td>297.0</td>\n",
       "      <td>200.0</td>\n",
       "      <td>Type 5</td>\n",
       "    </tr>\n",
       "    <tr>\n",
       "      <th>15</th>\n",
       "      <td>4</td>\n",
       "      <td>0</td>\n",
       "      <td>0.000000e+00</td>\n",
       "      <td>0.0</td>\n",
       "      <td>33.0</td>\n",
       "      <td>561.0</td>\n",
       "      <td>200.0</td>\n",
       "      <td>Type 3</td>\n",
       "    </tr>\n",
       "    <tr>\n",
       "      <th>19</th>\n",
       "      <td>4</td>\n",
       "      <td>2</td>\n",
       "      <td>2.220446e-16</td>\n",
       "      <td>2.0</td>\n",
       "      <td>297.0</td>\n",
       "      <td>429.0</td>\n",
       "      <td>200.0</td>\n",
       "      <td>Type 5</td>\n",
       "    </tr>\n",
       "    <tr>\n",
       "      <th>20</th>\n",
       "      <td>4</td>\n",
       "      <td>-2</td>\n",
       "      <td>-2.000000e+00</td>\n",
       "      <td>0.0</td>\n",
       "      <td>297.0</td>\n",
       "      <td>396.0</td>\n",
       "      <td>200.0</td>\n",
       "      <td>Type 2</td>\n",
       "    </tr>\n",
       "    <tr>\n",
       "      <th>21</th>\n",
       "      <td>4</td>\n",
       "      <td>0</td>\n",
       "      <td>-2.000000e+00</td>\n",
       "      <td>2.0</td>\n",
       "      <td>231.0</td>\n",
       "      <td>330.0</td>\n",
       "      <td>200.0</td>\n",
       "      <td>Type 4</td>\n",
       "    </tr>\n",
       "    <tr>\n",
       "      <th>...</th>\n",
       "      <th>...</th>\n",
       "      <th>...</th>\n",
       "      <td>...</td>\n",
       "      <td>...</td>\n",
       "      <td>...</td>\n",
       "      <td>...</td>\n",
       "      <td>...</td>\n",
       "      <td>...</td>\n",
       "      <td>...</td>\n",
       "      <td>...</td>\n",
       "    </tr>\n",
       "    <tr>\n",
       "      <th rowspan=\"5\" valign=\"top\">8</th>\n",
       "      <th rowspan=\"5\" valign=\"top\">2666</th>\n",
       "      <th>478</th>\n",
       "      <td>4</td>\n",
       "      <td>2</td>\n",
       "      <td>-2.000000e+00</td>\n",
       "      <td>0.0</td>\n",
       "      <td>330.0</td>\n",
       "      <td>495.0</td>\n",
       "      <td>0.0</td>\n",
       "      <td>Type 5</td>\n",
       "    </tr>\n",
       "    <tr>\n",
       "      <th>479</th>\n",
       "      <td>4</td>\n",
       "      <td>-2</td>\n",
       "      <td>2.000000e+00</td>\n",
       "      <td>0.0</td>\n",
       "      <td>561.0</td>\n",
       "      <td>99.0</td>\n",
       "      <td>0.0</td>\n",
       "      <td>Type 2</td>\n",
       "    </tr>\n",
       "    <tr>\n",
       "      <th>480</th>\n",
       "      <td>4</td>\n",
       "      <td>-2</td>\n",
       "      <td>-2.000000e+00</td>\n",
       "      <td>0.0</td>\n",
       "      <td>594.0</td>\n",
       "      <td>66.0</td>\n",
       "      <td>0.0</td>\n",
       "      <td>Type 2</td>\n",
       "    </tr>\n",
       "    <tr>\n",
       "      <th>481</th>\n",
       "      <td>4</td>\n",
       "      <td>0</td>\n",
       "      <td>0.000000e+00</td>\n",
       "      <td>0.0</td>\n",
       "      <td>627.0</td>\n",
       "      <td>66.0</td>\n",
       "      <td>0.0</td>\n",
       "      <td>Type 3</td>\n",
       "    </tr>\n",
       "    <tr>\n",
       "      <th>482</th>\n",
       "      <td>4</td>\n",
       "      <td>4</td>\n",
       "      <td>0.000000e+00</td>\n",
       "      <td>0.0</td>\n",
       "      <td>594.0</td>\n",
       "      <td>99.0</td>\n",
       "      <td>0.0</td>\n",
       "      <td>Type 6</td>\n",
       "    </tr>\n",
       "  </tbody>\n",
       "</table>\n",
       "<p>4802400 rows × 8 columns</p>\n",
       "</div>"
      ],
      "text/plain": [
       "               Coordination  Charge       DipoleX  DipoleY  LocationX  \\\n",
       "Exp frame id                                                            \n",
       "0   1333  6               4       2  2.000000e+00      0.0       33.0   \n",
       "          15              4       0  0.000000e+00      0.0       33.0   \n",
       "          19              4       2  2.220446e-16      2.0      297.0   \n",
       "          20              4      -2 -2.000000e+00      0.0      297.0   \n",
       "          21              4       0 -2.000000e+00      2.0      231.0   \n",
       "...                     ...     ...           ...      ...        ...   \n",
       "8   2666  478             4       2 -2.000000e+00      0.0      330.0   \n",
       "          479             4      -2  2.000000e+00      0.0      561.0   \n",
       "          480             4      -2 -2.000000e+00      0.0      594.0   \n",
       "          481             4       0  0.000000e+00      0.0      627.0   \n",
       "          482             4       4  0.000000e+00      0.0      594.0   \n",
       "\n",
       "               LocationY  field    type  \n",
       "Exp frame id                             \n",
       "0   1333  6        297.0  200.0  Type 5  \n",
       "          15       561.0  200.0  Type 3  \n",
       "          19       429.0  200.0  Type 5  \n",
       "          20       396.0  200.0  Type 2  \n",
       "          21       330.0  200.0  Type 4  \n",
       "...                  ...    ...     ...  \n",
       "8   2666  478      495.0    0.0  Type 5  \n",
       "          479       99.0    0.0  Type 2  \n",
       "          480       66.0    0.0  Type 2  \n",
       "          481       66.0    0.0  Type 3  \n",
       "          482       99.0    0.0  Type 6  \n",
       "\n",
       "[4802400 rows x 8 columns]"
      ]
     },
     "execution_count": 21,
     "metadata": {},
     "output_type": "execute_result"
    }
   ],
   "source": [
    "dec"
   ]
  },
  {
   "cell_type": "markdown",
   "metadata": {},
   "source": [
    "## From here I will star a small parenthesis in order to save the data of each run before doing the main process."
   ]
  },
  {
   "cell_type": "code",
   "execution_count": 22,
   "metadata": {},
   "outputs": [],
   "source": [
    "def count_vertices(vrt, column = \"type\", time = \"frame\"):\n",
    "    vrt_count = vrt.groupby([\"Exp\",time,column]).count().iloc[:,0].to_frame(\"number\")\n",
    "\n",
    "    vrt_count = vrt_count.reindex(pd.MultiIndex.from_product(\n",
    "        [vrt_count.index.get_level_values(\"Exp\").unique(),\n",
    "         vrt_count.index.get_level_values(time).unique(),\n",
    "         vrt_count.index.get_level_values(column).unique()]), fill_value = 0)\n",
    "\n",
    "    total_vrt = vrt_count.groupby(time).sum()\n",
    "    \n",
    "    vrt_count[\"fraction\"] = vrt_count.number / \\\n",
    "        total_vrt.loc[vrt_count.index.get_level_values(time)].number.values\n",
    "\n",
    "    return vrt_count"
   ]
  },
  {
   "cell_type": "markdown",
   "metadata": {},
   "source": [
    "I need to preserve the field information and only to keep the type 3 fraction of vertices."
   ]
  },
  {
   "cell_type": "code",
   "execution_count": 23,
   "metadata": {},
   "outputs": [],
   "source": [
    "dec_sep = count_vertices(dec)\n",
    "inc_sep = count_vertices(inc)"
   ]
  },
  {
   "cell_type": "code",
   "execution_count": 24,
   "metadata": {},
   "outputs": [],
   "source": [
    "dec_sep = dec_sep[np.in1d(dec_sep.index.get_level_values(2), ['Type 3'])]\n",
    "inc_sep = inc_sep[np.in1d(inc_sep.index.get_level_values(2), ['Type 3'])]"
   ]
  },
  {
   "cell_type": "code",
   "execution_count": 25,
   "metadata": {},
   "outputs": [],
   "source": [
    "inc_sep['field'] = (inc_sep.index.get_level_values('frame'))*15*slope \n",
    "dec_sep['field'] = field_max-field_max*((dec_sep.index.get_level_values('frame')-dec_sep.index.get_level_values('frame').min())/(dec_sep.index.get_level_values('frame').min())) "
   ]
  },
  {
   "cell_type": "code",
   "execution_count": 26,
   "metadata": {},
   "outputs": [],
   "source": [
    "dec_sep['fraction'] = dec_sep['fraction']*number_of_runs\n",
    "inc_sep['fraction'] = inc_sep['fraction']*number_of_runs"
   ]
  },
  {
   "cell_type": "code",
   "execution_count": 27,
   "metadata": {},
   "outputs": [
    {
     "data": {
      "text/html": [
       "<div>\n",
       "<style scoped>\n",
       "    .dataframe tbody tr th:only-of-type {\n",
       "        vertical-align: middle;\n",
       "    }\n",
       "\n",
       "    .dataframe tbody tr th {\n",
       "        vertical-align: top;\n",
       "    }\n",
       "\n",
       "    .dataframe thead th {\n",
       "        text-align: right;\n",
       "    }\n",
       "</style>\n",
       "<table border=\"1\" class=\"dataframe\">\n",
       "  <thead>\n",
       "    <tr style=\"text-align: right;\">\n",
       "      <th></th>\n",
       "      <th></th>\n",
       "      <th></th>\n",
       "      <th>number</th>\n",
       "      <th>fraction</th>\n",
       "      <th>field</th>\n",
       "    </tr>\n",
       "    <tr>\n",
       "      <th>Exp</th>\n",
       "      <th>frame</th>\n",
       "      <th>type</th>\n",
       "      <th></th>\n",
       "      <th></th>\n",
       "      <th></th>\n",
       "    </tr>\n",
       "  </thead>\n",
       "  <tbody>\n",
       "    <tr>\n",
       "      <th rowspan=\"5\" valign=\"top\">0</th>\n",
       "      <th>0</th>\n",
       "      <th>Type 3</th>\n",
       "      <td>52</td>\n",
       "      <td>0.144444</td>\n",
       "      <td>0.00</td>\n",
       "    </tr>\n",
       "    <tr>\n",
       "      <th>1</th>\n",
       "      <th>Type 3</th>\n",
       "      <td>52</td>\n",
       "      <td>0.144444</td>\n",
       "      <td>0.15</td>\n",
       "    </tr>\n",
       "    <tr>\n",
       "      <th>2</th>\n",
       "      <th>Type 3</th>\n",
       "      <td>52</td>\n",
       "      <td>0.144444</td>\n",
       "      <td>0.30</td>\n",
       "    </tr>\n",
       "    <tr>\n",
       "      <th>3</th>\n",
       "      <th>Type 3</th>\n",
       "      <td>52</td>\n",
       "      <td>0.144444</td>\n",
       "      <td>0.45</td>\n",
       "    </tr>\n",
       "    <tr>\n",
       "      <th>4</th>\n",
       "      <th>Type 3</th>\n",
       "      <td>52</td>\n",
       "      <td>0.144444</td>\n",
       "      <td>0.60</td>\n",
       "    </tr>\n",
       "    <tr>\n",
       "      <th>...</th>\n",
       "      <th>...</th>\n",
       "      <th>...</th>\n",
       "      <td>...</td>\n",
       "      <td>...</td>\n",
       "      <td>...</td>\n",
       "    </tr>\n",
       "    <tr>\n",
       "      <th rowspan=\"5\" valign=\"top\">8</th>\n",
       "      <th>1327</th>\n",
       "      <th>Type 3</th>\n",
       "      <td>104</td>\n",
       "      <td>0.288889</td>\n",
       "      <td>199.05</td>\n",
       "    </tr>\n",
       "    <tr>\n",
       "      <th>1328</th>\n",
       "      <th>Type 3</th>\n",
       "      <td>103</td>\n",
       "      <td>0.286111</td>\n",
       "      <td>199.20</td>\n",
       "    </tr>\n",
       "    <tr>\n",
       "      <th>1329</th>\n",
       "      <th>Type 3</th>\n",
       "      <td>94</td>\n",
       "      <td>0.261111</td>\n",
       "      <td>199.35</td>\n",
       "    </tr>\n",
       "    <tr>\n",
       "      <th>1330</th>\n",
       "      <th>Type 3</th>\n",
       "      <td>96</td>\n",
       "      <td>0.266667</td>\n",
       "      <td>199.50</td>\n",
       "    </tr>\n",
       "    <tr>\n",
       "      <th>1331</th>\n",
       "      <th>Type 3</th>\n",
       "      <td>93</td>\n",
       "      <td>0.258333</td>\n",
       "      <td>199.65</td>\n",
       "    </tr>\n",
       "  </tbody>\n",
       "</table>\n",
       "<p>11988 rows × 3 columns</p>\n",
       "</div>"
      ],
      "text/plain": [
       "                  number  fraction   field\n",
       "Exp frame type                            \n",
       "0   0     Type 3      52  0.144444    0.00\n",
       "    1     Type 3      52  0.144444    0.15\n",
       "    2     Type 3      52  0.144444    0.30\n",
       "    3     Type 3      52  0.144444    0.45\n",
       "    4     Type 3      52  0.144444    0.60\n",
       "...                  ...       ...     ...\n",
       "8   1327  Type 3     104  0.288889  199.05\n",
       "    1328  Type 3     103  0.286111  199.20\n",
       "    1329  Type 3      94  0.261111  199.35\n",
       "    1330  Type 3      96  0.266667  199.50\n",
       "    1331  Type 3      93  0.258333  199.65\n",
       "\n",
       "[11988 rows x 3 columns]"
      ]
     },
     "execution_count": 27,
     "metadata": {},
     "output_type": "execute_result"
    }
   ],
   "source": [
    "inc_sep"
   ]
  },
  {
   "cell_type": "code",
   "execution_count": 28,
   "metadata": {},
   "outputs": [
    {
     "name": "stdout",
     "output_type": "stream",
     "text": [
      "Type 3\n",
      "Type 3\n"
     ]
    },
    {
     "data": {
      "image/png": "[encoded data removed]",
      "text/plain": [
       "<Figure size 720x720 with 1 Axes>"
      ]
     },
     "metadata": {
      "needs_background": "light"
     },
     "output_type": "display_data"
    }
   ],
   "source": [
    "fig, ax1 = plt.subplots(figsize=(10,10))\n",
    "\n",
    "for typ_m, mtype in dec_sep.groupby(\"type\"):\n",
    "    print(typ_m)\n",
    "    plt.errorbar(mtype[\"field\"], mtype[\"fraction\"],fmt = '-', label = typ_m)\n",
    "    \n",
    "for typ_m, mtype in inc_sep.groupby(\"type\"):\n",
    "    print(typ_m)\n",
    "    plt.errorbar(mtype[\"field\"], mtype[\"fraction\"],fmt = '-', label = typ_m)\n",
    "\n",
    "    \n",
    "\n",
    "ax1.tick_params(axis='y', labelsize=30)\n",
    "ax1.tick_params(axis='x', labelsize=30)  \n",
    "\n",
    "#ax1.legend(fontsize = 18)\n",
    "ax1.set_xlabel('B (mT)', size = 30)\n",
    "ax1.set_ylabel('Vertex population', size = 30)\n",
    "\n",
    "plt.tight_layout()"
   ]
  },
  {
   "cell_type": "code",
   "execution_count": 29,
   "metadata": {},
   "outputs": [],
   "source": [
    "dec_sep.to_csv('Bajada_sep'+str(change_m_time)+'.dat',sep = '\\t')\n",
    "inc_sep.to_csv('Subida_sep'+str(change_m_time)+'.dat',sep = '\\t')"
   ]
  },
  {
   "cell_type": "markdown",
   "metadata": {},
   "source": [
    "## end parenthesis"
   ]
  },
  {
   "cell_type": "code",
   "execution_count": 30,
   "metadata": {},
   "outputs": [
    {
     "name": "stderr",
     "output_type": "stream",
     "text": [
      "/home/carolina/anaconda3/lib/python3.7/site-packages/ipykernel_launcher.py:11: SettingWithCopyWarning: \n",
      "A value is trying to be set on a copy of a slice from a DataFrame.\n",
      "Try using .loc[row_indexer,col_indexer] = value instead\n",
      "\n",
      "See the caveats in the documentation: https://pandas.pydata.org/pandas-docs/stable/user_guide/indexing.html#returning-a-view-versus-a-copy\n",
      "  # This is added back by InteractiveShellApp.init_path()\n",
      "/home/carolina/anaconda3/lib/python3.7/site-packages/ipykernel_launcher.py:12: SettingWithCopyWarning: \n",
      "A value is trying to be set on a copy of a slice from a DataFrame.\n",
      "Try using .loc[row_indexer,col_indexer] = value instead\n",
      "\n",
      "See the caveats in the documentation: https://pandas.pydata.org/pandas-docs/stable/user_guide/indexing.html#returning-a-view-versus-a-copy\n",
      "  if sys.path[0] == '':\n"
     ]
    }
   ],
   "source": [
    "def count_types(data):\n",
    "    \n",
    "    data[\"mean\"] = 0\n",
    "    cats = [\"Type 1\", \"Type 2\", \"Type 3\", \"Type 4\", \"Type 5\", \"Type 6\"]\n",
    "    zeros = pd.DataFrame(np.zeros(len(cats)), columns=[\"mean\"], index = cats)\n",
    "    zeros.index.name=\"type\"\n",
    "    counts = zeros+data.groupby(\"type\").count()\n",
    "    counts[counts.isna()]=0\n",
    "    return counts\n",
    "\n",
    "dec[\"mean\"]= 0\n",
    "inc[\"mean\"]= 0"
   ]
  },
  {
   "cell_type": "code",
   "execution_count": 31,
   "metadata": {},
   "outputs": [],
   "source": [
    "count_m = inc.loc[:,[\"type\",\"field\"]].groupby([\"Exp\",\"field\"]).apply(count_types)\n",
    "increase = (count_m/inc.groupby([\"Exp\",\"field\"]).count()).filter([\"mean\"])\n",
    "\n",
    "count_b = dec.loc[:,[\"type\",\"field\"]].groupby([\"Exp\",\"field\"]).apply(count_types)\n",
    "decrese = (count_b/dec.groupby([\"Exp\",\"field\"]).count()).filter([\"mean\"])"
   ]
  },
  {
   "cell_type": "code",
   "execution_count": 32,
   "metadata": {},
   "outputs": [
    {
     "data": {
      "text/html": [
       "<div>\n",
       "<style scoped>\n",
       "    .dataframe tbody tr th:only-of-type {\n",
       "        vertical-align: middle;\n",
       "    }\n",
       "\n",
       "    .dataframe tbody tr th {\n",
       "        vertical-align: top;\n",
       "    }\n",
       "\n",
       "    .dataframe thead th {\n",
       "        text-align: right;\n",
       "    }\n",
       "</style>\n",
       "<table border=\"1\" class=\"dataframe\">\n",
       "  <thead>\n",
       "    <tr style=\"text-align: right;\">\n",
       "      <th></th>\n",
       "      <th></th>\n",
       "      <th></th>\n",
       "      <th>field</th>\n",
       "      <th>mean</th>\n",
       "    </tr>\n",
       "    <tr>\n",
       "      <th>Exp</th>\n",
       "      <th>field</th>\n",
       "      <th>type</th>\n",
       "      <th></th>\n",
       "      <th></th>\n",
       "    </tr>\n",
       "  </thead>\n",
       "  <tbody>\n",
       "    <tr>\n",
       "      <th rowspan=\"5\" valign=\"top\">0</th>\n",
       "      <th rowspan=\"5\" valign=\"top\">0.0</th>\n",
       "      <th>Type 1</th>\n",
       "      <td>0.0</td>\n",
       "      <td>1.0</td>\n",
       "    </tr>\n",
       "    <tr>\n",
       "      <th>Type 2</th>\n",
       "      <td>0.0</td>\n",
       "      <td>87.0</td>\n",
       "    </tr>\n",
       "    <tr>\n",
       "      <th>Type 3</th>\n",
       "      <td>0.0</td>\n",
       "      <td>181.0</td>\n",
       "    </tr>\n",
       "    <tr>\n",
       "      <th>Type 4</th>\n",
       "      <td>0.0</td>\n",
       "      <td>46.0</td>\n",
       "    </tr>\n",
       "    <tr>\n",
       "      <th>Type 5</th>\n",
       "      <td>0.0</td>\n",
       "      <td>76.0</td>\n",
       "    </tr>\n",
       "    <tr>\n",
       "      <th>...</th>\n",
       "      <th>...</th>\n",
       "      <th>...</th>\n",
       "      <td>...</td>\n",
       "      <td>...</td>\n",
       "    </tr>\n",
       "    <tr>\n",
       "      <th rowspan=\"5\" valign=\"top\">8</th>\n",
       "      <th rowspan=\"5\" valign=\"top\">200.0</th>\n",
       "      <th>Type 2</th>\n",
       "      <td>0.0</td>\n",
       "      <td>93.0</td>\n",
       "    </tr>\n",
       "    <tr>\n",
       "      <th>Type 3</th>\n",
       "      <td>0.0</td>\n",
       "      <td>88.0</td>\n",
       "    </tr>\n",
       "    <tr>\n",
       "      <th>Type 4</th>\n",
       "      <td>0.0</td>\n",
       "      <td>110.0</td>\n",
       "    </tr>\n",
       "    <tr>\n",
       "      <th>Type 5</th>\n",
       "      <td>0.0</td>\n",
       "      <td>98.0</td>\n",
       "    </tr>\n",
       "    <tr>\n",
       "      <th>Type 6</th>\n",
       "      <td>0.0</td>\n",
       "      <td>5.0</td>\n",
       "    </tr>\n",
       "  </tbody>\n",
       "</table>\n",
       "<p>72036 rows × 2 columns</p>\n",
       "</div>"
      ],
      "text/plain": [
       "                  field   mean\n",
       "Exp field type                \n",
       "0   0.0   Type 1    0.0    1.0\n",
       "          Type 2    0.0   87.0\n",
       "          Type 3    0.0  181.0\n",
       "          Type 4    0.0   46.0\n",
       "          Type 5    0.0   76.0\n",
       "...                 ...    ...\n",
       "8   200.0 Type 2    0.0   93.0\n",
       "          Type 3    0.0   88.0\n",
       "          Type 4    0.0  110.0\n",
       "          Type 5    0.0   98.0\n",
       "          Type 6    0.0    5.0\n",
       "\n",
       "[72036 rows x 2 columns]"
      ]
     },
     "execution_count": 32,
     "metadata": {},
     "output_type": "execute_result"
    }
   ],
   "source": [
    "count_b"
   ]
  },
  {
   "cell_type": "code",
   "execution_count": 33,
   "metadata": {},
   "outputs": [],
   "source": [
    "def evenly_spaced(series,space):\n",
    "    series_w_space = pd.concat([\n",
    "        series.droplevel([0,2]),series.droplevel([0,2]).reindex(space)]\n",
    "    ).groupby(series.droplevel([0,2]).index.name).first().sort_index()\n",
    "    \n",
    "    series_w_space = series_w_space.interpolate(method=\"index\")\n",
    "    return series_w_space.loc[space]"
   ]
  },
  {
   "cell_type": "code",
   "execution_count": 34,
   "metadata": {},
   "outputs": [],
   "source": [
    "field = np.linspace(0,200,50)\n",
    "\n",
    "\n",
    "vert_prop_evenspace_m = increase.groupby([\"Exp\",\"type\"]).apply(evenly_spaced,field)\n",
    "vert_prop_evenspace_b = decrese.groupby([\"Exp\",\"type\"]).apply(evenly_spaced,field)"
   ]
  },
  {
   "cell_type": "code",
   "execution_count": 35,
   "metadata": {},
   "outputs": [],
   "source": [
    "v_counts_m = vert_prop_evenspace_m.groupby([\"field\",\"type\"]).mean()\n",
    "v_counts_m[\"err\"] = vert_prop_evenspace_m.groupby(\n",
    "    [\"field\",\"type\"]).std()/np.sqrt(vert_prop_evenspace_m.groupby([\"field\",\"type\"]).count().values)"
   ]
  },
  {
   "cell_type": "code",
   "execution_count": 36,
   "metadata": {},
   "outputs": [],
   "source": [
    "v_counts_b = vert_prop_evenspace_b.groupby([\"field\",\"type\"]).mean()\n",
    "v_counts_b[\"err\"] = vert_prop_evenspace_b.groupby(\n",
    "    [\"field\",\"type\"]).std()/np.sqrt(vert_prop_evenspace_b.groupby([\"field\",\"type\"]).count().values)"
   ]
  },
  {
   "cell_type": "code",
   "execution_count": 37,
   "metadata": {},
   "outputs": [],
   "source": [
    "mpl.rc('text', usetex=False)\n",
    "mpl.rcParams['figure.dpi'] = 75\n",
    "\n",
    "mpl.rcParams['font.family'] = 'serif'"
   ]
  },
  {
   "cell_type": "code",
   "execution_count": 38,
   "metadata": {},
   "outputs": [],
   "source": [
    "mpl.rcParams['axes.prop_cycle'] = mpl.cycler(color=[\"blue\", \"orange\", \"green\", \"red\", \"purple\", \"cyan\"]) "
   ]
  },
  {
   "cell_type": "code",
   "execution_count": 39,
   "metadata": {},
   "outputs": [],
   "source": [
    "v_counts_m.to_csv('Subida'+str(change_m_time)+'.dat',sep = '\\t')\n",
    "v_counts_b.to_csv('Bajada'+str(change_m_time)+'.dat',sep = '\\t')"
   ]
  },
  {
   "cell_type": "code",
   "execution_count": 40,
   "metadata": {},
   "outputs": [
    {
     "name": "stdout",
     "output_type": "stream",
     "text": [
      "Type 1\n",
      "Type 2\n",
      "Type 3\n",
      "Type 4\n",
      "Type 5\n",
      "Type 6\n"
     ]
    },
    {
     "data": {
      "image/png": "[encoded data removed]",
      "text/plain": [
       "<Figure size 750x750 with 1 Axes>"
      ]
     },
     "metadata": {
      "needs_background": "light"
     },
     "output_type": "display_data"
    }
   ],
   "source": [
    "fig, ax1 = plt.subplots(figsize=(10,10))\n",
    "\n",
    "for typ_m, mtype in v_counts_m.groupby(\"type\"):\n",
    "    print(typ_m)\n",
    "    plt.errorbar(mtype.index.get_level_values(\"field\"), mtype[\"mean\"], yerr = mtype[\"err\"],fmt = 'o', label = typ_m)\n",
    "    \n",
    "for typ, vtype in v_counts_b.groupby(\"type\"):\n",
    "    plt.errorbar(vtype.index.get_level_values(\"field\"), vtype[\"mean\"], yerr = vtype[\"err\"],fmt = '-', label = typ)\n",
    "\n",
    "ax1.tick_params(axis='y', labelsize=30)\n",
    "ax1.tick_params(axis='x', labelsize=30)  \n",
    "\n",
    "#ax1.legend(fontsize = 18)\n",
    "ax1.set_xlabel('B (mT)', size = 30)\n",
    "ax1.set_ylabel('Vertex population', size = 30)\n",
    "\n",
    "plt.figtext(1,0.5,'$B_{max}$ = 200 mT \\ntotal time = 11600 s \\nrate = 0.035 mT/s \\ntime step = 10 ms \\n \\nN = 5 \\n \\ntrap height = 0.5 pN·nm \\nlattice constant = 33 $\\mu$m', size = 25)\n",
    "plt.tight_layout()\n",
    "#plt.savefig('BidisperseIce_hysteresis_loop', bbox_inches='tight')"
   ]
  },
  {
   "cell_type": "code",
   "execution_count": null,
   "metadata": {},
   "outputs": [],
   "source": []
  },
  {
   "cell_type": "code",
   "execution_count": null,
   "metadata": {},
   "outputs": [],
   "source": []
  }
 ],
 "metadata": {
  "kernelspec": {
   "display_name": "Python 3",
   "language": "python",
   "name": "python3"
  },
  "language_info": {
   "codemirror_mode": {
    "name": "ipython",
    "version": 3
   },
   "file_extension": ".py",
   "mimetype": "text/x-python",
   "name": "python",
   "nbconvert_exporter": "python",
   "pygments_lexer": "ipython3",
   "version": "3.7.6"
  }
 },
 "nbformat": 4,
 "nbformat_minor": 4
}
