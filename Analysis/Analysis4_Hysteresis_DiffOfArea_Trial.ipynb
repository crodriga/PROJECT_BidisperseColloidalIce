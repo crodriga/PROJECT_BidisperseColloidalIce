{
 "cells": [
  {
   "cell_type": "code",
   "execution_count": 1,
   "metadata": {},
   "outputs": [],
   "source": [
    "import pandas as pd\n",
    "import numpy as np\n",
    "import scipy.integrate as integrate\n",
    "import matplotlib.pyplot as plt\n",
    "import matplotlib as mpl"
   ]
  },
  {
   "cell_type": "code",
   "execution_count": 2,
   "metadata": {},
   "outputs": [],
   "source": [
    "mpl.rc('text', usetex=False)\n",
    "mpl.rcParams['figure.dpi'] = 100\n",
    "\n",
    "mpl.rcParams['font.family'] = 'serif'"
   ]
  },
  {
   "cell_type": "markdown",
   "metadata": {},
   "source": [
    "# Integrating areas"
   ]
  },
  {
   "cell_type": "markdown",
   "metadata": {},
   "source": [
    "In this notebook, I will integrate the area under the type 3 vertex population curve for the rising window and the decreasing one, then I will perform the substraction of both. I will perform this process for all the mT/s rates computed. So, the objective of this notebook is to have A_{rising}-A_{decresing} vs increasing(decreasing) mT/s rate. "
   ]
  },
  {
   "cell_type": "markdown",
   "metadata": {},
   "source": [
    "### 1. Importing the data"
   ]
  },
  {
   "cell_type": "code",
   "execution_count": 3,
   "metadata": {},
   "outputs": [],
   "source": [
    "Data_path = \"/home/carolina/Dropbox/BidisperseColloidalIce_PROJECT\""
   ]
  },
  {
   "cell_type": "code",
   "execution_count": 4,
   "metadata": {},
   "outputs": [],
   "source": [
    "dec = pd.read_csv('type3_dec.dat', sep = \"\\t\", index_col = [0,1])\n",
    "inc = pd.read_csv('type3_inc.dat', sep = \"\\t\", index_col = [0,1])"
   ]
  },
  {
   "cell_type": "code",
   "execution_count": 5,
   "metadata": {},
   "outputs": [],
   "source": [
    "dec_def = dec.dropna()"
   ]
  },
  {
   "cell_type": "code",
   "execution_count": 6,
   "metadata": {},
   "outputs": [
    {
     "data": {
      "text/plain": [
       "Float64Index([0.009483, 0.05, 0.1, 0.5, 1.0], dtype='float64', name='change_m_time')"
      ]
     },
     "execution_count": 6,
     "metadata": {},
     "output_type": "execute_result"
    }
   ],
   "source": [
    "dec.index.get_level_values(0).unique()"
   ]
  },
  {
   "cell_type": "code",
   "execution_count": 7,
   "metadata": {},
   "outputs": [
    {
     "data": {
      "text/html": [
       "<div>\n",
       "<style scoped>\n",
       "    .dataframe tbody tr th:only-of-type {\n",
       "        vertical-align: middle;\n",
       "    }\n",
       "\n",
       "    .dataframe tbody tr th {\n",
       "        vertical-align: top;\n",
       "    }\n",
       "\n",
       "    .dataframe thead th {\n",
       "        text-align: right;\n",
       "    }\n",
       "</style>\n",
       "<table border=\"1\" class=\"dataframe\">\n",
       "  <thead>\n",
       "    <tr style=\"text-align: right;\">\n",
       "      <th></th>\n",
       "      <th></th>\n",
       "      <th>type</th>\n",
       "      <th>mean</th>\n",
       "      <th>err</th>\n",
       "    </tr>\n",
       "    <tr>\n",
       "      <th>change_m_time</th>\n",
       "      <th>field</th>\n",
       "      <th></th>\n",
       "      <th></th>\n",
       "      <th></th>\n",
       "    </tr>\n",
       "  </thead>\n",
       "  <tbody>\n",
       "    <tr>\n",
       "      <th rowspan=\"5\" valign=\"top\">0.009483</th>\n",
       "      <th>0.000000</th>\n",
       "      <td>Type 3</td>\n",
       "      <td>0.121250</td>\n",
       "      <td>0.006250</td>\n",
       "    </tr>\n",
       "    <tr>\n",
       "      <th>4.081633</th>\n",
       "      <td>Type 3</td>\n",
       "      <td>0.118750</td>\n",
       "      <td>0.003750</td>\n",
       "    </tr>\n",
       "    <tr>\n",
       "      <th>8.163265</th>\n",
       "      <td>Type 3</td>\n",
       "      <td>0.116250</td>\n",
       "      <td>0.003750</td>\n",
       "    </tr>\n",
       "    <tr>\n",
       "      <th>12.244898</th>\n",
       "      <td>Type 3</td>\n",
       "      <td>0.139286</td>\n",
       "      <td>0.011143</td>\n",
       "    </tr>\n",
       "    <tr>\n",
       "      <th>16.326531</th>\n",
       "      <td>Type 3</td>\n",
       "      <td>0.147655</td>\n",
       "      <td>0.006798</td>\n",
       "    </tr>\n",
       "    <tr>\n",
       "      <th>...</th>\n",
       "      <th>...</th>\n",
       "      <td>...</td>\n",
       "      <td>...</td>\n",
       "      <td>...</td>\n",
       "    </tr>\n",
       "    <tr>\n",
       "      <th rowspan=\"5\" valign=\"top\">1.000000</th>\n",
       "      <th>183.673469</th>\n",
       "      <td>Type 3</td>\n",
       "      <td>0.438041</td>\n",
       "      <td>0.012152</td>\n",
       "    </tr>\n",
       "    <tr>\n",
       "      <th>187.755102</th>\n",
       "      <td>Type 3</td>\n",
       "      <td>0.435864</td>\n",
       "      <td>0.012672</td>\n",
       "    </tr>\n",
       "    <tr>\n",
       "      <th>191.836735</th>\n",
       "      <td>Type 3</td>\n",
       "      <td>0.433687</td>\n",
       "      <td>0.013399</td>\n",
       "    </tr>\n",
       "    <tr>\n",
       "      <th>195.918367</th>\n",
       "      <td>Type 3</td>\n",
       "      <td>0.432000</td>\n",
       "      <td>0.014085</td>\n",
       "    </tr>\n",
       "    <tr>\n",
       "      <th>200.000000</th>\n",
       "      <td>Type 3</td>\n",
       "      <td>0.432000</td>\n",
       "      <td>0.014085</td>\n",
       "    </tr>\n",
       "  </tbody>\n",
       "</table>\n",
       "<p>250 rows × 3 columns</p>\n",
       "</div>"
      ],
      "text/plain": [
       "                            type      mean       err\n",
       "change_m_time field                                 \n",
       "0.009483      0.000000    Type 3  0.121250  0.006250\n",
       "              4.081633    Type 3  0.118750  0.003750\n",
       "              8.163265    Type 3  0.116250  0.003750\n",
       "              12.244898   Type 3  0.139286  0.011143\n",
       "              16.326531   Type 3  0.147655  0.006798\n",
       "...                          ...       ...       ...\n",
       "1.000000      183.673469  Type 3  0.438041  0.012152\n",
       "              187.755102  Type 3  0.435864  0.012672\n",
       "              191.836735  Type 3  0.433687  0.013399\n",
       "              195.918367  Type 3  0.432000  0.014085\n",
       "              200.000000  Type 3  0.432000  0.014085\n",
       "\n",
       "[250 rows x 3 columns]"
      ]
     },
     "execution_count": 7,
     "metadata": {},
     "output_type": "execute_result"
    }
   ],
   "source": [
    "inc"
   ]
  },
  {
   "cell_type": "code",
   "execution_count": 8,
   "metadata": {},
   "outputs": [],
   "source": [
    "dec_data = dec_def.groupby('change_m_time')\n",
    "inc_data = inc.groupby('change_m_time')\n",
    "a = []\n",
    "b = []\n",
    "t = []\n",
    "for i, (n, gr) in enumerate(dec_data):\n",
    "    a.append(integrate.trapz(gr['mean'],gr.index.get_level_values('field')))\n",
    "    t.append(i)\n",
    "    \n",
    "for i_inc, (n_inc, gr_inc) in enumerate(inc_data):\n",
    "    b.append(integrate.trapz(gr_inc['mean'],gr_inc.index.get_level_values('field')))"
   ]
  },
  {
   "cell_type": "code",
   "execution_count": 9,
   "metadata": {},
   "outputs": [
    {
     "data": {
      "text/plain": [
       "[63.66078717201167,\n",
       " 57.546980424823,\n",
       " 57.684464806330695,\n",
       " 56.36144661946412,\n",
       " 55.91418159100375]"
      ]
     },
     "execution_count": 9,
     "metadata": {},
     "output_type": "execute_result"
    }
   ],
   "source": [
    "b"
   ]
  },
  {
   "cell_type": "code",
   "execution_count": 10,
   "metadata": {},
   "outputs": [
    {
     "data": {
      "text/plain": [
       "[85.13546438983755,\n",
       " 77.69110787172012,\n",
       " 70.78877551020409,\n",
       " 56.08804664723032,\n",
       " 56.48096626405663]"
      ]
     },
     "execution_count": 10,
     "metadata": {},
     "output_type": "execute_result"
    }
   ],
   "source": [
    "a"
   ]
  },
  {
   "cell_type": "code",
   "execution_count": 11,
   "metadata": {},
   "outputs": [
    {
     "name": "stdout",
     "output_type": "stream",
     "text": [
      "-21.474677217825878\n",
      "-20.144127446897123\n",
      "-13.104310703873395\n",
      "0.273399972233797\n",
      "-0.5667846730528865\n"
     ]
    }
   ],
   "source": [
    "c = []\n",
    "for i in range(len(a)):\n",
    "    print((b[i]-a[i]))\n",
    "    c.append(b[i]-a[i])"
   ]
  },
  {
   "cell_type": "code",
   "execution_count": 12,
   "metadata": {},
   "outputs": [],
   "source": [
    "#d = [0.0095,0.0145,0.0195,0.0245,0.0295,0.0395,0.0445,0.0495,0.0543,0.0595]\n",
    "d = [0.0095,0.05,0.1,0.5,1]"
   ]
  },
  {
   "cell_type": "code",
   "execution_count": 13,
   "metadata": {},
   "outputs": [
    {
     "data": {
      "image/png": "[encoded data removed]",
      "text/plain": [
       "<Figure size 600x400 with 1 Axes>"
      ]
     },
     "metadata": {
      "needs_background": "light"
     },
     "output_type": "display_data"
    }
   ],
   "source": [
    "plt.plot(d, c, 'o', markersize = 10, color = 'b')\n",
    "plt.ylabel('A_{1} - A_{2} \\n in (vertex type 3 population · mT)', size = 15, fontfamily = 'serif')\n",
    "plt.xlabel('rate (mT/s)', size = 15)\n",
    "plt.tick_params(axis='y', labelsize=16)\n",
    "plt.tick_params(axis='x', labelsize=16) \n",
    "#plt.savefig('Areas_vs_rate', bbox_inches='tight')"
   ]
  },
  {
   "cell_type": "markdown",
   "metadata": {},
   "source": [
    "# Computing errors"
   ]
  },
  {
   "cell_type": "code",
   "execution_count": 14,
   "metadata": {},
   "outputs": [],
   "source": [
    "dec = pd.read_csv('type3_dec.dat', sep = \"\\t\", index_col = [0,1])\n",
    "inc = pd.read_csv('type3_inc.dat', sep = \"\\t\", index_col = [0,1])"
   ]
  },
  {
   "cell_type": "code",
   "execution_count": 15,
   "metadata": {},
   "outputs": [],
   "source": [
    "dec_def = dec.dropna()"
   ]
  },
  {
   "cell_type": "code",
   "execution_count": 16,
   "metadata": {},
   "outputs": [
    {
     "name": "stderr",
     "output_type": "stream",
     "text": [
      "/home/carolina/anaconda3/lib/python3.7/site-packages/ipykernel_launcher.py:1: SettingWithCopyWarning: \n",
      "A value is trying to be set on a copy of a slice from a DataFrame.\n",
      "Try using .loc[row_indexer,col_indexer] = value instead\n",
      "\n",
      "See the caveats in the documentation: https://pandas.pydata.org/pandas-docs/stable/user_guide/indexing.html#returning-a-view-versus-a-copy\n",
      "  \"\"\"Entry point for launching an IPython kernel.\n"
     ]
    }
   ],
   "source": [
    "dec_def['max'] = dec_def['mean'] + dec_def['err']\n",
    "inc['max'] = inc['mean'] + inc['err']"
   ]
  },
  {
   "cell_type": "code",
   "execution_count": 17,
   "metadata": {},
   "outputs": [
    {
     "data": {
      "text/html": [
       "<div>\n",
       "<style scoped>\n",
       "    .dataframe tbody tr th:only-of-type {\n",
       "        vertical-align: middle;\n",
       "    }\n",
       "\n",
       "    .dataframe tbody tr th {\n",
       "        vertical-align: top;\n",
       "    }\n",
       "\n",
       "    .dataframe thead th {\n",
       "        text-align: right;\n",
       "    }\n",
       "</style>\n",
       "<table border=\"1\" class=\"dataframe\">\n",
       "  <thead>\n",
       "    <tr style=\"text-align: right;\">\n",
       "      <th></th>\n",
       "      <th></th>\n",
       "      <th>type</th>\n",
       "      <th>mean</th>\n",
       "      <th>err</th>\n",
       "      <th>max</th>\n",
       "    </tr>\n",
       "    <tr>\n",
       "      <th>change_m_time</th>\n",
       "      <th>field</th>\n",
       "      <th></th>\n",
       "      <th></th>\n",
       "      <th></th>\n",
       "      <th></th>\n",
       "    </tr>\n",
       "  </thead>\n",
       "  <tbody>\n",
       "    <tr>\n",
       "      <th rowspan=\"5\" valign=\"top\">0.009483</th>\n",
       "      <th>0.000000</th>\n",
       "      <td>Type 3</td>\n",
       "      <td>0.121250</td>\n",
       "      <td>0.006250</td>\n",
       "      <td>0.127500</td>\n",
       "    </tr>\n",
       "    <tr>\n",
       "      <th>4.081633</th>\n",
       "      <td>Type 3</td>\n",
       "      <td>0.118750</td>\n",
       "      <td>0.003750</td>\n",
       "      <td>0.122500</td>\n",
       "    </tr>\n",
       "    <tr>\n",
       "      <th>8.163265</th>\n",
       "      <td>Type 3</td>\n",
       "      <td>0.116250</td>\n",
       "      <td>0.003750</td>\n",
       "      <td>0.120000</td>\n",
       "    </tr>\n",
       "    <tr>\n",
       "      <th>12.244898</th>\n",
       "      <td>Type 3</td>\n",
       "      <td>0.139286</td>\n",
       "      <td>0.011143</td>\n",
       "      <td>0.150429</td>\n",
       "    </tr>\n",
       "    <tr>\n",
       "      <th>16.326531</th>\n",
       "      <td>Type 3</td>\n",
       "      <td>0.147655</td>\n",
       "      <td>0.006798</td>\n",
       "      <td>0.154452</td>\n",
       "    </tr>\n",
       "    <tr>\n",
       "      <th>...</th>\n",
       "      <th>...</th>\n",
       "      <td>...</td>\n",
       "      <td>...</td>\n",
       "      <td>...</td>\n",
       "      <td>...</td>\n",
       "    </tr>\n",
       "    <tr>\n",
       "      <th rowspan=\"5\" valign=\"top\">1.000000</th>\n",
       "      <th>183.673469</th>\n",
       "      <td>Type 3</td>\n",
       "      <td>0.438041</td>\n",
       "      <td>0.012152</td>\n",
       "      <td>0.450193</td>\n",
       "    </tr>\n",
       "    <tr>\n",
       "      <th>187.755102</th>\n",
       "      <td>Type 3</td>\n",
       "      <td>0.435864</td>\n",
       "      <td>0.012672</td>\n",
       "      <td>0.448536</td>\n",
       "    </tr>\n",
       "    <tr>\n",
       "      <th>191.836735</th>\n",
       "      <td>Type 3</td>\n",
       "      <td>0.433687</td>\n",
       "      <td>0.013399</td>\n",
       "      <td>0.447086</td>\n",
       "    </tr>\n",
       "    <tr>\n",
       "      <th>195.918367</th>\n",
       "      <td>Type 3</td>\n",
       "      <td>0.432000</td>\n",
       "      <td>0.014085</td>\n",
       "      <td>0.446085</td>\n",
       "    </tr>\n",
       "    <tr>\n",
       "      <th>200.000000</th>\n",
       "      <td>Type 3</td>\n",
       "      <td>0.432000</td>\n",
       "      <td>0.014085</td>\n",
       "      <td>0.446085</td>\n",
       "    </tr>\n",
       "  </tbody>\n",
       "</table>\n",
       "<p>250 rows × 4 columns</p>\n",
       "</div>"
      ],
      "text/plain": [
       "                            type      mean       err       max\n",
       "change_m_time field                                           \n",
       "0.009483      0.000000    Type 3  0.121250  0.006250  0.127500\n",
       "              4.081633    Type 3  0.118750  0.003750  0.122500\n",
       "              8.163265    Type 3  0.116250  0.003750  0.120000\n",
       "              12.244898   Type 3  0.139286  0.011143  0.150429\n",
       "              16.326531   Type 3  0.147655  0.006798  0.154452\n",
       "...                          ...       ...       ...       ...\n",
       "1.000000      183.673469  Type 3  0.438041  0.012152  0.450193\n",
       "              187.755102  Type 3  0.435864  0.012672  0.448536\n",
       "              191.836735  Type 3  0.433687  0.013399  0.447086\n",
       "              195.918367  Type 3  0.432000  0.014085  0.446085\n",
       "              200.000000  Type 3  0.432000  0.014085  0.446085\n",
       "\n",
       "[250 rows x 4 columns]"
      ]
     },
     "execution_count": 17,
     "metadata": {},
     "output_type": "execute_result"
    }
   ],
   "source": [
    "inc"
   ]
  },
  {
   "cell_type": "code",
   "execution_count": 18,
   "metadata": {},
   "outputs": [],
   "source": [
    "dec_data = dec_def.groupby('change_m_time')\n",
    "inc_data = inc.groupby('change_m_time')\n",
    "d_m = []\n",
    "i_m = []\n",
    "t = []\n",
    "for i, (n, gr) in enumerate(dec_data):\n",
    "    d_m.append(integrate.trapz(gr['max'],gr.index.get_level_values('field')))\n",
    "    t.append(i)\n",
    "    \n",
    "for i_inc, (n_inc, gr_inc) in enumerate(inc_data):\n",
    "    i_m.append(integrate.trapz(gr_inc['max'],gr_inc.index.get_level_values('field')))"
   ]
  },
  {
   "cell_type": "code",
   "execution_count": 19,
   "metadata": {},
   "outputs": [
    {
     "data": {
      "text/plain": [
       "[89.96782590587253,\n",
       " 79.81192426617412,\n",
       " 73.39589375791248,\n",
       " 58.70041793661907,\n",
       " 58.79959384484767]"
      ]
     },
     "execution_count": 19,
     "metadata": {},
     "output_type": "execute_result"
    }
   ],
   "source": [
    "d_m"
   ]
  },
  {
   "cell_type": "code",
   "execution_count": 20,
   "metadata": {},
   "outputs": [
    {
     "data": {
      "text/plain": [
       "[66.85213799805635,\n",
       " 59.123133041892736,\n",
       " 59.964021666426355,\n",
       " 57.95451141895516,\n",
       " 57.26049345623939]"
      ]
     },
     "execution_count": 20,
     "metadata": {},
     "output_type": "execute_result"
    }
   ],
   "source": [
    "i_m"
   ]
  },
  {
   "cell_type": "code",
   "execution_count": 21,
   "metadata": {},
   "outputs": [
    {
     "name": "stdout",
     "output_type": "stream",
     "text": [
      "-23.11568790781618\n",
      "-20.68879122428138\n",
      "-13.43187209148612\n",
      "-0.7459065176639115\n",
      "-1.5391003886082828\n"
     ]
    }
   ],
   "source": [
    "c_max = []\n",
    "for i in range(len(d_m)):\n",
    "    print((i_m[i]-d_m[i]))\n",
    "    c_max.append(i_m[i]-d_m[i])"
   ]
  },
  {
   "cell_type": "code",
   "execution_count": 22,
   "metadata": {},
   "outputs": [
    {
     "name": "stdout",
     "output_type": "stream",
     "text": [
      "\n",
      "\n",
      "\n",
      "\n",
      "\n"
     ]
    }
   ],
   "source": [
    "err = []\n",
    "for i in range(len(c)):\n",
    "    print()\n",
    "    err.append(c_max[i]-c[i])"
   ]
  },
  {
   "cell_type": "code",
   "execution_count": 23,
   "metadata": {},
   "outputs": [
    {
     "data": {
      "text/plain": [
       "[-1.6410106899903028,\n",
       " -0.5446637773842582,\n",
       " -0.32756138761272524,\n",
       " -1.0193064898977084,\n",
       " -0.9723157155553963]"
      ]
     },
     "execution_count": 23,
     "metadata": {},
     "output_type": "execute_result"
    }
   ],
   "source": [
    "err"
   ]
  },
  {
   "cell_type": "code",
   "execution_count": 24,
   "metadata": {},
   "outputs": [
    {
     "data": {
      "image/png": "[encoded data removed]",
      "text/plain": [
       "<Figure size 600x400 with 1 Axes>"
      ]
     },
     "metadata": {
      "needs_background": "light"
     },
     "output_type": "display_data"
    }
   ],
   "source": [
    "plt.errorbar(d, c,yerr = err, fmt = 'o', markersize = 10, color = 'b')\n",
    "plt.ylabel('$\\phi$', size = 15, fontfamily = 'serif')\n",
    "plt.xlabel('rate (mT/s)', size = 15)\n",
    "plt.tick_params(axis='y', labelsize=16)\n",
    "plt.tick_params(axis='x', labelsize=16) \n",
    "plt.savefig('Areas_vs_rate', bbox_inches='tight')"
   ]
  },
  {
   "cell_type": "code",
   "execution_count": 25,
   "metadata": {},
   "outputs": [],
   "source": [
    "import pandas as pd"
   ]
  },
  {
   "cell_type": "code",
   "execution_count": 26,
   "metadata": {},
   "outputs": [
    {
     "data": {
      "text/html": [
       "<div>\n",
       "<style scoped>\n",
       "    .dataframe tbody tr th:only-of-type {\n",
       "        vertical-align: middle;\n",
       "    }\n",
       "\n",
       "    .dataframe tbody tr th {\n",
       "        vertical-align: top;\n",
       "    }\n",
       "\n",
       "    .dataframe thead th {\n",
       "        text-align: right;\n",
       "    }\n",
       "</style>\n",
       "<table border=\"1\" class=\"dataframe\">\n",
       "  <thead>\n",
       "    <tr style=\"text-align: right;\">\n",
       "      <th></th>\n",
       "      <th>rate</th>\n",
       "      <th>phi</th>\n",
       "      <th>err phi</th>\n",
       "    </tr>\n",
       "  </thead>\n",
       "  <tbody>\n",
       "    <tr>\n",
       "      <th>0</th>\n",
       "      <td>0.0095</td>\n",
       "      <td>-21.474677</td>\n",
       "      <td>-1.641011</td>\n",
       "    </tr>\n",
       "    <tr>\n",
       "      <th>1</th>\n",
       "      <td>0.0500</td>\n",
       "      <td>-20.144127</td>\n",
       "      <td>-0.544664</td>\n",
       "    </tr>\n",
       "    <tr>\n",
       "      <th>2</th>\n",
       "      <td>0.1000</td>\n",
       "      <td>-13.104311</td>\n",
       "      <td>-0.327561</td>\n",
       "    </tr>\n",
       "    <tr>\n",
       "      <th>3</th>\n",
       "      <td>0.5000</td>\n",
       "      <td>0.273400</td>\n",
       "      <td>-1.019306</td>\n",
       "    </tr>\n",
       "    <tr>\n",
       "      <th>4</th>\n",
       "      <td>1.0000</td>\n",
       "      <td>-0.566785</td>\n",
       "      <td>-0.972316</td>\n",
       "    </tr>\n",
       "  </tbody>\n",
       "</table>\n",
       "</div>"
      ],
      "text/plain": [
       "     rate        phi   err phi\n",
       "0  0.0095 -21.474677 -1.641011\n",
       "1  0.0500 -20.144127 -0.544664\n",
       "2  0.1000 -13.104311 -0.327561\n",
       "3  0.5000   0.273400 -1.019306\n",
       "4  1.0000  -0.566785 -0.972316"
      ]
     },
     "execution_count": 26,
     "metadata": {},
     "output_type": "execute_result"
    }
   ],
   "source": [
    "d = {'rate': d, 'phi': c, 'err phi':err }\n",
    "\n",
    "df = pd.DataFrame(data=d)\n",
    "\n",
    "df"
   ]
  },
  {
   "cell_type": "code",
   "execution_count": 27,
   "metadata": {},
   "outputs": [],
   "source": [
    "df.to_csv('phi_vs_rate.dat', sep = '\\t')"
   ]
  },
  {
   "cell_type": "code",
   "execution_count": null,
   "metadata": {},
   "outputs": [],
   "source": []
  }
 ],
 "metadata": {
  "kernelspec": {
   "display_name": "Python 3",
   "language": "python",
   "name": "python3"
  },
  "language_info": {
   "codemirror_mode": {
    "name": "ipython",
    "version": 3
   },
   "file_extension": ".py",
   "mimetype": "text/x-python",
   "name": "python",
   "nbconvert_exporter": "python",
   "pygments_lexer": "ipython3",
   "version": "3.7.6"
  }
 },
 "nbformat": 4,
 "nbformat_minor": 4
}
