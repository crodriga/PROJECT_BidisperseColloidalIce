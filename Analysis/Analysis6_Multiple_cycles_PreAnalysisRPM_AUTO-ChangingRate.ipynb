{
 "cells": [
  {
   "cell_type": "markdown",
   "metadata": {},
   "source": [
    "#### Importing all the packages"
   ]
  },
  {
   "cell_type": "code",
   "execution_count": 1,
   "metadata": {},
   "outputs": [],
   "source": [
    "import os \n",
    "import sys\n",
    "\n",
    "sys.path.insert(0, 'icenumerics/')\n",
    "\n",
    "import icenumerics as ice\n",
    "import matplotlib.pyplot as plt\n",
    "import matplotlib as mpl\n",
    "import numpy as np\n",
    "import pandas as pd\n",
    "\n",
    "ureg = ice.ureg\n",
    "idx = pd.IndexSlice\n",
    "\n",
    "import warnings\n",
    "warnings.filterwarnings(\"error\")\n",
    "\n",
    "\n",
    "%reload_ext autoreload\n",
    "%autoreload 2\n",
    "\n",
    "import magcolloids as mgc\n",
    "\n",
    "mpl.rc('text', usetex=False)\n",
    "mpl.rcParams['figure.dpi'] = 100\n",
    "\n",
    "mpl.rcParams['font.family'] = 'serif'\n",
    "\n",
    "from multiprocessing import Pool\n",
    "import tqdm.auto as tqdm"
   ]
  },
  {
   "cell_type": "markdown",
   "metadata": {},
   "source": [
    "#### Importing data"
   ]
  },
  {
   "cell_type": "code",
   "execution_count": 2,
   "metadata": {},
   "outputs": [],
   "source": [
    "# < This function define the time/frame where the loop start and end >\n",
    "\n",
    "def time(n):\n",
    "    \n",
    "    B_max = 133\n",
    "    B_min = 105\n",
    "    slope = 0.069\n",
    "    tim = []\n",
    "    t = [round(B_max/slope)]\n",
    "    \n",
    "    for i in range(1,n):\n",
    "        t.append(round(((B_max-B_min)/slope+t[i-1])))\n",
    "    for i in range(len(t)):\n",
    "        tim.append(t[i]*100)\n",
    "    return tim"
   ]
  },
  {
   "cell_type": "code",
   "execution_count": 3,
   "metadata": {},
   "outputs": [],
   "source": [
    "# < This function reorder the ids in order to have the particle and the corresponding trap with the same id value >\n",
    "\n",
    "def reordering_id(df):\n",
    "    df = df.reset_index()\n",
    "    df[\"id\"] = df[\"id\"]-min(df[\"id\"])\n",
    "    df = df.set_index(['frame', 'id'])\n",
    "    del df['type']\n",
    "    return df"
   ]
  },
  {
   "cell_type": "code",
   "execution_count": 4,
   "metadata": {},
   "outputs": [],
   "source": [
    "# < This function filter the df values that match with the time/frame defined on function time >\n",
    "\n",
    "def filter_RPM_data(df,t):\n",
    "    df_def = []\n",
    "        \n",
    "    for i in range(len(t)):\n",
    "        if i % 2 == 0: # if i is even \n",
    "            \n",
    "            df_def.append(df.loc[[t[i]]]) # To save df at higher magnetic field value mT\n",
    "        else:\n",
    "            pass\n",
    "#            df_def.append(df.loc[[t[i]]])  # To save df at lower magnetic field value mT\n",
    "\n",
    "    df_f = pd.concat(df_def, axis =0)\n",
    "    return df_f"
   ]
  },
  {
   "cell_type": "code",
   "execution_count": 5,
   "metadata": {},
   "outputs": [],
   "source": [
    "# < Clean df >\n",
    "\n",
    "def del_col(df):\n",
    "    del df[\"mux\"]\n",
    "    del df[\"muy\"]\n",
    "    del df[\"muz\"]\n",
    "\n",
    "    del df[\"tmux\"]\n",
    "    del df[\"tmuy\"]\n",
    "    del df[\"tmuz\"]\n",
    "    return df"
   ]
  },
  {
   "cell_type": "code",
   "execution_count": 6,
   "metadata": {},
   "outputs": [],
   "source": [
    "def analysis(exp_entry):\n",
    "    \n",
    "    k = exp_entry[1].exp\n",
    "    \n",
    "    # < Load .lammpstrj data > \n",
    "\n",
    "    load_obj = mgc.trj_lazyread(r\"/home/carolina/lammps_script-7/BidisperseColloidalIce_RPM_rate0,05_l22_exp\"+str(k)+\".lammpstrj\", output = [\"x\",\"y\",\"z\",\"mux\",\"muy\",\"muz\"])\n",
    "    \n",
    "    \n",
    "    bnd = load_obj.get_bounds()\n",
    "    trj = load_obj.read_trj()\n",
    "    \n",
    "    # < Separate the high susceptibility particles and low susceptibility particles >\n",
    "\n",
    "    x = trj.loc[[883000]]\n",
    "    y = x.loc[(x['muz'] > 0.0003), 'type'].unique()\n",
    "    z = x.loc[((x['muz'] > 0.00005) & (x['muz'] < 0.0003)), 'type'].unique()\n",
    "    \n",
    "    part1 = trj.loc[trj['type'] == y[0]]\n",
    "    part2 = trj.loc[trj['type'] == z[0]]\n",
    "    \n",
    "    # < Separate between long and short traps >\n",
    "\n",
    "    d = x.loc[(abs(x['mux']) > 10), 'type'].unique()\n",
    "    e = x.loc[(abs(x['muy']) > 10), 'type'].unique()\n",
    "    \n",
    "    trap_long = trj.loc[trj['type'] == e[0]]\n",
    "    trap_short = trj.loc[trj['type'] == d[0]]\n",
    "    \n",
    "    t = time(18)\n",
    "    \n",
    "    t_short = reordering_id(trap_short)\n",
    "    t_long = reordering_id(trap_long)\n",
    "    p1 = reordering_id(part1)\n",
    "    p2 = reordering_id(part2)\n",
    "    \n",
    "    t_short = filter_RPM_data(t_short,t)\n",
    "    t_long = filter_RPM_data(t_long,t)\n",
    "    p1 = filter_RPM_data(p1,t)\n",
    "    p2 = filter_RPM_data(p2,t)\n",
    "    \n",
    "    t_s = t_short.rename(columns={\"x\": \"tx\", \"y\": \"ty\", \"z\": \"tz\", \"mux\": \"tmux\", \"muy\": \"tmuy\", \"muz\" : \"tmuz\"})\n",
    "    t_l = t_long.rename(columns={\"x\": \"tx\", \"y\": \"ty\", \"z\": \"tz\", \"mux\": \"tmux\", \"muy\": \"tmuy\", \"muz\" : \"tmuz\"})\n",
    "    \n",
    "    a  = pd.concat((p1,t_s), axis = 1)\n",
    "    b  = pd.concat((p2,t_l), axis = 1)\n",
    "    \n",
    "    a = del_col(a)\n",
    "    b = del_col(b)\n",
    "    \n",
    "    # < Define the positive spin if points towards x/y positives >\n",
    "    \n",
    "    a['resX'] = a[\"x\"]-a[\"tx\"]\n",
    "    b['resY'] = b[\"y\"]-b[\"ty\"]\n",
    "    \n",
    "    a[\"spin\"] = np.NaN\n",
    "    b[\"spin\"] = np.NaN\n",
    "    a.loc[a.resX > 0, \"spin\"] = 1\n",
    "    a.loc[a.resX < 0, \"spin\"] = -1\n",
    "    b.loc[b.resY > 0, \"spin\"] = 1\n",
    "    b.loc[b.resY < 0, \"spin\"] = -1\n",
    "    \n",
    "    a = a.drop(columns=[\"x\", \"tx\", \"y\", \"ty\", \"z\", \"tz\", \"resX\"])\n",
    "    b = b.drop(columns=[\"x\", \"tx\", \"y\", \"ty\", \"z\", \"tz\", \"resY\"])\n",
    "    \n",
    "    \n",
    "    # < Save data >\n",
    "    \n",
    "    df_short = filter_RPM_data(a,t)\n",
    "    df_long = filter_RPM_data(b,t)\n",
    "    \n",
    "    save_dir = 'Data_RPM_rate0,05'\n",
    "    \n",
    "    df_short.to_csv(os.path.join(save_dir,'Spins_short_133mT_EXP'+str(k)), sep = '\\t')\n",
    "    df_long.to_csv(os.path.join(save_dir,'Spins_long_133mT_EXP'+str(k)), sep = '\\t')\n",
    "    "
   ]
  },
  {
   "cell_type": "code",
   "execution_count": 7,
   "metadata": {},
   "outputs": [],
   "source": [
    "exp =  np.arange(25,50)\n",
    "experiments = pd.DataFrame({\"exp\":exp.flatten()})"
   ]
  },
  {
   "cell_type": "code",
   "execution_count": null,
   "metadata": {},
   "outputs": [
    {
     "data": {
      "application/vnd.jupyter.widget-view+json": {
       "model_id": "19332fa1ba4149a1bf29022689a12837",
       "version_major": 2,
       "version_minor": 0
      },
      "text/plain": [
       "HBox(children=(FloatProgress(value=0.0, max=25.0), HTML(value='')))"
      ]
     },
     "metadata": {},
     "output_type": "display_data"
    }
   ],
   "source": [
    "if __name__ ==  '__main__': \n",
    "    num_processors = 10\n",
    "    p=Pool(processes = num_processors)\n",
    "\n",
    "        \n",
    "    list(tqdm.tqdm(p.imap(analysis, experiments.iterrows()), total=len(experiments)))"
   ]
  },
  {
   "cell_type": "code",
   "execution_count": null,
   "metadata": {},
   "outputs": [],
   "source": []
  },
  {
   "cell_type": "code",
   "execution_count": null,
   "metadata": {},
   "outputs": [],
   "source": []
  },
  {
   "cell_type": "code",
   "execution_count": null,
   "metadata": {},
   "outputs": [],
   "source": []
  },
  {
   "cell_type": "code",
   "execution_count": null,
   "metadata": {},
   "outputs": [],
   "source": []
  }
 ],
 "metadata": {
  "kernelspec": {
   "display_name": "Python 3",
   "language": "python",
   "name": "python3"
  },
  "language_info": {
   "codemirror_mode": {
    "name": "ipython",
    "version": 3
   },
   "file_extension": ".py",
   "mimetype": "text/x-python",
   "name": "python",
   "nbconvert_exporter": "python",
   "pygments_lexer": "ipython3",
   "version": "3.7.6"
  }
 },
 "nbformat": 4,
 "nbformat_minor": 4
}
