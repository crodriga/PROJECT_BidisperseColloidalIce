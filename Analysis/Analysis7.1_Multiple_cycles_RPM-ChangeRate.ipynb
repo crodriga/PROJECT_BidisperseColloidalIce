{
 "cells": [
  {
   "cell_type": "code",
   "execution_count": 1,
   "metadata": {},
   "outputs": [],
   "source": [
    "import matplotlib.pyplot as plt\n",
    "import matplotlib as mpl"
   ]
  },
  {
   "cell_type": "code",
   "execution_count": 2,
   "metadata": {},
   "outputs": [],
   "source": [
    "from os import listdir\n",
    "from os.path import isfile, join\n",
    "import pandas as pd\n",
    "import fnmatch\n",
    "import numpy as np"
   ]
  },
  {
   "cell_type": "code",
   "execution_count": 3,
   "metadata": {},
   "outputs": [],
   "source": [
    "import matplotlib\n",
    "matplotlib.rcParams['font.family'] = \"sans-serif\"\n",
    "matplotlib.rcParams['font.sans-serif'] = \"Arial\""
   ]
  },
  {
   "cell_type": "markdown",
   "metadata": {},
   "source": [
    "# Spin Overlap Parameter"
   ]
  },
  {
   "cell_type": "code",
   "execution_count": 4,
   "metadata": {},
   "outputs": [],
   "source": [
    "data = 'Data_RPM_rate0,05'"
   ]
  },
  {
   "cell_type": "markdown",
   "metadata": {},
   "source": [
    "Reading the data"
   ]
  },
  {
   "cell_type": "code",
   "execution_count": 5,
   "metadata": {},
   "outputs": [
    {
     "name": "stdout",
     "output_type": "stream",
     "text": [
      "Spins_short_133mT_EXP0\n",
      "Spins_short_133mT_EXP17\n",
      "Spins_short_133mT_EXP24\n",
      "Spins_short_133mT_EXP11\n",
      "Spins_short_133mT_EXP23\n",
      "Spins_short_133mT_EXP18\n",
      "Spins_short_133mT_EXP48\n",
      "Spins_short_133mT_EXP21\n",
      "Spins_short_133mT_EXP45\n",
      "Spins_short_133mT_EXP16\n",
      "Spins_short_133mT_EXP40\n",
      "Spins_short_133mT_EXP42\n",
      "Spins_short_133mT_EXP33\n",
      "Spins_short_133mT_EXP49\n",
      "Spins_short_133mT_EXP37\n",
      "Spins_short_133mT_EXP12\n",
      "Spins_short_133mT_EXP19\n",
      "Spins_short_133mT_EXP43\n",
      "Spins_short_133mT_EXP6\n",
      "Spins_short_133mT_EXP32\n",
      "Spins_short_133mT_EXP1\n",
      "Spins_short_133mT_EXP30\n",
      "Spins_short_133mT_EXP15\n",
      "Spins_short_133mT_EXP28\n",
      "Spins_short_133mT_EXP13\n",
      "Spins_short_133mT_EXP20\n",
      "Spins_short_133mT_EXP10\n",
      "Spins_short_133mT_EXP4\n",
      "Spins_short_133mT_EXP35\n",
      "Spins_short_133mT_EXP47\n",
      "Spins_short_133mT_EXP36\n",
      "Spins_short_133mT_EXP22\n",
      "Spins_short_133mT_EXP44\n",
      "Spins_short_133mT_EXP5\n",
      "Spins_short_133mT_EXP39\n",
      "Spins_short_133mT_EXP34\n",
      "Spins_short_133mT_EXP14\n",
      "Spins_short_133mT_EXP8\n",
      "Spins_short_133mT_EXP29\n",
      "Spins_short_133mT_EXP46\n",
      "Spins_short_133mT_EXP7\n",
      "Spins_short_133mT_EXP27\n",
      "Spins_short_133mT_EXP2\n",
      "Spins_short_133mT_EXP9\n",
      "Spins_short_133mT_EXP38\n"
     ]
    }
   ],
   "source": [
    "df_s = []\n",
    "df_l = []\n",
    "for f in listdir(data):\n",
    "    if fnmatch.fnmatch(f, 'Spins_short_133mT_EXP*'):\n",
    "        print(f)\n",
    "        df_s.append(pd.read_csv(join(data,f), sep = \"\\t\", index_col = [0,1]))\n",
    "    if fnmatch.fnmatch(f, 'Spins_long_133mT_EXP*'):\n",
    "        df_l.append(pd.read_csv(join(data,f), sep = \"\\t\", index_col = [0,1]))\n",
    "\n",
    "keys = []\n",
    "for i in range(len(df_s)):\n",
    "    keys.append(i)"
   ]
  },
  {
   "cell_type": "code",
   "execution_count": 6,
   "metadata": {},
   "outputs": [],
   "source": [
    "short = pd.concat(df_s, keys = keys)\n",
    "long = pd.concat(df_l, keys = keys)"
   ]
  },
  {
   "cell_type": "code",
   "execution_count": 7,
   "metadata": {},
   "outputs": [],
   "source": [
    "short.index = short.index.rename([\"exp\", \"frame\", \"id\"])"
   ]
  },
  {
   "cell_type": "code",
   "execution_count": 8,
   "metadata": {},
   "outputs": [
    {
     "data": {
      "text/plain": [
       "Int64Index([192800, 274000, 355200, 436400, 517600, 598800, 680000, 761200,\n",
       "            842400],\n",
       "           dtype='int64', name='frame')"
      ]
     },
     "execution_count": 8,
     "metadata": {},
     "output_type": "execute_result"
    }
   ],
   "source": [
    "short.index.unique('frame')"
   ]
  },
  {
   "cell_type": "markdown",
   "metadata": {},
   "source": [
    "Multipliying the spins direction at differet cycles values"
   ]
  },
  {
   "cell_type": "code",
   "execution_count": 9,
   "metadata": {},
   "outputs": [],
   "source": [
    "# < For 133 mT >\n",
    "def Spm(df, i):\n",
    "    \n",
    "    q1 = df.loc[(i,192800)]*df.loc[(i,274000)]\n",
    "    q2 = df.loc[(i,274000)]*df.loc[(i,355200)]\n",
    "    q3 = df.loc[(i,355200)]*df.loc[(i,436400)]\n",
    "    q4 = df.loc[(i,436400)]*df.loc[(i,517600)]\n",
    "    q5 = df.loc[(i,517600)]*df.loc[(i,598800)]\n",
    "    q6 = df.loc[(i,598800)]*df.loc[(i,680000)]\n",
    "    q7 = df.loc[(i,680000)]*df.loc[(i,761200)]\n",
    "    q8 = df.loc[(i,761200)]*df.loc[(i,842400)]\n",
    "\n",
    "    q = [q1,q2,q3,q4,q5,q6,q7,q8]\n",
    "    \n",
    "    a = []\n",
    "    for i in q:\n",
    "        \n",
    "        a.append((i.sum()/i.count()).values)\n",
    "        \n",
    "    \n",
    "    return a"
   ]
  },
  {
   "cell_type": "code",
   "execution_count": 10,
   "metadata": {},
   "outputs": [],
   "source": [
    "# < For 135 mT >\n",
    "#def Spm(df, i):\n",
    "    \n",
    "#    q1 = df.loc[(i,200000)]*df.loc[(i,281200)]\n",
    "#    q2 = df.loc[(i,281200)]*df.loc[(i,362400)]\n",
    "#    q3 = df.loc[(i,362400)]*df.loc[(i,443600)]\n",
    "#    q4 = df.loc[(i,443600)]*df.loc[(i,524800)]\n",
    "#    q5 = df.loc[(i,524800)]*df.loc[(i,606000)]\n",
    "#    q6 = df.loc[(i,606000)]*df.loc[(i,687200)]\n",
    "#    q7 = df.loc[(i,687200)]*df.loc[(i,768400)]\n",
    "#    q8 = df.loc[(i,768400)]*df.loc[(i,849600)]\n",
    "\n",
    "#    q = [q1,q2,q3,q4,q5,q6,q7,q8]\n",
    "    \n",
    "#    a = []\n",
    "#    for i in q:\n",
    "        \n",
    "#        a.append((i.sum()/i.count()).values)\n",
    "        \n",
    "    \n",
    "#    return a"
   ]
  },
  {
   "cell_type": "code",
   "execution_count": 11,
   "metadata": {},
   "outputs": [],
   "source": [
    "# < For 135 mT >\n",
    "#def Spm(df, i):\n",
    "    \n",
    "#    q1 = df.loc[(i,135000)]*df.loc[(i,165000)]\n",
    "#    q2 = df.loc[(i,165000)]*df.loc[(i,195000)]\n",
    "#    q3 = df.loc[(i,195000)]*df.loc[(i,225000)]\n",
    "#    q4 = df.loc[(i,225000)]*df.loc[(i,255000)]\n",
    "#    q5 = df.loc[(i,255000)]*df.loc[(i,285000)]\n",
    "#    q6 = df.loc[(i,285000)]*df.loc[(i,315000)]\n",
    "#    q7 = df.loc[(i,315000)]*df.loc[(i,345000)]\n",
    "#    q8 = df.loc[(i,345000)]*df.loc[(i,375000)]\n",
    "\n",
    "#    q = [q1,q2,q3,q4,q5,q6,q7,q8]\n",
    "    \n",
    "#    a = []\n",
    "#    for i in q:\n",
    "        \n",
    "#        a.append((i.sum()/i.count()).values)\n",
    "        \n",
    "    \n",
    "#    return a"
   ]
  },
  {
   "cell_type": "code",
   "execution_count": 12,
   "metadata": {},
   "outputs": [],
   "source": [
    "# < For 126 mT >\n",
    "#def Spm(df, i):\n",
    "    \n",
    "#    q1 = df.loc[(i,1260000)]*df.loc[(i,2100000)]\n",
    "#    q2 = df.loc[(i,2100000)]*df.loc[(i,2940000)]\n",
    "#    q3 = df.loc[(i,2940000)]*df.loc[(i,3780000)]\n",
    "#    q4 = df.loc[(i,3780000)]*df.loc[(i,4620000)]\n",
    "#    q5 = df.loc[(i,4620000)]*df.loc[(i,5460000)]\n",
    "#    q6 = df.loc[(i,5460000)]*df.loc[(i,6300000)]\n",
    "#    q7 = df.loc[(i,6300000)]*df.loc[(i,7140000)]\n",
    "#    q8 = df.loc[(i,7140000)]*df.loc[(i,7980000)]\n",
    "\n",
    "#    q = [q1,q2,q3,q4,q5,q6,q7,q8]\n",
    "    \n",
    "#    a = []\n",
    "#    for i in q:\n",
    "        \n",
    "#        a.append((i.sum()/i.count()).values)\n",
    "        \n",
    "    \n",
    "#    return a"
   ]
  },
  {
   "cell_type": "markdown",
   "metadata": {},
   "source": [
    "Doing the same for each experiment (Here N = 10)"
   ]
  },
  {
   "cell_type": "code",
   "execution_count": 13,
   "metadata": {},
   "outputs": [],
   "source": [
    "def order_data(df):\n",
    "    exp_f = []\n",
    "    for i in range(len(df.index.unique(0))):\n",
    "    \n",
    "        exp_f.append(Spm(df,i))\n",
    "    \n",
    "    return exp_f\n",
    "    "
   ]
  },
  {
   "cell_type": "code",
   "execution_count": 14,
   "metadata": {},
   "outputs": [
    {
     "data": {
      "text/plain": [
       "Int64Index([ 0,  1,  2,  3,  4,  5,  6,  7,  8,  9, 10, 11, 12, 13, 14, 15, 16,\n",
       "            17, 18, 19, 20, 21, 22, 23, 24, 25, 26, 27, 28, 29, 30, 31, 32, 33,\n",
       "            34, 35, 36, 37, 38, 39, 40, 41, 42, 43, 44],\n",
       "           dtype='int64', name='exp')"
      ]
     },
     "execution_count": 14,
     "metadata": {},
     "output_type": "execute_result"
    }
   ],
   "source": [
    "short.index.unique(0)"
   ]
  },
  {
   "cell_type": "code",
   "execution_count": 15,
   "metadata": {},
   "outputs": [],
   "source": [
    "df_s = order_data(short)\n",
    "df_l = order_data(long)"
   ]
  },
  {
   "cell_type": "markdown",
   "metadata": {},
   "source": [
    "Obtaining the mean value of the Spin Overlap Function over N = 10 experiments"
   ]
  },
  {
   "cell_type": "code",
   "execution_count": 16,
   "metadata": {},
   "outputs": [],
   "source": [
    "q_f = []\n",
    "q_err_f = []\n",
    "\n",
    "def mean_data_and_err(df):\n",
    "    \n",
    "    q = np.mean(df, axis = 0)\n",
    "    q_err = np.std(df,axis = 0)/np.sqrt(len(df))\n",
    "    q_f = q.flatten()\n",
    "    q_err_f = q_err.flatten()\n",
    "    \n",
    "    return q_f, q_err_f"
   ]
  },
  {
   "cell_type": "code",
   "execution_count": 17,
   "metadata": {},
   "outputs": [],
   "source": [
    "q_s, q_s_err = mean_data_and_err(df_s)\n",
    "q_l, q_l_err = mean_data_and_err(df_l)\n"
   ]
  },
  {
   "cell_type": "code",
   "execution_count": 18,
   "metadata": {},
   "outputs": [
    {
     "data": {
      "text/plain": [
       "array([0.23194128, 0.35984825, 0.41250088, 0.40423337, 0.44989515,\n",
       "       0.48583672, 0.46531093, 0.4425328 ])"
      ]
     },
     "execution_count": 18,
     "metadata": {},
     "output_type": "execute_result"
    }
   ],
   "source": [
    "q_l.flatten()"
   ]
  },
  {
   "cell_type": "code",
   "execution_count": 19,
   "metadata": {},
   "outputs": [
    {
     "data": {
      "text/plain": [
       "array([0.24160255, 0.32714953, 0.37320549, 0.33936206, 0.35788964,\n",
       "       0.41082612, 0.40554519, 0.36251352])"
      ]
     },
     "execution_count": 19,
     "metadata": {},
     "output_type": "execute_result"
    }
   ],
   "source": [
    "q_s"
   ]
  },
  {
   "cell_type": "code",
   "execution_count": 20,
   "metadata": {},
   "outputs": [],
   "source": [
    "d1 = {'S': q_s, 'err': q_s_err}\n",
    "d2 = {'S': q_l, 'err': q_l_err}\n",
    "\n",
    "\n",
    "df_s = pd.DataFrame(data=d1)\n",
    "df_l = pd.DataFrame(data=d2)"
   ]
  },
  {
   "cell_type": "code",
   "execution_count": 21,
   "metadata": {},
   "outputs": [],
   "source": [
    "df_l.to_csv(\"SpinOverlapParameter_LongTraps_at_133mT_N=50\", sep = \"\\t\")\n",
    "df_s.to_csv(\"SpinOverlapParameter_ShortTraps_at_133mT_N=50\", sep = \"\\t\")"
   ]
  },
  {
   "cell_type": "code",
   "execution_count": 22,
   "metadata": {},
   "outputs": [
    {
     "data": {
      "text/plain": [
       "(          S       err\n",
       " 0  0.231941  0.007288\n",
       " 1  0.359848  0.008149\n",
       " 2  0.412501  0.008924\n",
       " 3  0.404233  0.007610\n",
       " 4  0.449895  0.008322\n",
       " 5  0.485837  0.010110\n",
       " 6  0.465311  0.008163\n",
       " 7  0.442533  0.008792,\n",
       "           S       err\n",
       " 0  0.241603  0.007598\n",
       " 1  0.327150  0.007480\n",
       " 2  0.373205  0.007464\n",
       " 3  0.339362  0.007305\n",
       " 4  0.357890  0.006529\n",
       " 5  0.410826  0.009188\n",
       " 6  0.405545  0.005886\n",
       " 7  0.362514  0.006561)"
      ]
     },
     "execution_count": 22,
     "metadata": {},
     "output_type": "execute_result"
    }
   ],
   "source": [
    "df_l, df_s"
   ]
  },
  {
   "cell_type": "code",
   "execution_count": 23,
   "metadata": {},
   "outputs": [],
   "source": [
    "rate05 = (df_l.loc[:]+df_s.loc[:])/2"
   ]
  },
  {
   "cell_type": "code",
   "execution_count": 24,
   "metadata": {},
   "outputs": [],
   "source": [
    "rate05.to_csv(\"SpinOverlapParameter_rate0,05_at_133mT\", sep = \"\\t\")"
   ]
  },
  {
   "cell_type": "markdown",
   "metadata": {},
   "source": [
    "Plotting results"
   ]
  },
  {
   "cell_type": "code",
   "execution_count": 25,
   "metadata": {},
   "outputs": [
    {
     "data": {
      "text/plain": [
       "<matplotlib.legend.Legend at 0x7fc73d89e610>"
      ]
     },
     "execution_count": 25,
     "metadata": {},
     "output_type": "execute_result"
    },
    {
     "data": {
      "image/png": "[encoded data removed]",
      "text/plain": [
       "<Figure size 432x288 with 1 Axes>"
      ]
     },
     "metadata": {
      "needs_background": "light"
     },
     "output_type": "display_data"
    }
   ],
   "source": [
    "plt.errorbar(y = rate05.S, x = [0,1,2,3,4,5,6,7], yerr = rate05.err, fmt = '.' ,label = 'short traps', color = 'blue')\n",
    "#plt.errorbar(y = q_l, x = [0,1,2,3,4,5,6,7], yerr = q_l_err, fmt = '.', label = 'long traps', color = 'gray')\n",
    "plt.xlabel('No. of cycle', size = 17)\n",
    "plt.ylabel('Spin Overlap parameter', size = 17)\n",
    "plt.title('138 mT', size = 17)\n",
    "plt.legend()\n",
    "#plt.savefig('Spin_Overlap_Parameter_130mT_N=50.png', bbox_inches='tight')"
   ]
  },
  {
   "cell_type": "markdown",
   "metadata": {},
   "source": [
    "# Merge data with different rates"
   ]
  },
  {
   "cell_type": "code",
   "execution_count": 26,
   "metadata": {},
   "outputs": [],
   "source": [
    "long_r069 = pd.read_csv(\"SpinOverlapParameter_LongTraps_at_138mT_N=50\", sep = \"\\t\", index_col = [0])\n",
    "short_r069 = pd.read_csv(\"SpinOverlapParameter_ShortTraps_at_138mT_N=50\", sep = \"\\t\", index_col = [0])"
   ]
  },
  {
   "cell_type": "code",
   "execution_count": 27,
   "metadata": {},
   "outputs": [],
   "source": [
    "rate069 = (long_r069.loc[:]+short_r069.loc[:])/2"
   ]
  },
  {
   "cell_type": "code",
   "execution_count": 28,
   "metadata": {},
   "outputs": [],
   "source": [
    "rate069.to_csv(\"SpinOverlapParameter_rate0,069_at_138mT\", sep = \"\\t\")"
   ]
  },
  {
   "cell_type": "code",
   "execution_count": 29,
   "metadata": {},
   "outputs": [],
   "source": [
    "long_r1 = pd.read_csv(\"SpinOverlapParameter_LongTraps_at_135mT_N=50\", sep = \"\\t\", index_col = [0])\n",
    "short_r1 = pd.read_csv(\"SpinOverlapParameter_ShortTraps_at_135mT_N=50\", sep = \"\\t\", index_col = [0])"
   ]
  },
  {
   "cell_type": "code",
   "execution_count": 30,
   "metadata": {},
   "outputs": [],
   "source": [
    "rate1 = (long_r1.loc[:]+short_r1.loc[:])/2"
   ]
  },
  {
   "cell_type": "code",
   "execution_count": 31,
   "metadata": {},
   "outputs": [],
   "source": [
    "rate1.to_csv(\"SpinOverlapParameter_rate0,1_at_135mT\", sep = \"\\t\")"
   ]
  },
  {
   "cell_type": "code",
   "execution_count": 32,
   "metadata": {},
   "outputs": [],
   "source": [
    "long_r01 = pd.read_csv(\"SpinOverlapParameter_LongTraps_at_126mT_N=50\", sep = \"\\t\", index_col = [0])\n",
    "short_r01 = pd.read_csv(\"SpinOverlapParameter_ShortTraps_at_126mT_N=50\", sep = \"\\t\", index_col = [0])"
   ]
  },
  {
   "cell_type": "code",
   "execution_count": 33,
   "metadata": {},
   "outputs": [],
   "source": [
    "rate01 = (long_r01.loc[:]+short_r01.loc[:])/2"
   ]
  },
  {
   "cell_type": "code",
   "execution_count": 34,
   "metadata": {},
   "outputs": [],
   "source": [
    "rate01.to_csv(\"SpinOverlapParameter_rate0,01_at_126mT\", sep = \"\\t\")"
   ]
  },
  {
   "cell_type": "code",
   "execution_count": 35,
   "metadata": {},
   "outputs": [],
   "source": [
    "long_r35 = pd.read_csv(\"SpinOverlapParameter_LongTraps_at_130mT_N=50\", sep = \"\\t\", index_col = [0])\n",
    "short_r35 = pd.read_csv(\"SpinOverlapParameter_ShortTraps_at_130mT_N=50\", sep = \"\\t\", index_col = [0])"
   ]
  },
  {
   "cell_type": "code",
   "execution_count": 36,
   "metadata": {},
   "outputs": [],
   "source": [
    "rate035 = (long_r35.loc[:]+short_r35.loc[:])/2"
   ]
  },
  {
   "cell_type": "code",
   "execution_count": 37,
   "metadata": {},
   "outputs": [],
   "source": [
    "rate035.to_csv(\"SpinOverlapParameter_rate0,035_at_130mT\", sep = \"\\t\")"
   ]
  },
  {
   "cell_type": "code",
   "execution_count": 38,
   "metadata": {},
   "outputs": [
    {
     "data": {
      "image/png": "[encoded data removed]",
      "text/plain": [
       "<Figure size 288x288 with 1 Axes>"
      ]
     },
     "metadata": {
      "needs_background": "light"
     },
     "output_type": "display_data"
    }
   ],
   "source": [
    "import matplotlib.pyplot as plt\n",
    "\n",
    "plt.figure(figsize = (4,4))\n",
    "\n",
    "#plt.errorbar(y = rate05.S, x = [0,1,2,3,4,5,6,7], yerr = rate05.err, capsize = 3,fmt = '-o' ,markersize = 7,label = '0.05 mT/s', color = 'blue')\n",
    "#plt.errorbar(y = q_l, x = [0,1,2,3,4,5,6,7], yerr = q_l_err, fmt = '-.',markersize = 10, label = 'long traps 0.069 mT/s at 138 mT' , color = 'gray')\n",
    "\n",
    "\n",
    "plt.errorbar(y = rate1['S'], x = [1,2,3,4,5,6,7,8], yerr = rate1['err'], capsize = 3,fmt = '-o' ,markersize = 7,label = '0.1 mT/s', color = 'green')\n",
    "#plt.errorbar(y = short_r1['S'], x = [0,1,2,3,4,5,6,7], yerr = short_r1['err'], fmt = '->',markersize = 10, label = 'short traps 0.1 mT/s at 135 mT', color = 'blue')\n",
    "plt.errorbar(y = rate069['S'], x = [1,2,3,4,5,6,7,8], yerr = rate069['err'], capsize = 3,fmt = '-o' ,markersize = 7,label = '0.069 mT/s', color = 'blue')\n",
    "plt.errorbar(y = rate035['S'], x = [1,2,3,4,5,6,7,8], yerr = rate035['err'], capsize = 3,fmt = '-o' ,markersize = 7,label = '0.035 mT/s', color = 'red')\n",
    "\n",
    "\n",
    "plt.errorbar(y = rate01['S'], x = [1,2,3,4,5,6,7,8], yerr = rate01['err'], capsize = 3,fmt = '-o' ,markersize = 7,label = '0.01 mT/s', color = 'orange')\n",
    "#plt.errorbar(y = short_r01['S'], x = [0,1,2,3,4,5,6,7], yerr = short_r01['err'], fmt = '-o',markersize = 10, label = 'short traps 0.01 mT/s at 126 mT', color = 'blue')\n",
    "\n",
    "#plt.errorbar(y = short_r35['S'], x = [0,1,2,3,4,5,6,7], yerr = short_r35['err'], fmt = ':^',markersize = 10, label = 'short traps 0.035 mT/s at 130 mT', color = 'blue')\n",
    "\n",
    "plt.xlabel('No. of cycle', size = 20)\n",
    "plt.ylabel('$q_{s}$', size = 20)\n",
    "plt.legend(bbox_to_anchor=(1.1, 1.3), fontsize=15, ncol = 2)\n",
    "plt.xticks(fontsize=15)\n",
    "plt.yticks(fontsize=15, ticks=[0.25,0.3,0.35,0.40,0.45])\n",
    "#plt.yticks(fontsize=15, ticks=[0.3,0.4])\n",
    "#plt.yscale('Log')\n",
    "#plt.xscale('Log')\n",
    "\n",
    "plt.savefig('RPM.png', bbox_inches='tight')"
   ]
  },
  {
   "cell_type": "code",
   "execution_count": 39,
   "metadata": {},
   "outputs": [],
   "source": [
    "data  = pd.concat((rate069,rate1,rate01,rate035),keys = [0.069,0.1,0.01,0.035])"
   ]
  },
  {
   "cell_type": "code",
   "execution_count": 40,
   "metadata": {},
   "outputs": [],
   "source": [
    "data.to_csv('data_Fig4c.dat', sep = '\\t')"
   ]
  },
  {
   "cell_type": "code",
   "execution_count": null,
   "metadata": {},
   "outputs": [],
   "source": []
  }
 ],
 "metadata": {
  "kernelspec": {
   "display_name": "Python 3",
   "language": "python",
   "name": "python3"
  },
  "language_info": {
   "codemirror_mode": {
    "name": "ipython",
    "version": 3
   },
   "file_extension": ".py",
   "mimetype": "text/x-python",
   "name": "python",
   "nbconvert_exporter": "python",
   "pygments_lexer": "ipython3",
   "version": "3.7.6"
  }
 },
 "nbformat": 4,
 "nbformat_minor": 4
}
