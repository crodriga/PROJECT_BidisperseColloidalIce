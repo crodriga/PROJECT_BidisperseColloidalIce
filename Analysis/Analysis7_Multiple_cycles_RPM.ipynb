{
 "cells": [
  {
   "cell_type": "code",
   "execution_count": 1,
   "metadata": {},
   "outputs": [],
   "source": [
    "import matplotlib.pyplot as plt\n",
    "import matplotlib as mpl"
   ]
  },
  {
   "cell_type": "code",
   "execution_count": 2,
   "metadata": {},
   "outputs": [],
   "source": [
    "from os import listdir\n",
    "from os.path import isfile, join\n",
    "import pandas as pd\n",
    "import fnmatch\n",
    "import numpy as np"
   ]
  },
  {
   "cell_type": "code",
   "execution_count": 3,
   "metadata": {},
   "outputs": [],
   "source": [
    "mpl.rc('text', usetex=False)\n",
    "mpl.rcParams['figure.dpi'] = 100\n",
    "\n",
    "mpl.rcParams['font.family'] = 'serif'"
   ]
  },
  {
   "cell_type": "markdown",
   "metadata": {},
   "source": [
    "# Spin Overlap Parameter"
   ]
  },
  {
   "cell_type": "code",
   "execution_count": 6,
   "metadata": {},
   "outputs": [],
   "source": [
    "data = 'Data_RPM_rate0,035_N=50'"
   ]
  },
  {
   "cell_type": "markdown",
   "metadata": {},
   "source": [
    "Reading the data"
   ]
  },
  {
   "cell_type": "code",
   "execution_count": 7,
   "metadata": {},
   "outputs": [
    {
     "name": "stdout",
     "output_type": "stream",
     "text": [
      "Spins_short_130mT_EXP13\n",
      "Spins_short_130mT_EXP41\n",
      "Spins_short_130mT_EXP17\n",
      "Spins_short_130mT_EXP35\n",
      "Spins_short_130mT_EXP19\n",
      "Spins_short_130mT_EXP27\n",
      "Spins_short_130mT_EXP46\n",
      "Spins_short_130mT_EXP42\n",
      "Spins_short_130mT_EXP34\n",
      "Spins_short_130mT_EXP3\n",
      "Spins_short_130mT_EXP10\n",
      "Spins_short_130mT_EXP6\n",
      "Spins_short_130mT_EXP30\n",
      "Spins_short_130mT_EXP22\n",
      "Spins_short_130mT_EXP32\n",
      "Spins_short_130mT_EXP36\n",
      "Spins_short_130mT_EXP18\n",
      "Spins_short_130mT_EXP9\n",
      "Spins_short_130mT_EXP39\n",
      "Spins_short_130mT_EXP11\n",
      "Spins_short_130mT_EXP48\n",
      "Spins_short_130mT_EXP45\n",
      "Spins_short_130mT_EXP5\n",
      "Spins_short_130mT_EXP20\n",
      "Spins_short_130mT_EXP49\n",
      "Spins_short_130mT_EXP40\n",
      "Spins_short_130mT_EXP2\n",
      "Spins_short_130mT_EXP38\n",
      "Spins_short_130mT_EXP44\n",
      "Spins_short_130mT_EXP26\n",
      "Spins_short_130mT_EXP37\n",
      "Spins_short_130mT_EXP0\n",
      "Spins_short_130mT_EXP43\n",
      "Spins_short_130mT_EXP28\n",
      "Spins_short_130mT_EXP24\n",
      "Spins_short_130mT_EXP25\n",
      "Spins_short_130mT_EXP21\n",
      "Spins_short_130mT_EXP1\n",
      "Spins_short_130mT_EXP47\n",
      "Spins_short_130mT_EXP14\n",
      "Spins_short_130mT_EXP33\n",
      "Spins_short_130mT_EXP12\n",
      "Spins_short_130mT_EXP23\n",
      "Spins_short_130mT_EXP8\n",
      "Spins_short_130mT_EXP31\n",
      "Spins_short_130mT_EXP15\n",
      "Spins_short_130mT_EXP16\n",
      "Spins_short_130mT_EXP7\n",
      "Spins_short_130mT_EXP29\n"
     ]
    }
   ],
   "source": [
    "df_s = []\n",
    "df_l = []\n",
    "for f in listdir(data):\n",
    "    if fnmatch.fnmatch(f, 'Spins_short_130mT_EXP*'):\n",
    "        print(f)\n",
    "        df_s.append(pd.read_csv(join(data,f), sep = \"\\t\", index_col = [0,1]))\n",
    "    if fnmatch.fnmatch(f, 'Spins_long_130mT_EXP*'):\n",
    "        df_l.append(pd.read_csv(join(data,f), sep = \"\\t\", index_col = [0,1]))\n",
    "\n",
    "keys = []\n",
    "for i in range(len(df_s)):\n",
    "    keys.append(i)"
   ]
  },
  {
   "cell_type": "code",
   "execution_count": 8,
   "metadata": {},
   "outputs": [],
   "source": [
    "short = pd.concat(df_s, keys = keys)\n",
    "long = pd.concat(df_l, keys = keys)"
   ]
  },
  {
   "cell_type": "code",
   "execution_count": 9,
   "metadata": {},
   "outputs": [],
   "source": [
    "short.index = short.index.rename([\"exp\", \"frame\", \"id\"])"
   ]
  },
  {
   "cell_type": "code",
   "execution_count": 10,
   "metadata": {},
   "outputs": [
    {
     "data": {
      "text/plain": [
       "Int64Index([371400, 542800, 714200, 885600, 1057000, 1228400, 1399800, 1571200,\n",
       "            1742600],\n",
       "           dtype='int64', name='frame')"
      ]
     },
     "execution_count": 10,
     "metadata": {},
     "output_type": "execute_result"
    }
   ],
   "source": [
    "short.index.unique('frame')"
   ]
  },
  {
   "cell_type": "markdown",
   "metadata": {},
   "source": [
    "Multipliying the spins direction at differet cycles values"
   ]
  },
  {
   "cell_type": "code",
   "execution_count": 11,
   "metadata": {},
   "outputs": [],
   "source": [
    "# < For 130 mT >\n",
    "def Spm(df, i):\n",
    "    \n",
    "    q1 = df.loc[(i,371400)]*df.loc[(i,542800)]\n",
    "    q2 = df.loc[(i,542800)]*df.loc[(i,714200)]\n",
    "    q3 = df.loc[(i,714200)]*df.loc[(i,885600)]\n",
    "    q4 = df.loc[(i,885600)]*df.loc[(i,1057000)]\n",
    "    q5 = df.loc[(i,1057000)]*df.loc[(i,1228400)]\n",
    "    q6 = df.loc[(i,1228400)]*df.loc[(i,1399800)]\n",
    "    q7 = df.loc[(i,1399800)]*df.loc[(i,1571200)]\n",
    "    q8 = df.loc[(i,1571200)]*df.loc[(i,1742600)]\n",
    "\n",
    "    q = [q1,q2,q3,q4,q5,q6,q7,q8]\n",
    "    \n",
    "    a = []\n",
    "    for i in q:\n",
    "        \n",
    "        a.append((i.sum()/i.count()).values)\n",
    "        \n",
    "    \n",
    "    return a"
   ]
  },
  {
   "cell_type": "code",
   "execution_count": 10,
   "metadata": {},
   "outputs": [],
   "source": [
    "# < For 100 mT >\n",
    "#def Spm(df, i):\n",
    "\n",
    "#    q1 = df.loc[(i,457100)]*df.loc[(i,628500)]\n",
    "#    q2 = df.loc[(i,628500)]*df.loc[(i,799900)]\n",
    "#    q3 = df.loc[(i,799900)]*df.loc[(i,971300)]\n",
    "#    q4 = df.loc[(i,971300)]*df.loc[(i,1142700)]\n",
    "#    q5 = df.loc[(i,1142700)]*df.loc[(i,1314100)]\n",
    "#    q6 = df.loc[(i,1314100)]*df.loc[(i,1485500)]\n",
    "#    q7 = df.loc[(i,1485500)]*df.loc[(i,1656900)]\n",
    "#    q8 = df.loc[(i,1656900)]*df.loc[(i,1828300)]\n",
    "\n",
    "#    q = [q1,q2,q3,q4,q5,q6,q7,q8]\n",
    "    \n",
    "#    a = []\n",
    "#    for k in q:\n",
    "        \n",
    "#        a.append((k.sum()/k.count()).values)\n",
    "        \n",
    "    \n",
    "#    return a"
   ]
  },
  {
   "cell_type": "markdown",
   "metadata": {},
   "source": [
    "Doing the same for each experiment (Here N = 10)"
   ]
  },
  {
   "cell_type": "code",
   "execution_count": 12,
   "metadata": {},
   "outputs": [],
   "source": [
    "def order_data(df):\n",
    "    exp_f = []\n",
    "    for i in range(len(df.index.unique(0))):\n",
    "    \n",
    "        exp_f.append(Spm(df,i))\n",
    "    \n",
    "    return exp_f\n",
    "    "
   ]
  },
  {
   "cell_type": "code",
   "execution_count": 13,
   "metadata": {},
   "outputs": [
    {
     "data": {
      "text/plain": [
       "Int64Index([ 0,  1,  2,  3,  4,  5,  6,  7,  8,  9, 10, 11, 12, 13, 14, 15, 16,\n",
       "            17, 18, 19, 20, 21, 22, 23, 24, 25, 26, 27, 28, 29, 30, 31, 32, 33,\n",
       "            34, 35, 36, 37, 38, 39, 40, 41, 42, 43, 44, 45, 46, 47, 48],\n",
       "           dtype='int64', name='exp')"
      ]
     },
     "execution_count": 13,
     "metadata": {},
     "output_type": "execute_result"
    }
   ],
   "source": [
    "short.index.unique(0)"
   ]
  },
  {
   "cell_type": "code",
   "execution_count": 14,
   "metadata": {},
   "outputs": [],
   "source": [
    "df_s = order_data(short)\n",
    "df_l = order_data(long)"
   ]
  },
  {
   "cell_type": "markdown",
   "metadata": {},
   "source": [
    "Obtaining the mean value of the Spin Overlap Function over N = 10 experiments"
   ]
  },
  {
   "cell_type": "code",
   "execution_count": 15,
   "metadata": {},
   "outputs": [],
   "source": [
    "q_f = []\n",
    "q_err_f = []\n",
    "\n",
    "def mean_data_and_err(df):\n",
    "    \n",
    "    q = np.mean(df, axis = 0)\n",
    "    q_err = np.std(df,axis = 0)/np.sqrt(len(df))\n",
    "    q_f = q.flatten()\n",
    "    q_err_f = q_err.flatten()\n",
    "    \n",
    "    return q_f, q_err_f"
   ]
  },
  {
   "cell_type": "code",
   "execution_count": 16,
   "metadata": {},
   "outputs": [],
   "source": [
    "q_s, q_s_err = mean_data_and_err(df_s)\n",
    "q_l, q_l_err = mean_data_and_err(df_l)\n"
   ]
  },
  {
   "cell_type": "code",
   "execution_count": 17,
   "metadata": {},
   "outputs": [
    {
     "data": {
      "text/plain": [
       "array([0.27682598, 0.3433464 , 0.36235289, 0.3773848 , 0.38396788,\n",
       "       0.39620174, 0.39828907, 0.39748602])"
      ]
     },
     "execution_count": 17,
     "metadata": {},
     "output_type": "execute_result"
    }
   ],
   "source": [
    "q_s.flatten()"
   ]
  },
  {
   "cell_type": "code",
   "execution_count": 18,
   "metadata": {},
   "outputs": [],
   "source": [
    "d1 = {'S': q_s, 'err': q_s_err}\n",
    "d2 = {'S': q_l, 'err': q_l_err}\n",
    "\n",
    "\n",
    "df_s = pd.DataFrame(data=d1)\n",
    "df_l = pd.DataFrame(data=d2)"
   ]
  },
  {
   "cell_type": "code",
   "execution_count": 19,
   "metadata": {},
   "outputs": [],
   "source": [
    "df_l.to_csv(\"SpinOverlapParameter_LongTraps_at_130mT_N=50\", sep = \"\\t\")\n",
    "df_s.to_csv(\"SpinOverlapParameter_ShortTraps_at_130mT_N=50\", sep = \"\\t\")"
   ]
  },
  {
   "cell_type": "code",
   "execution_count": 20,
   "metadata": {},
   "outputs": [
    {
     "data": {
      "text/html": [
       "<div>\n",
       "<style scoped>\n",
       "    .dataframe tbody tr th:only-of-type {\n",
       "        vertical-align: middle;\n",
       "    }\n",
       "\n",
       "    .dataframe tbody tr th {\n",
       "        vertical-align: top;\n",
       "    }\n",
       "\n",
       "    .dataframe thead th {\n",
       "        text-align: right;\n",
       "    }\n",
       "</style>\n",
       "<table border=\"1\" class=\"dataframe\">\n",
       "  <thead>\n",
       "    <tr style=\"text-align: right;\">\n",
       "      <th></th>\n",
       "      <th>S</th>\n",
       "      <th>err</th>\n",
       "    </tr>\n",
       "  </thead>\n",
       "  <tbody>\n",
       "    <tr>\n",
       "      <th>0</th>\n",
       "      <td>0.343008</td>\n",
       "      <td>0.007768</td>\n",
       "    </tr>\n",
       "    <tr>\n",
       "      <th>1</th>\n",
       "      <td>0.432573</td>\n",
       "      <td>0.008119</td>\n",
       "    </tr>\n",
       "    <tr>\n",
       "      <th>2</th>\n",
       "      <td>0.459029</td>\n",
       "      <td>0.008980</td>\n",
       "    </tr>\n",
       "    <tr>\n",
       "      <th>3</th>\n",
       "      <td>0.464369</td>\n",
       "      <td>0.007992</td>\n",
       "    </tr>\n",
       "    <tr>\n",
       "      <th>4</th>\n",
       "      <td>0.485935</td>\n",
       "      <td>0.008684</td>\n",
       "    </tr>\n",
       "    <tr>\n",
       "      <th>5</th>\n",
       "      <td>0.494720</td>\n",
       "      <td>0.007781</td>\n",
       "    </tr>\n",
       "    <tr>\n",
       "      <th>6</th>\n",
       "      <td>0.496475</td>\n",
       "      <td>0.009388</td>\n",
       "    </tr>\n",
       "    <tr>\n",
       "      <th>7</th>\n",
       "      <td>0.503632</td>\n",
       "      <td>0.009414</td>\n",
       "    </tr>\n",
       "  </tbody>\n",
       "</table>\n",
       "</div>"
      ],
      "text/plain": [
       "          S       err\n",
       "0  0.343008  0.007768\n",
       "1  0.432573  0.008119\n",
       "2  0.459029  0.008980\n",
       "3  0.464369  0.007992\n",
       "4  0.485935  0.008684\n",
       "5  0.494720  0.007781\n",
       "6  0.496475  0.009388\n",
       "7  0.503632  0.009414"
      ]
     },
     "execution_count": 20,
     "metadata": {},
     "output_type": "execute_result"
    }
   ],
   "source": [
    "df_l"
   ]
  },
  {
   "cell_type": "markdown",
   "metadata": {},
   "source": [
    "Plotting results"
   ]
  },
  {
   "cell_type": "code",
   "execution_count": 22,
   "metadata": {},
   "outputs": [
    {
     "data": {
      "text/plain": [
       "<matplotlib.legend.Legend at 0x7fa31048c490>"
      ]
     },
     "execution_count": 22,
     "metadata": {},
     "output_type": "execute_result"
    },
    {
     "data": {
      "image/png": "[encoded data removed]",
      "text/plain": [
       "<Figure size 600x400 with 1 Axes>"
      ]
     },
     "metadata": {
      "needs_background": "light"
     },
     "output_type": "display_data"
    }
   ],
   "source": [
    "plt.errorbar(y = q_s, x = [0,1,2,3,4,5,6,7], yerr = q_s_err, fmt = '-o' ,label = 'short traps', color = 'blue')\n",
    "plt.errorbar(y = q_l, x = [0,1,2,3,4,5,6,7], yerr = q_l_err, fmt = '-o', label = 'long traps', color = 'gray')\n",
    "plt.xlabel('No. of cycle', size = 17)\n",
    "plt.ylabel('Spin Overlap parameter', size = 17)\n",
    "plt.title('130 mT', size = 17)\n",
    "plt.legend()\n",
    "#plt.savefig('Spin_Overlap_Parameter_130mT_N=50.png', bbox_inches='tight')"
   ]
  },
  {
   "cell_type": "code",
   "execution_count": 23,
   "metadata": {},
   "outputs": [
    {
     "data": {
      "text/plain": [
       "0.1"
      ]
     },
     "execution_count": 23,
     "metadata": {},
     "output_type": "execute_result"
    }
   ],
   "source": [
    "10**(-1)"
   ]
  },
  {
   "cell_type": "code",
   "execution_count": null,
   "metadata": {},
   "outputs": [],
   "source": []
  }
 ],
 "metadata": {
  "kernelspec": {
   "display_name": "Python 3",
   "language": "python",
   "name": "python3"
  },
  "language_info": {
   "codemirror_mode": {
    "name": "ipython",
    "version": 3
   },
   "file_extension": ".py",
   "mimetype": "text/x-python",
   "name": "python",
   "nbconvert_exporter": "python",
   "pygments_lexer": "ipython3",
   "version": "3.7.6"
  }
 },
 "nbformat": 4,
 "nbformat_minor": 4
}
