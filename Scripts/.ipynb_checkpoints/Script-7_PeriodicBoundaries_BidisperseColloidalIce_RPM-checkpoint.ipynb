{
 "cells": [
  {
   "cell_type": "markdown",
   "metadata": {},
   "source": [
    "# Looking for a Return Point Memory (RPM)"
   ]
  },
  {
   "cell_type": "markdown",
   "metadata": {},
   "source": [
    "In this notebook, I will perform further brownian dynamics simulations in order to find a RPM. \n",
    "\n",
    "This simulations will consist in increasing and decreasing the magnetic field interaction among colloids several times. This way, we will generate some loops of magnetic inteactions among colloids. \n",
    "\n",
    "We decided to perform this loops around 130 mT and 100 mT, that are the points where the macroscopic configuration of the system seems to be similar. \n",
    "\n",
    "We will use the same rate as in previous simulations 0.035 mT/s."
   ]
  },
  {
   "cell_type": "code",
   "execution_count": 1,
   "metadata": {},
   "outputs": [],
   "source": [
    "import sys\n",
    "import os\n",
    "import shutil\n",
    "sys.path.insert(0, 'icenumerics/')\n",
    "\n",
    "import pandas as pd\n",
    "import numpy as np\n",
    "import scipy.spatial as spa\n",
    "import matplotlib.pyplot as plt\n",
    "import matplotlib as mpl\n",
    "\n",
    "import icenumerics as ice\n",
    "from icenumerics.geometry import ordering \n",
    "import csv as csv\n",
    "import time\n",
    "import string as st\n",
    "from multiprocessing import Pool\n",
    "from string import Template\n",
    "\n",
    "import copy as cp\n",
    "\n",
    "ureg = ice.ureg\n",
    "\n",
    "idx = pd.IndexSlice\n",
    "\n",
    "import tqdm.auto as tqdm\n",
    "\n",
    "%reload_ext autoreload\n",
    "%autoreload 2"
   ]
  },
  {
   "cell_type": "code",
   "execution_count": 2,
   "metadata": {},
   "outputs": [],
   "source": [
    "directory = \"/home/carolina/lammps_script-7\"\n",
    "directory_DataFrame = \"/home/carolina/df_script-7\""
   ]
  },
  {
   "cell_type": "markdown",
   "metadata": {},
   "source": [
    "In the following function, I will generate an array which values give the times where the magnetic field is changed. "
   ]
  },
  {
   "cell_type": "code",
   "execution_count": 3,
   "metadata": {},
   "outputs": [
    {
     "data": {
      "text/plain": [
       "[3714.0 <Unit('second')>, 4571.0 <Unit('second')>, 5428.0 <Unit('second')>]"
      ]
     },
     "execution_count": 3,
     "metadata": {},
     "output_type": "execute_result"
    }
   ],
   "source": [
    "B_max = 130*ureg.mT\n",
    "B_min = 100*ureg.mT\n",
    "slope = 0.035*ureg.mT/ureg.s\n",
    "\n",
    "t = [round(B_max/slope)]\n",
    "\n",
    "def time(n):\n",
    "    for i in range(1,n):\n",
    "        t.append(round((B_max-B_min)/slope+t[i-1]))\n",
    "        \n",
    "    return t\n",
    "\n",
    "t = time(3)\n",
    "t"
   ]
  },
  {
   "cell_type": "markdown",
   "metadata": {},
   "source": [
    "And in the next function I will define the magnetic field value in each part:"
   ]
  },
  {
   "cell_type": "code",
   "execution_count": 4,
   "metadata": {},
   "outputs": [],
   "source": [
    "def B_def(n):\n",
    "    \n",
    "    B = [\"*(time/$t1)*v_Bmag\"]\n",
    "    for i in range(2,n+1):\n",
    "        if i % 2 == 0: # if i is even:\n",
    "            B.append(\"*((time-$t\"+str(i-1)+\")/($t\"+str(i)+\"-$t\"+str(i-1)+\"))*($Bmin-v_Bmag)\")\n",
    "            B.append(\"*v_Bmag\")\n",
    "        else:\n",
    "            B.append(\"*((time-$t\"+str(i-1)+\")/($t\"+str(i)+\"-$t\"+str(i-1)+\"))*(v_Bmag-$Bmin)\")\n",
    "            B.append(\"*$Bmin\")\n",
    "    return B"
   ]
  },
  {
   "cell_type": "code",
   "execution_count": 5,
   "metadata": {},
   "outputs": [],
   "source": [
    "def limits(n):\n",
    "    lim = [\"(time<$t1)\"]\n",
    "    for i in range(1,n):\n",
    "        lim.append(\"+($t\"+str(i)+\"<time<$t\"+str(i+1)+\")\")\n",
    "    lim.append(\"+(time>$t\"+str(n)+\")\")    \n",
    "    return lim"
   ]
  },
  {
   "cell_type": "code",
   "execution_count": 6,
   "metadata": {},
   "outputs": [],
   "source": [
    "def string(l, B):\n",
    "#    string = l[0]+B[0]+l[1]+B[1]+l[1]+B[2]+l[2]+B[3]+l[2]+B[4]+l[3]+B[5]+l[3]+B[6]+l[4]+B[7]+l[4]+B[8]+l[5]+B[9]+l[5]+B[10]+l[6]+B[11]+l[6]+B[12]+l[7]+B[13]+l[7]+B[14]+l[8]+B[15]+l[8]+B[16]+l[9]+B[17]+l[9]+B[18]+l[10]+B[19]+l[10]+B[20]+l[11]+B[21]+l[11]+B[22]+l[12]+B[23]+l[12]+B[24]+l[13]+B[25]+l[13]+B[26]+l[14]+B[27]+l[15]+B[28]+l[15]+B[29]+l[16]+B[30]+l[16]+B[31]+l[17]+B[32]+l[17]+B[33]+l[18]+B[34]+l[18]+B[35]+l[19]+B[36]+l[19]+B[37]+l[20]+B[38]\n",
    "    string = l[0]+B[0]+l[1]+B[1]+l[1]+B[2]\n",
    "    return string"
   ]
  },
  {
   "cell_type": "markdown",
   "metadata": {},
   "source": [
    "### To continue!\n",
    "\n",
    "    1. find a loop that write the field string. \n",
    "    2. And the subsituting variables\n",
    "    3. Introduce the field and try to simulate"
   ]
  },
  {
   "cell_type": "code",
   "execution_count": 7,
   "metadata": {},
   "outputs": [],
   "source": [
    "def do_everything(exp_entry):\n",
    "    e = exp_entry[1].e \n",
    "    l = exp_entry[1].l\n",
    "    \n",
    "    \n",
    "    # <To change the seed of the thermal noise>\n",
    "    \n",
    "    np.random.seed()\n",
    "    \n",
    "    # <Introduce the parameters for the simulation>\n",
    "\n",
    "    lattice_constant = 33*ureg.um\n",
    "    lattic_size = [l,l]\n",
    "    sp = ice.spins()\n",
    "    sp.create_lattice(\"square\",[l,l],lattice_constant=33*ureg.um, border=\"periodic\")\n",
    "    sp.order_spins(ordering.random_ordering)\n",
    "\n",
    "    particle1 = ice.particle(radius = 1*ureg.um,\n",
    "             susceptibility = 0.5,\n",
    "             diffusion = 0.125*ureg.um**2/ureg.s,\n",
    "             temperature = 300*ureg.K,\n",
    "             density = 1000*ureg.kg/ureg.m**3)\n",
    "\n",
    "    trap1 = ice.trap(trap_sep = 23*ureg.um,\n",
    "                   height = 0.5*ureg.pN*ureg.nm,\n",
    "                   stiffness = 6e-4*ureg.pN/ureg.nm)\n",
    "\n",
    "    particle2 = ice.particle(radius = 1*ureg.um,\n",
    "             susceptibility = 0.0675,\n",
    "             diffusion = 0.125*ureg.um**2/ureg.s,\n",
    "             temperature = 300*ureg.K,\n",
    "             density = 1000*ureg.kg/ureg.m**3)\n",
    "\n",
    "    trap2 = ice.trap(trap_sep = 30.3558*ureg.um,\n",
    "                   height = 0.5*ureg.pN*ureg.nm,\n",
    "                   stiffness = 6e-4*ureg.pN/ureg.nm)\n",
    "\n",
    "    # <In this loop we are generating our bidisperse Ice>\n",
    "    \n",
    "    traps = []\n",
    "    particles = []\n",
    "\n",
    "    for s in sp:\n",
    "\n",
    "        if s.direction[1] == 0:\n",
    "            # Horizontal traps\n",
    "            traps.append(trap1) \n",
    "            particles.append(particle1)\n",
    "            pass\n",
    "\n",
    "        else: \n",
    "            # Vertical traps\n",
    "            traps.append(trap2) \n",
    "            particles.append(particle2) \n",
    "\n",
    "\n",
    "    col = ice.colloidal_ice(sp, particles, traps , height_spread = 0.1 , susceptibility_spread = 0)\n",
    "\n",
    "    # <Make the system periodic>\n",
    "    \n",
    "    col.region[:,:2]=(np.array([np.array([0,0]),lattic_size])-0.1)*lattice_constant\n",
    "    col.region[:,2] = np.array([-.11,.11])*ureg.um\n",
    "    \n",
    "    # <Generate the t array that says when the magnetic field tendency needs to be changed>\n",
    "    \n",
    "    t = time(20)\n",
    "    \n",
    "    # <Introduce the simulation parameters>\n",
    "    \n",
    "    world = ice.world(\n",
    "    field = 130*ureg.mT,\n",
    "    temperature = 300*ureg.K,\n",
    "    dipole_cutoff = 200*ureg.um,\n",
    "    boundaries = [\"p\", \"p\", \"p\"])\n",
    "\n",
    "    change_m_time = t\n",
    "    total_time = t[1]\n",
    "    col.simulation(world,\n",
    "                 name = \"test_Hi_BidisperseColloidalIce_RPM_l%u_exp%u\"%(l,e),\n",
    "                 include_timestamp = False,\n",
    "                 targetdir = directory,\n",
    "                 framerate = 1*ureg.Hz,\n",
    "                 timestep = 10*ureg.ms,\n",
    "                 run_time = total_time,\n",
    "                 output = [\"x\",\"y\",\"z\",\"mux\",\"muy\",\"muz\"])\n",
    "    \n",
    "    l = limits(20)\n",
    "    field_str = B_def(20)\n",
    "    string_field = string(l,field_str)\n",
    "    field_s = Template(string_field)\n",
    "    \n",
    "    # <Small parenthesis to obtain the Bmin value in lammps units>\n",
    "    \n",
    "    permeability = (4e5*np.pi)*ureg.pN/ureg.A**2 #pN/A^2\n",
    "    field_m = 100*ureg.mT\n",
    "    H_magnitude = (field_m.to(ureg.mT)/permeability)*1e9/2.99e8 #mT to lammps units\n",
    "    \n",
    "    # <End parenthesis, continuing by defining de field>\n",
    "    \n",
    "    field = field_s.substitute(t1=t[0].to(ureg.us).magnitude, t2=t[1].to(ureg.us).magnitude, t3=t[2].to(ureg.us).magnitude,\n",
    "                               t4=t[3].to(ureg.us).magnitude, t5=t[4].to(ureg.us).magnitude, t6=t[5].to(ureg.us).magnitude,\n",
    "                               t7=t[6].to(ureg.us).magnitude, t8=t[7].to(ureg.us).magnitude, t9=t[8].to(ureg.us).magnitude,\n",
    "                               t10=t[9].to(ureg.us).magnitude, t11=t[10].to(ureg.us).magnitude, t12=t[11].to(ureg.us).magnitude,\n",
    "                               t13=t[12].to(ureg.us).magnitude, t14=t[13].to(ureg.us).magnitude, t15=t[14].to(ureg.us).magnitude,\n",
    "                               t16=t[15].to(ureg.us).magnitude, t17=t[16].to(ureg.us).magnitude, t18=t[17].to(ureg.us).magnitude,\n",
    "                               t19=t[18].to(ureg.us).magnitude, t20=t[19].to(ureg.us).magnitude, Bmin=H_magnitude.magnitude)\n",
    "    \n",
    "    print(field)\n",
    "    col.sim.field.fieldz = field\n",
    "    col.run_simulation()\n",
    "    \n",
    "    # <Load simulation and compute vertices dataframes>\n",
    "    \n",
    "#    col.load_simulation(slice(0,None,15))\n",
    "#    col.trj()\n",
    "    \n",
    "    # <This part is usefull if I want to obtain also the vertex analysis> <remove it, if won't be used>\n",
    "    \n",
    "#    v = ice.vertices()\n",
    "#    frames = col.trj.index.get_level_values(\"frame\").unique()\n",
    "#\n",
    "#    v_df = []\n",
    "#\n",
    "#    for f in tqdm.tqdm(frames[::1]):\n",
    "#        col.set_state_from_frame(f)\n",
    "#        v = v.colloids_to_vertices(col)\n",
    "#\n",
    "#        v_df.append(v.DataFrame())\n",
    "#\n",
    "#    v_df = pd.concat(v_df, keys=frames[::1], names = [\"frame\"])\n",
    "    \n",
    "    # <Save the dataframe and create index of the runned simulation>\n",
    "    \n",
    "#    v_df.to_csv(os.path.join(directory_DataFrame,\"BidisperseColloidalIce_Hysteresis-Loop_l%u_exp%u\"%(l,e)+\".dat\"), sep='\\t')\n",
    "    \n",
    "#    name = os.path.split(col.sim.base_name)[1]\n",
    "#    with open(os.path.join(directory,\"index_Bidisperse.dat\"),'a',newline='') as file:\n",
    "#        writer = csv.writer(file,delimiter='\\t')\n",
    "#        writer.writerow([name, l, e])"
   ]
  },
  {
   "cell_type": "code",
   "execution_count": 8,
   "metadata": {},
   "outputs": [],
   "source": [
    "e =  np.arange(0,1)\n",
    "l =  np.arange(10,11)\n",
    "L, E = np.meshgrid(l,e)\n",
    "experiments = pd.DataFrame({\"e\":E.flatten(),\"l\":L.flatten()})"
   ]
  },
  {
   "cell_type": "code",
   "execution_count": 9,
   "metadata": {},
   "outputs": [
    {
     "data": {
      "application/vnd.jupyter.widget-view+json": {
       "model_id": "29a1301f9bb743f6a0340b83ec696ed2",
       "version_major": 2,
       "version_minor": 0
      },
      "text/plain": [
       "HBox(children=(FloatProgress(value=0.0, max=1.0), HTML(value='')))"
      ]
     },
     "metadata": {},
     "output_type": "display_data"
    },
    {
     "name": "stdout",
     "output_type": "stream",
     "text": [
      "(time<3714000000.0)*(time/3714000000.0)*v_Bmag+(3714000000.0<time<4571000000.0)*((time-3714000000.0)/(4571000000.0-3714000000.0))*(0.00026614538978577817-v_Bmag)+(3714000000.0<time<4571000000.0)*v_Bmag\n",
      "\n"
     ]
    }
   ],
   "source": [
    "# %%time\n",
    "if __name__ ==  '__main__': \n",
    "    num_processors = 1\n",
    "    p=Pool(processes = num_processors)\n",
    "    \n",
    "    ## Create index text file\n",
    "    if not os.path.exists(directory):\n",
    "        os.makedirs(directory)\n",
    "    with open(os.path.join(directory,\"test_index_Bidisperse.dat\"),'w',newline='') as file:\n",
    "        writer = csv.writer(file,delimiter='\\t')\n",
    "        writer.writerow([\"filename\", \"l\", \"exp\"])\n",
    "        \n",
    "    list(tqdm.tqdm(p.imap(do_everything, experiments.iterrows()), total=len(experiments)))#"
   ]
  },
  {
   "cell_type": "code",
   "execution_count": 10,
   "metadata": {},
   "outputs": [],
   "source": [
    "#from functools import partial"
   ]
  },
  {
   "cell_type": "code",
   "execution_count": 11,
   "metadata": {},
   "outputs": [],
   "source": [
    "## %%time\n",
    "#if __name__ ==  '__main__': \n",
    "#    num_processors = 1\n",
    "#    p=Pool(processes = num_processors)\n",
    "#    \n",
    "#    ## Create index text file\n",
    "#    if not os.path.exists(directory):\n",
    "#        os.makedirs(directory)\n",
    "#    with open(os.path.join(directory,\"test_index_Bidisperse.dat\"),'w',newline='') as file:\n",
    "#        writer = csv.writer(file,delimiter='\\t')\n",
    "#        writer.writerow([\"filename\", \"l\", \"exp\"])\n",
    "#        \n",
    "#    func=partial(do_everything,string)\n",
    "#    list(tqdm.tqdm(p.imap(func, experiments.iterrows()),total=len(experiments)))\n",
    "##    list(tqdm.tqdm(p.imap(do_everything, experiments.iterrows()), total=len(experiments)))"
   ]
  },
  {
   "cell_type": "markdown",
   "metadata": {},
   "source": [
    "### To do: \n",
    "    1. Find the equation of the magnetic field in order to run 10 loops with the same rate.\n",
    "    2. Extract the data from the col_trj() datafarame.\n",
    "        - check if there is a spin id equal during the whole experiment.\n",
    "    3. Compute the spin overlap parameter."
   ]
  }
 ],
 "metadata": {
  "kernelspec": {
   "display_name": "Python 3",
   "language": "python",
   "name": "python3"
  },
  "language_info": {
   "codemirror_mode": {
    "name": "ipython",
    "version": 3
   },
   "file_extension": ".py",
   "mimetype": "text/x-python",
   "name": "python",
   "nbconvert_exporter": "python",
   "pygments_lexer": "ipython3",
   "version": "3.7.6"
  }
 },
 "nbformat": 4,
 "nbformat_minor": 4
}
