{
 "cells": [
  {
   "cell_type": "markdown",
   "metadata": {},
   "source": [
    "## Importing packages"
   ]
  },
  {
   "cell_type": "code",
   "execution_count": 1,
   "metadata": {},
   "outputs": [],
   "source": [
    "import sys\n",
    "import os\n",
    "import shutil\n",
    "sys.path.insert(0, 'icenumerics/')\n",
    "\n",
    "import pandas as pd\n",
    "import numpy as np\n",
    "import scipy.spatial as spa\n",
    "import matplotlib.pyplot as plt\n",
    "import matplotlib as mpl\n",
    "\n",
    "import icenumerics as ice\n",
    "from icenumerics.geometry import ordering \n",
    "import csv as csv\n",
    "import time\n",
    "import string as st\n",
    "from multiprocessing import Pool\n",
    "from string import Template\n",
    "\n",
    "import copy as cp\n",
    "\n",
    "ureg = ice.ureg\n",
    "\n",
    "idx = pd.IndexSlice\n",
    "\n",
    "import tqdm.auto as tqdm\n",
    "\n",
    "%reload_ext autoreload\n",
    "%autoreload 2"
   ]
  },
  {
   "cell_type": "markdown",
   "metadata": {},
   "source": [
    "## Defining Colloidal Ice"
   ]
  },
  {
   "cell_type": "code",
   "execution_count": 2,
   "metadata": {},
   "outputs": [
    {
     "data": {
      "image/png": "[encoded data removed]",
      "text/plain": [
       "<Figure size 432x288 with 1 Axes>"
      ]
     },
     "metadata": {
      "needs_background": "light"
     },
     "output_type": "display_data"
    }
   ],
   "source": [
    "e = 1\n",
    "l = 4\n",
    "t = 100\n",
    "\n",
    "lattice_constant = 33*ureg.um\n",
    "lattic_size = [l,l]\n",
    "sp = ice.spins()\n",
    "sp.create_lattice(\"square\",[l,l],lattice_constant=33*ureg.um, border=\"periodic\")\n",
    "sp.order_spins(ordering.random_ordering)\n",
    "\n",
    "sp.lattice\n",
    "particle1 = ice.particle(radius = 1*ureg.um,\n",
    "         susceptibility = 0.5,\n",
    "         diffusion = 0.125*ureg.um**2/ureg.s,\n",
    "         temperature = 300*ureg.K,\n",
    "         density = 1000*ureg.kg/ureg.m**3)\n",
    "\n",
    "trap1 = ice.trap(trap_sep = 23*ureg.um,\n",
    "               height = 0.5*ureg.pN*ureg.nm,\n",
    "               stiffness = 6e-4*ureg.pN/ureg.nm)\n",
    "\n",
    "particle2 = ice.particle(radius = 1*ureg.um,\n",
    "         susceptibility = 0.0675,\n",
    "         diffusion = 0.125*ureg.um**2/ureg.s,\n",
    "         temperature = 300*ureg.K,\n",
    "         density = 1000*ureg.kg/ureg.m**3)\n",
    "\n",
    "trap2 = ice.trap(trap_sep = 30.3558*ureg.um,\n",
    "               height = 0.5*ureg.pN*ureg.nm,\n",
    "               stiffness = 6e-4*ureg.pN/ureg.nm)\n",
    "\n",
    "# <In this loop we are generating our bidisperse Ice>\n",
    "\n",
    "traps = []\n",
    "particles = []\n",
    "\n",
    "for s in sp:\n",
    "\n",
    "    if s.direction[1] == 0:\n",
    "#         print(s.direction)\n",
    "        # Horizontal traps\n",
    "        traps.append(trap1) \n",
    "        particles.append(particle1)\n",
    "        pass\n",
    "\n",
    "    else: \n",
    "        # Vertical traps\n",
    "        traps.append(trap2) \n",
    "        particles.append(particle2) \n",
    "\n",
    "\n",
    "col = ice.colloidal_ice(sp, particles, traps , height_spread = 0.20 , susceptibility_spread = 0)\n",
    "col.display()"
   ]
  },
  {
   "cell_type": "markdown",
   "metadata": {},
   "source": [
    "This part is only usefull if I want to define the magnetic field as a per parts function"
   ]
  },
  {
   "cell_type": "code",
   "execution_count": 3,
   "metadata": {},
   "outputs": [],
   "source": [
    "# In the following lines I found an equation to compute the time at which I change the magnetic field equation.\n",
    "\n",
    "# t = [0*ureg.s]\n",
    "# B_max = 130*ureg.mT\n",
    "# B_min = 100*ureg.mT\n",
    "# slope = 0.035*ureg.mT/ureg.s\n",
    "# def time(n):\n",
    "#     for i in range(0,n):\n",
    "#         t.append(((i*B_max-(i-1)*B_min)/(slope)))\n",
    "        \n",
    "#     return t\n",
    "\n",
    "# t = time(3)"
   ]
  },
  {
   "cell_type": "code",
   "execution_count": 4,
   "metadata": {},
   "outputs": [],
   "source": [
    "t = [0,0,0,0]\n",
    "t[1] = (130/0.035)*ureg.s\n",
    "t[2] = (30/0.035)*ureg.s + t[1]\n",
    "t[3] = (30/0.035)*ureg.s + t[2]"
   ]
  },
  {
   "cell_type": "markdown",
   "metadata": {},
   "source": [
    "End per parts field function"
   ]
  },
  {
   "cell_type": "code",
   "execution_count": 5,
   "metadata": {},
   "outputs": [],
   "source": [
    "col.region[:,:2]=(np.array([np.array([0,0]),lattic_size])-0.1)*lattice_constant\n",
    "col.region[:,2] = np.array([-.11,.11])*ureg.um\n",
    "\n",
    "world = ice.world(\n",
    "    field = 130*ureg.mT,\n",
    "    temperature = 300*ureg.K,\n",
    "    dipole_cutoff = 200*ureg.um,\n",
    "    boundaries = [\"p\", \"p\", \"p\"])\n",
    "\n",
    "# change_m_time = t*ureg.s\n",
    "total_time = t[3]\n",
    "col.simulation(world,\n",
    "             name = \"executed_hysteresis_test_l%u_exp%u\"%(l,e),\n",
    "             include_timestamp = False,\n",
    "             targetdir = r\".\",\n",
    "             framerate = 1*ureg.Hz,\n",
    "             timestep = 10*ureg.ms,\n",
    "             run_time = total_time,\n",
    "             output = [\"x\",\"y\",\"z\",\"mux\",\"muy\",\"muz\"])\n"
   ]
  },
  {
   "cell_type": "markdown",
   "metadata": {},
   "source": [
    "## Simulation parameters"
   ]
  },
  {
   "cell_type": "markdown",
   "metadata": {},
   "source": [
    "### Defining the magnetic field"
   ]
  },
  {
   "cell_type": "markdown",
   "metadata": {},
   "source": [
    "In the following command we have an increasing magnetic field ramp and then a decreasing magnetic field ramp. Both with the same slope value."
   ]
  },
  {
   "cell_type": "code",
   "execution_count": 6,
   "metadata": {},
   "outputs": [],
   "source": [
    "#string_field = \"(time<$Qt)*v_Bmag*time/%f+(time>$Qt)*v_Bmag-(time>$Qt)*v_Bmag*(time-$Qt)/$Qt\"\n",
    "#field_s = Template(string_field)\n",
    "#field = field_s.substitute(Qt = change_m_time.to(ureg.us).magnitude)\n",
    "#print(field)    \n",
    "#col.sim.field.fieldz = field%(change_m_time.to(ureg.us).magnitude)\n"
   ]
  },
  {
   "cell_type": "markdown",
   "metadata": {},
   "source": [
    "In the following command we increase and decrese the fiels several times (yet not implemented). I definde a per parts field function."
   ]
  },
  {
   "cell_type": "code",
   "execution_count": 7,
   "metadata": {},
   "outputs": [],
   "source": [
    "permeability = (4e5*np.pi)*ureg.pN/ureg.A**2 #pN/A^2\n",
    "        \n",
    "        #What is lammps units?\n",
    "        \n",
    "field_m = 100*ureg.mT\n",
    "field_M = 130*ureg.mT\n",
    "\n",
    "\n",
    "H_magnitude_m = (field_m.to(ureg.mT)/permeability)*1e9/2.99e8 #mT to lammps units\n",
    "H_magnitude_M = (field_M.to(ureg.mT)/permeability)*1e9/2.99e8 #mT to lammps units\n"
   ]
  },
  {
   "cell_type": "code",
   "execution_count": 8,
   "metadata": {},
   "outputs": [],
   "source": [
    "t = [0,0,0,0]\n",
    "t[1] = (130/0.035)*ureg.s\n",
    "t[2] = (30/0.035)*ureg.s + t[1]\n",
    "t[3] = (30/0.035)*ureg.s + t[2]"
   ]
  },
  {
   "cell_type": "code",
   "execution_count": 9,
   "metadata": {},
   "outputs": [],
   "source": [
    "string1 = \"(time<$t1)*(time*$Bmax)/$t1\""
   ]
  },
  {
   "cell_type": "code",
   "execution_count": 10,
   "metadata": {},
   "outputs": [
    {
     "name": "stdout",
     "output_type": "stream",
     "text": [
      "(time<3714285714.2857137)*(time*0.00034598900672151164)/3714285714.2857137+(time>3714285714.2857137&&time<4571428571.428571)*((time-3714285714.2857137)/(4571428571.428571-3714285714.2857137))*(0.00026614538978577817-0.00034598900672151164)+(time>3714285714.2857137&&time<4571428571.428571)*0.00034598900672151164+(time>4571428571.428571)*((time-4571428571.428571)/(5428571428.571427-4571428571.428571))*(0.00034598900672151164-0.00026614538978577817)+(time>4571428571.428571)*0.00026614538978577817\n"
     ]
    }
   ],
   "source": [
    "# string_field = \"(time<$t1)*((time-$t0)/($t1-$t0))*(v_Bmag-$Bmin)+(time<$t1)*$Bmin+($t1<time<$t2)*((time-$t1)/($t2-$t1))*($Bmin-v_Bmag)+($t1<time<$t2)*v_Bmag+(time>$t2)*((time-$t2)/($t3-$t2))*(v_Bmag-$Bmin)+(time>$t2)*$Bmin\"\n",
    "string_field = string1+\"+(time>$t1&&time<$t2)*((time-$t1)/($t2-$t1))*($Bmin-$Bmax)+(time>$t1&&time<$t2)*$Bmax+(time>$t2)*((time-$t2)/($t3-$t2))*($Bmax-$Bmin)+(time>$t2)*$Bmin\"\n",
    "\n",
    "field_s = Template(string_field)\n",
    "field = field_s.substitute( t1=t[1].to(ureg.us).magnitude, t2 =t[2].to(ureg.us).magnitude, t3=t[3].to(ureg.us).magnitude , Bmin = H_magnitude_m.magnitude, Bmax = H_magnitude_M.magnitude)\n",
    "print(field)\n",
    "col.sim.field.fieldz = field"
   ]
  },
  {
   "cell_type": "markdown",
   "metadata": {},
   "source": [
    "The following command works perfectly, it is used to obtain a magnetic field ramp"
   ]
  },
  {
   "cell_type": "code",
   "execution_count": 11,
   "metadata": {},
   "outputs": [],
   "source": [
    "# col.sim.field.fieldz = \"v_Bmag*time/%f\"%(total_time.to(ureg.us).magnitude)"
   ]
  },
  {
   "cell_type": "markdown",
   "metadata": {},
   "source": [
    "This command generate a magnetic field ramp and then a constant magnetic field"
   ]
  },
  {
   "cell_type": "code",
   "execution_count": 12,
   "metadata": {},
   "outputs": [],
   "source": [
    "# col.sim.field.fieldz = \"(time<50000000)*v_Bmag*time/%f+(time>50000000)*v_Bmag\"%(total_time.to(ureg.us).magnitude)"
   ]
  },
  {
   "cell_type": "markdown",
   "metadata": {},
   "source": [
    "This command generates a constant magnetic field"
   ]
  },
  {
   "cell_type": "code",
   "execution_count": 13,
   "metadata": {},
   "outputs": [],
   "source": [
    "# col.sim.field.fieldz = \"v_Bmag-0.00026614538978577817\""
   ]
  },
  {
   "cell_type": "markdown",
   "metadata": {},
   "source": [
    "## Run simulation"
   ]
  },
  {
   "cell_type": "code",
   "execution_count": 14,
   "metadata": {},
   "outputs": [],
   "source": [
    "col.run_simulation()"
   ]
  },
  {
   "cell_type": "markdown",
   "metadata": {},
   "source": [
    "## Checking simulation"
   ]
  },
  {
   "cell_type": "code",
   "execution_count": 15,
   "metadata": {},
   "outputs": [],
   "source": [
    "col.load_simulation()"
   ]
  },
  {
   "cell_type": "code",
   "execution_count": 16,
   "metadata": {},
   "outputs": [],
   "source": [
    "part1 = col.trj.loc[col.trj['type'] == 1]\n",
    "part2 = col.trj.loc[col.trj['type'] == 2]"
   ]
  },
  {
   "cell_type": "code",
   "execution_count": 32,
   "metadata": {},
   "outputs": [
    {
     "data": {
      "text/plain": [
       "<matplotlib.lines.Line2D at 0x7f0a8057e290>"
      ]
     },
     "execution_count": 32,
     "metadata": {},
     "output_type": "execute_result"
    },
    {
     "data": {
      "image/png": "[encoded data removed]",
      "text/plain": [
       "<Figure size 432x288 with 1 Axes>"
      ]
     },
     "metadata": {
      "needs_background": "light"
     },
     "output_type": "display_data"
    },
    {
     "data": {
      "image/png": "[encoded data removed]",
      "text/plain": [
       "<Figure size 432x288 with 1 Axes>"
      ]
     },
     "metadata": {
      "needs_background": "light"
     },
     "output_type": "display_data"
    }
   ],
   "source": [
    "part1.plot(x='t',y = 'muz' ,kind = 'scatter')\n",
    "plt.axvline(x=t[1].magnitude, color = 'y', alpha = 0.5)\n",
    "plt.axvline(x=t[2].magnitude, color = 'y', alpha = 0.5)\n",
    "plt.axvline(x=t[3].magnitude, color = 'y', alpha = 0.5)\n",
    "plt.ylim(0.0,0.005)\n",
    "part2.plot(x='t',y = 'muz' ,kind = 'scatter')\n",
    "plt.ylim(-0.001,0)\n",
    "plt.axvline(x=t[1].magnitude, color = 'y', alpha = 0.5)\n",
    "plt.axvline(x=t[2].magnitude, color = 'y', alpha = 0.5)"
   ]
  },
  {
   "cell_type": "code",
   "execution_count": 18,
   "metadata": {},
   "outputs": [
    {
     "data": {
      "text/html": [
       "<div>\n",
       "<style scoped>\n",
       "    .dataframe tbody tr th:only-of-type {\n",
       "        vertical-align: middle;\n",
       "    }\n",
       "\n",
       "    .dataframe tbody tr th {\n",
       "        vertical-align: top;\n",
       "    }\n",
       "\n",
       "    .dataframe thead th {\n",
       "        text-align: right;\n",
       "    }\n",
       "</style>\n",
       "<table border=\"1\" class=\"dataframe\">\n",
       "  <thead>\n",
       "    <tr style=\"text-align: right;\">\n",
       "      <th></th>\n",
       "      <th></th>\n",
       "      <th>type</th>\n",
       "      <th>x</th>\n",
       "      <th>y</th>\n",
       "      <th>z</th>\n",
       "      <th>mux</th>\n",
       "      <th>muy</th>\n",
       "      <th>muz</th>\n",
       "      <th>t</th>\n",
       "    </tr>\n",
       "    <tr>\n",
       "      <th>frame</th>\n",
       "      <th>id</th>\n",
       "      <th></th>\n",
       "      <th></th>\n",
       "      <th></th>\n",
       "      <th></th>\n",
       "      <th></th>\n",
       "      <th></th>\n",
       "      <th></th>\n",
       "      <th></th>\n",
       "    </tr>\n",
       "  </thead>\n",
       "  <tbody>\n",
       "    <tr>\n",
       "      <th rowspan=\"5\" valign=\"top\">0</th>\n",
       "      <th>1</th>\n",
       "      <td>1</td>\n",
       "      <td>5.000000</td>\n",
       "      <td>0.000000</td>\n",
       "      <td>0.0</td>\n",
       "      <td>0.0</td>\n",
       "      <td>0.0</td>\n",
       "      <td>0.000000</td>\n",
       "      <td>0.0</td>\n",
       "    </tr>\n",
       "    <tr>\n",
       "      <th>2</th>\n",
       "      <td>1</td>\n",
       "      <td>61.000000</td>\n",
       "      <td>0.000000</td>\n",
       "      <td>0.0</td>\n",
       "      <td>0.0</td>\n",
       "      <td>0.0</td>\n",
       "      <td>0.000000</td>\n",
       "      <td>0.0</td>\n",
       "    </tr>\n",
       "    <tr>\n",
       "      <th>3</th>\n",
       "      <td>1</td>\n",
       "      <td>71.000000</td>\n",
       "      <td>0.000000</td>\n",
       "      <td>0.0</td>\n",
       "      <td>0.0</td>\n",
       "      <td>0.0</td>\n",
       "      <td>0.000000</td>\n",
       "      <td>0.0</td>\n",
       "    </tr>\n",
       "    <tr>\n",
       "      <th>4</th>\n",
       "      <td>1</td>\n",
       "      <td>127.000000</td>\n",
       "      <td>0.000000</td>\n",
       "      <td>0.0</td>\n",
       "      <td>0.0</td>\n",
       "      <td>0.0</td>\n",
       "      <td>0.000000</td>\n",
       "      <td>0.0</td>\n",
       "    </tr>\n",
       "    <tr>\n",
       "      <th>5</th>\n",
       "      <td>1</td>\n",
       "      <td>28.000000</td>\n",
       "      <td>33.000000</td>\n",
       "      <td>0.0</td>\n",
       "      <td>0.0</td>\n",
       "      <td>0.0</td>\n",
       "      <td>0.000000</td>\n",
       "      <td>0.0</td>\n",
       "    </tr>\n",
       "    <tr>\n",
       "      <th>...</th>\n",
       "      <th>...</th>\n",
       "      <td>...</td>\n",
       "      <td>...</td>\n",
       "      <td>...</td>\n",
       "      <td>...</td>\n",
       "      <td>...</td>\n",
       "      <td>...</td>\n",
       "      <td>...</td>\n",
       "      <td>...</td>\n",
       "    </tr>\n",
       "    <tr>\n",
       "      <th rowspan=\"5\" valign=\"top\">5427</th>\n",
       "      <th>12</th>\n",
       "      <td>1</td>\n",
       "      <td>117.599998</td>\n",
       "      <td>65.898499</td>\n",
       "      <td>0.0</td>\n",
       "      <td>0.0</td>\n",
       "      <td>0.0</td>\n",
       "      <td>0.000724</td>\n",
       "      <td>5427.0</td>\n",
       "    </tr>\n",
       "    <tr>\n",
       "      <th>13</th>\n",
       "      <td>1</td>\n",
       "      <td>17.356899</td>\n",
       "      <td>98.863197</td>\n",
       "      <td>0.0</td>\n",
       "      <td>0.0</td>\n",
       "      <td>0.0</td>\n",
       "      <td>0.000724</td>\n",
       "      <td>5427.0</td>\n",
       "    </tr>\n",
       "    <tr>\n",
       "      <th>14</th>\n",
       "      <td>1</td>\n",
       "      <td>46.956299</td>\n",
       "      <td>98.903503</td>\n",
       "      <td>0.0</td>\n",
       "      <td>0.0</td>\n",
       "      <td>0.0</td>\n",
       "      <td>0.000724</td>\n",
       "      <td>5427.0</td>\n",
       "    </tr>\n",
       "    <tr>\n",
       "      <th>15</th>\n",
       "      <td>1</td>\n",
       "      <td>86.852898</td>\n",
       "      <td>98.953003</td>\n",
       "      <td>0.0</td>\n",
       "      <td>0.0</td>\n",
       "      <td>0.0</td>\n",
       "      <td>0.000724</td>\n",
       "      <td>5427.0</td>\n",
       "    </tr>\n",
       "    <tr>\n",
       "      <th>16</th>\n",
       "      <td>1</td>\n",
       "      <td>115.248001</td>\n",
       "      <td>98.990997</td>\n",
       "      <td>0.0</td>\n",
       "      <td>0.0</td>\n",
       "      <td>0.0</td>\n",
       "      <td>0.000724</td>\n",
       "      <td>5427.0</td>\n",
       "    </tr>\n",
       "  </tbody>\n",
       "</table>\n",
       "<p>86848 rows × 8 columns</p>\n",
       "</div>"
      ],
      "text/plain": [
       "          type           x          y    z  mux  muy       muz       t\n",
       "frame id                                                              \n",
       "0     1      1    5.000000   0.000000  0.0  0.0  0.0  0.000000     0.0\n",
       "      2      1   61.000000   0.000000  0.0  0.0  0.0  0.000000     0.0\n",
       "      3      1   71.000000   0.000000  0.0  0.0  0.0  0.000000     0.0\n",
       "      4      1  127.000000   0.000000  0.0  0.0  0.0  0.000000     0.0\n",
       "      5      1   28.000000  33.000000  0.0  0.0  0.0  0.000000     0.0\n",
       "...        ...         ...        ...  ...  ...  ...       ...     ...\n",
       "5427  12     1  117.599998  65.898499  0.0  0.0  0.0  0.000724  5427.0\n",
       "      13     1   17.356899  98.863197  0.0  0.0  0.0  0.000724  5427.0\n",
       "      14     1   46.956299  98.903503  0.0  0.0  0.0  0.000724  5427.0\n",
       "      15     1   86.852898  98.953003  0.0  0.0  0.0  0.000724  5427.0\n",
       "      16     1  115.248001  98.990997  0.0  0.0  0.0  0.000724  5427.0\n",
       "\n",
       "[86848 rows x 8 columns]"
      ]
     },
     "execution_count": 18,
     "metadata": {},
     "output_type": "execute_result"
    }
   ],
   "source": [
    "part1"
   ]
  },
  {
   "cell_type": "code",
   "execution_count": 19,
   "metadata": {},
   "outputs": [
    {
     "data": {
      "text/html": [
       "<div>\n",
       "<style scoped>\n",
       "    .dataframe tbody tr th:only-of-type {\n",
       "        vertical-align: middle;\n",
       "    }\n",
       "\n",
       "    .dataframe tbody tr th {\n",
       "        vertical-align: top;\n",
       "    }\n",
       "\n",
       "    .dataframe thead th {\n",
       "        text-align: right;\n",
       "    }\n",
       "</style>\n",
       "<table border=\"1\" class=\"dataframe\">\n",
       "  <thead>\n",
       "    <tr style=\"text-align: right;\">\n",
       "      <th></th>\n",
       "      <th></th>\n",
       "      <th>type</th>\n",
       "      <th>x</th>\n",
       "      <th>y</th>\n",
       "      <th>z</th>\n",
       "      <th>mux</th>\n",
       "      <th>muy</th>\n",
       "      <th>muz</th>\n",
       "      <th>t</th>\n",
       "    </tr>\n",
       "    <tr>\n",
       "      <th>frame</th>\n",
       "      <th>id</th>\n",
       "      <th></th>\n",
       "      <th></th>\n",
       "      <th></th>\n",
       "      <th></th>\n",
       "      <th></th>\n",
       "      <th></th>\n",
       "      <th></th>\n",
       "      <th></th>\n",
       "    </tr>\n",
       "  </thead>\n",
       "  <tbody>\n",
       "    <tr>\n",
       "      <th rowspan=\"5\" valign=\"top\">0</th>\n",
       "      <th>17</th>\n",
       "      <td>2</td>\n",
       "      <td>8.095530e-17</td>\n",
       "      <td>1.322100</td>\n",
       "      <td>0.0</td>\n",
       "      <td>0.0</td>\n",
       "      <td>0.0</td>\n",
       "      <td>0.000000</td>\n",
       "      <td>0.0</td>\n",
       "    </tr>\n",
       "    <tr>\n",
       "      <th>18</th>\n",
       "      <td>2</td>\n",
       "      <td>3.300000e+01</td>\n",
       "      <td>31.677900</td>\n",
       "      <td>0.0</td>\n",
       "      <td>0.0</td>\n",
       "      <td>0.0</td>\n",
       "      <td>0.000000</td>\n",
       "      <td>0.0</td>\n",
       "    </tr>\n",
       "    <tr>\n",
       "      <th>19</th>\n",
       "      <td>2</td>\n",
       "      <td>6.600000e+01</td>\n",
       "      <td>31.677900</td>\n",
       "      <td>0.0</td>\n",
       "      <td>0.0</td>\n",
       "      <td>0.0</td>\n",
       "      <td>0.000000</td>\n",
       "      <td>0.0</td>\n",
       "    </tr>\n",
       "    <tr>\n",
       "      <th>20</th>\n",
       "      <td>2</td>\n",
       "      <td>9.900000e+01</td>\n",
       "      <td>1.322100</td>\n",
       "      <td>0.0</td>\n",
       "      <td>0.0</td>\n",
       "      <td>0.0</td>\n",
       "      <td>0.000000</td>\n",
       "      <td>0.0</td>\n",
       "    </tr>\n",
       "    <tr>\n",
       "      <th>21</th>\n",
       "      <td>2</td>\n",
       "      <td>1.939710e-15</td>\n",
       "      <td>64.677902</td>\n",
       "      <td>0.0</td>\n",
       "      <td>0.0</td>\n",
       "      <td>0.0</td>\n",
       "      <td>0.000000</td>\n",
       "      <td>0.0</td>\n",
       "    </tr>\n",
       "    <tr>\n",
       "      <th>...</th>\n",
       "      <th>...</th>\n",
       "      <td>...</td>\n",
       "      <td>...</td>\n",
       "      <td>...</td>\n",
       "      <td>...</td>\n",
       "      <td>...</td>\n",
       "      <td>...</td>\n",
       "      <td>...</td>\n",
       "      <td>...</td>\n",
       "    </tr>\n",
       "    <tr>\n",
       "      <th rowspan=\"5\" valign=\"top\">5427</th>\n",
       "      <th>28</th>\n",
       "      <td>2</td>\n",
       "      <td>9.912050e+01</td>\n",
       "      <td>77.942497</td>\n",
       "      <td>0.0</td>\n",
       "      <td>0.0</td>\n",
       "      <td>0.0</td>\n",
       "      <td>0.000098</td>\n",
       "      <td>5427.0</td>\n",
       "    </tr>\n",
       "    <tr>\n",
       "      <th>29</th>\n",
       "      <td>2</td>\n",
       "      <td>9.600180e-02</td>\n",
       "      <td>113.592003</td>\n",
       "      <td>0.0</td>\n",
       "      <td>0.0</td>\n",
       "      <td>0.0</td>\n",
       "      <td>0.000098</td>\n",
       "      <td>5427.0</td>\n",
       "    </tr>\n",
       "    <tr>\n",
       "      <th>30</th>\n",
       "      <td>2</td>\n",
       "      <td>3.304720e+01</td>\n",
       "      <td>116.121002</td>\n",
       "      <td>0.0</td>\n",
       "      <td>0.0</td>\n",
       "      <td>0.0</td>\n",
       "      <td>0.000098</td>\n",
       "      <td>5427.0</td>\n",
       "    </tr>\n",
       "    <tr>\n",
       "      <th>31</th>\n",
       "      <td>2</td>\n",
       "      <td>6.598160e+01</td>\n",
       "      <td>111.211998</td>\n",
       "      <td>0.0</td>\n",
       "      <td>0.0</td>\n",
       "      <td>0.0</td>\n",
       "      <td>0.000098</td>\n",
       "      <td>5427.0</td>\n",
       "    </tr>\n",
       "    <tr>\n",
       "      <th>32</th>\n",
       "      <td>2</td>\n",
       "      <td>9.897900e+01</td>\n",
       "      <td>117.494003</td>\n",
       "      <td>0.0</td>\n",
       "      <td>0.0</td>\n",
       "      <td>0.0</td>\n",
       "      <td>0.000098</td>\n",
       "      <td>5427.0</td>\n",
       "    </tr>\n",
       "  </tbody>\n",
       "</table>\n",
       "<p>86848 rows × 8 columns</p>\n",
       "</div>"
      ],
      "text/plain": [
       "          type             x           y    z  mux  muy       muz       t\n",
       "frame id                                                                 \n",
       "0     17     2  8.095530e-17    1.322100  0.0  0.0  0.0  0.000000     0.0\n",
       "      18     2  3.300000e+01   31.677900  0.0  0.0  0.0  0.000000     0.0\n",
       "      19     2  6.600000e+01   31.677900  0.0  0.0  0.0  0.000000     0.0\n",
       "      20     2  9.900000e+01    1.322100  0.0  0.0  0.0  0.000000     0.0\n",
       "      21     2  1.939710e-15   64.677902  0.0  0.0  0.0  0.000000     0.0\n",
       "...        ...           ...         ...  ...  ...  ...       ...     ...\n",
       "5427  28     2  9.912050e+01   77.942497  0.0  0.0  0.0  0.000098  5427.0\n",
       "      29     2  9.600180e-02  113.592003  0.0  0.0  0.0  0.000098  5427.0\n",
       "      30     2  3.304720e+01  116.121002  0.0  0.0  0.0  0.000098  5427.0\n",
       "      31     2  6.598160e+01  111.211998  0.0  0.0  0.0  0.000098  5427.0\n",
       "      32     2  9.897900e+01  117.494003  0.0  0.0  0.0  0.000098  5427.0\n",
       "\n",
       "[86848 rows x 8 columns]"
      ]
     },
     "execution_count": 19,
     "metadata": {},
     "output_type": "execute_result"
    }
   ],
   "source": [
    "part2"
   ]
  },
  {
   "cell_type": "code",
   "execution_count": 20,
   "metadata": {},
   "outputs": [
    {
     "data": {
      "text/plain": [
       "3714.2857142857138"
      ]
     },
     "execution_count": 20,
     "metadata": {},
     "output_type": "execute_result"
    }
   ],
   "source": [
    "t[1].magnitude"
   ]
  },
  {
   "cell_type": "code",
   "execution_count": 21,
   "metadata": {},
   "outputs": [],
   "source": [
    "trj_particle = col.trj[col.trj.type<=2]"
   ]
  },
  {
   "cell_type": "code",
   "execution_count": 22,
   "metadata": {},
   "outputs": [
    {
     "data": {
      "image/png": "[encoded data removed]",
      "text/plain": [
       "<Figure size 432x288 with 1 Axes>"
      ]
     },
     "metadata": {
      "needs_background": "light"
     },
     "output_type": "display_data"
    }
   ],
   "source": [
    "for i in trj_particle.index.get_level_values(\"id\").unique():\n",
    "    plt.plot(trj_particle.loc[idx[:,i],\"x\"],trj_particle.loc[idx[:,i],\"y\"])\n",
    "plt.axis(\"square\");"
   ]
  },
  {
   "cell_type": "code",
   "execution_count": 23,
   "metadata": {},
   "outputs": [],
   "source": [
    "v = ice.vertices()\n",
    "v = v.colloids_to_vertices(col)"
   ]
  },
  {
   "cell_type": "code",
   "execution_count": 24,
   "metadata": {},
   "outputs": [
    {
     "data": {
      "text/html": [
       "<div>\n",
       "<style scoped>\n",
       "    .dataframe tbody tr th:only-of-type {\n",
       "        vertical-align: middle;\n",
       "    }\n",
       "\n",
       "    .dataframe tbody tr th {\n",
       "        vertical-align: top;\n",
       "    }\n",
       "\n",
       "    .dataframe thead th {\n",
       "        text-align: right;\n",
       "    }\n",
       "</style>\n",
       "<table border=\"1\" class=\"dataframe\">\n",
       "  <thead>\n",
       "    <tr style=\"text-align: right;\">\n",
       "      <th></th>\n",
       "      <th></th>\n",
       "      <th>type</th>\n",
       "      <th>x</th>\n",
       "      <th>y</th>\n",
       "      <th>z</th>\n",
       "      <th>mux</th>\n",
       "      <th>muy</th>\n",
       "      <th>muz</th>\n",
       "      <th>t</th>\n",
       "    </tr>\n",
       "    <tr>\n",
       "      <th>frame</th>\n",
       "      <th>id</th>\n",
       "      <th></th>\n",
       "      <th></th>\n",
       "      <th></th>\n",
       "      <th></th>\n",
       "      <th></th>\n",
       "      <th></th>\n",
       "      <th></th>\n",
       "      <th></th>\n",
       "    </tr>\n",
       "  </thead>\n",
       "  <tbody>\n",
       "    <tr>\n",
       "      <th rowspan=\"5\" valign=\"top\">0</th>\n",
       "      <th>1</th>\n",
       "      <td>1</td>\n",
       "      <td>5.0</td>\n",
       "      <td>0.0</td>\n",
       "      <td>0.0</td>\n",
       "      <td>0.0</td>\n",
       "      <td>0.0</td>\n",
       "      <td>0.0</td>\n",
       "      <td>0.0</td>\n",
       "    </tr>\n",
       "    <tr>\n",
       "      <th>2</th>\n",
       "      <td>1</td>\n",
       "      <td>61.0</td>\n",
       "      <td>0.0</td>\n",
       "      <td>0.0</td>\n",
       "      <td>0.0</td>\n",
       "      <td>0.0</td>\n",
       "      <td>0.0</td>\n",
       "      <td>0.0</td>\n",
       "    </tr>\n",
       "    <tr>\n",
       "      <th>3</th>\n",
       "      <td>1</td>\n",
       "      <td>71.0</td>\n",
       "      <td>0.0</td>\n",
       "      <td>0.0</td>\n",
       "      <td>0.0</td>\n",
       "      <td>0.0</td>\n",
       "      <td>0.0</td>\n",
       "      <td>0.0</td>\n",
       "    </tr>\n",
       "    <tr>\n",
       "      <th>4</th>\n",
       "      <td>1</td>\n",
       "      <td>127.0</td>\n",
       "      <td>0.0</td>\n",
       "      <td>0.0</td>\n",
       "      <td>0.0</td>\n",
       "      <td>0.0</td>\n",
       "      <td>0.0</td>\n",
       "      <td>0.0</td>\n",
       "    </tr>\n",
       "    <tr>\n",
       "      <th>5</th>\n",
       "      <td>1</td>\n",
       "      <td>28.0</td>\n",
       "      <td>33.0</td>\n",
       "      <td>0.0</td>\n",
       "      <td>0.0</td>\n",
       "      <td>0.0</td>\n",
       "      <td>0.0</td>\n",
       "      <td>0.0</td>\n",
       "    </tr>\n",
       "    <tr>\n",
       "      <th>...</th>\n",
       "      <th>...</th>\n",
       "      <td>...</td>\n",
       "      <td>...</td>\n",
       "      <td>...</td>\n",
       "      <td>...</td>\n",
       "      <td>...</td>\n",
       "      <td>...</td>\n",
       "      <td>...</td>\n",
       "      <td>...</td>\n",
       "    </tr>\n",
       "    <tr>\n",
       "      <th rowspan=\"5\" valign=\"top\">5427</th>\n",
       "      <th>60</th>\n",
       "      <td>4</td>\n",
       "      <td>115.5</td>\n",
       "      <td>66.0</td>\n",
       "      <td>0.0</td>\n",
       "      <td>23.0</td>\n",
       "      <td>0.0</td>\n",
       "      <td>0.0</td>\n",
       "      <td>5427.0</td>\n",
       "    </tr>\n",
       "    <tr>\n",
       "      <th>61</th>\n",
       "      <td>4</td>\n",
       "      <td>16.5</td>\n",
       "      <td>99.0</td>\n",
       "      <td>0.0</td>\n",
       "      <td>-23.0</td>\n",
       "      <td>-0.0</td>\n",
       "      <td>-0.0</td>\n",
       "      <td>5427.0</td>\n",
       "    </tr>\n",
       "    <tr>\n",
       "      <th>62</th>\n",
       "      <td>4</td>\n",
       "      <td>49.5</td>\n",
       "      <td>99.0</td>\n",
       "      <td>0.0</td>\n",
       "      <td>-23.0</td>\n",
       "      <td>-0.0</td>\n",
       "      <td>-0.0</td>\n",
       "      <td>5427.0</td>\n",
       "    </tr>\n",
       "    <tr>\n",
       "      <th>63</th>\n",
       "      <td>4</td>\n",
       "      <td>82.5</td>\n",
       "      <td>99.0</td>\n",
       "      <td>0.0</td>\n",
       "      <td>-23.0</td>\n",
       "      <td>-0.0</td>\n",
       "      <td>-0.0</td>\n",
       "      <td>5427.0</td>\n",
       "    </tr>\n",
       "    <tr>\n",
       "      <th>64</th>\n",
       "      <td>4</td>\n",
       "      <td>115.5</td>\n",
       "      <td>99.0</td>\n",
       "      <td>0.0</td>\n",
       "      <td>-23.0</td>\n",
       "      <td>-0.0</td>\n",
       "      <td>-0.0</td>\n",
       "      <td>5427.0</td>\n",
       "    </tr>\n",
       "  </tbody>\n",
       "</table>\n",
       "<p>347392 rows × 8 columns</p>\n",
       "</div>"
      ],
      "text/plain": [
       "          type      x     y    z   mux  muy  muz       t\n",
       "frame id                                                \n",
       "0     1      1    5.0   0.0  0.0   0.0  0.0  0.0     0.0\n",
       "      2      1   61.0   0.0  0.0   0.0  0.0  0.0     0.0\n",
       "      3      1   71.0   0.0  0.0   0.0  0.0  0.0     0.0\n",
       "      4      1  127.0   0.0  0.0   0.0  0.0  0.0     0.0\n",
       "      5      1   28.0  33.0  0.0   0.0  0.0  0.0     0.0\n",
       "...        ...    ...   ...  ...   ...  ...  ...     ...\n",
       "5427  60     4  115.5  66.0  0.0  23.0  0.0  0.0  5427.0\n",
       "      61     4   16.5  99.0  0.0 -23.0 -0.0 -0.0  5427.0\n",
       "      62     4   49.5  99.0  0.0 -23.0 -0.0 -0.0  5427.0\n",
       "      63     4   82.5  99.0  0.0 -23.0 -0.0 -0.0  5427.0\n",
       "      64     4  115.5  99.0  0.0 -23.0 -0.0 -0.0  5427.0\n",
       "\n",
       "[347392 rows x 8 columns]"
      ]
     },
     "execution_count": 24,
     "metadata": {},
     "output_type": "execute_result"
    }
   ],
   "source": [
    "col.trj"
   ]
  },
  {
   "cell_type": "code",
   "execution_count": 25,
   "metadata": {},
   "outputs": [
    {
     "data": {
      "image/png": "[encoded data removed]",
      "text/plain": [
       "<Figure size 1440x1440 with 6 Axes>"
      ]
     },
     "metadata": {
      "needs_background": "light"
     },
     "output_type": "display_data"
    }
   ],
   "source": [
    "f, axes = plt.subplots(3,2,figsize = (20,20))\n",
    "ax1, ax2, ax3, ax4, ax5,ax6 = axes.flatten()\n",
    "i = 10\n",
    "col.set_state_from_frame(0)\n",
    "v = v.colloids_to_vertices(col)\n",
    "field = 0\n",
    "ax1.set_title(str(field))\n",
    "col.display(ax1)\n",
    "# v.display(ax1)\n",
    "col.set_state_from_frame(1)\n",
    "v = v.colloids_to_vertices(col)\n",
    "field1 =5\n",
    "ax2.set_title(str(field1))\n",
    "col.display(ax2)\n",
    "# v.display(ax2)\n",
    "col.set_state_from_frame(20)\n",
    "v = v.colloids_to_vertices(col)\n",
    "field2 = 10\n",
    "ax3.set_title(str(field2))\n",
    "col.display(ax3)\n",
    "# v.display(ax3)\n",
    "col.set_state_from_frame(42)\n",
    "v = v.colloids_to_vertices(col)\n",
    "field3 = 15\n",
    "ax4.set_title(str(field3))\n",
    "col.display(ax4)\n",
    "# v.display(ax4)\n",
    "col.set_state_from_frame(84)\n",
    "v = v.colloids_to_vertices(col)\n",
    "field4 = 20\n",
    "ax5.set_title(str(field4))\n",
    "col.display(ax5)\n",
    "# v.display(ax5)\n",
    "col.set_state_from_frame(199)\n",
    "v = v.colloids_to_vertices(col)                                \n",
    "field5 = 26\n",
    "ax6.set_title(str(field5))\n",
    "col.display(ax6)\n",
    "# v.display(ax6)"
   ]
  },
  {
   "cell_type": "code",
   "execution_count": 26,
   "metadata": {},
   "outputs": [],
   "source": [
    "os.remove(\"executed_hysteresis_test_l4_exp1.lammpstrj\") \n",
    "os.remove(\"executed_hysteresis_test_l4_exp1.lmpdata\")\n",
    "os.remove(\"executed_hysteresis_test_l4_exp1.lmpin\")\n",
    "os.remove(\"executed_hysteresis_test_l4_exp1.log\")"
   ]
  },
  {
   "cell_type": "markdown",
   "metadata": {},
   "source": [
    "### In which units lammps works? "
   ]
  },
  {
   "cell_type": "code",
   "execution_count": 27,
   "metadata": {},
   "outputs": [],
   "source": [
    "permeability = (4e5*np.pi)*ureg.pN/ureg.A**2 #pN/A^2\n",
    "        \n",
    "        #What is lammps units?\n",
    "        \n",
    "magnitude = 100*ureg.mT\n",
    "H_magnitude = (magnitude.to(ureg.mT)/permeability)*1e9/2.99e8 #mT to lammps units"
   ]
  },
  {
   "cell_type": "code",
   "execution_count": 28,
   "metadata": {},
   "outputs": [
    {
     "data": {
      "text/html": [
       "\\[0.00026614538978577817\\ {ampere}^{2}\\ millitesla/piconewton\\]"
      ],
      "text/latex": [
       "$0.00026614538978577817\\ \\frac{\\mathrm{ampere}^{2} \\cdot \\mathrm{millitesla}}{\\mathrm{piconewton}}$"
      ],
      "text/plain": [
       "0.00026614538978577817 <Unit('ampere ** 2 * millitesla / piconewton')>"
      ]
     },
     "execution_count": 28,
     "metadata": {},
     "output_type": "execute_result"
    }
   ],
   "source": [
    "H_magnitude"
   ]
  },
  {
   "cell_type": "code",
   "execution_count": 29,
   "metadata": {},
   "outputs": [
    {
     "data": {
      "text/plain": [
       "3714.2857142857138"
      ]
     },
     "execution_count": 29,
     "metadata": {},
     "output_type": "execute_result"
    }
   ],
   "source": [
    "130/0.035"
   ]
  },
  {
   "cell_type": "code",
   "execution_count": 30,
   "metadata": {},
   "outputs": [
    {
     "data": {
      "text/plain": [
       "[0,\n",
       " 3714.2857142857138 <Unit('second')>,\n",
       " 4571.428571428571 <Unit('second')>,\n",
       " 5428.5714285714275 <Unit('second')>]"
      ]
     },
     "execution_count": 30,
     "metadata": {},
     "output_type": "execute_result"
    }
   ],
   "source": [
    "t"
   ]
  },
  {
   "cell_type": "code",
   "execution_count": null,
   "metadata": {},
   "outputs": [],
   "source": []
  }
 ],
 "metadata": {
  "kernelspec": {
   "display_name": "Python 3",
   "language": "python",
   "name": "python3"
  },
  "language_info": {
   "codemirror_mode": {
    "name": "ipython",
    "version": 3
   },
   "file_extension": ".py",
   "mimetype": "text/x-python",
   "name": "python",
   "nbconvert_exporter": "python",
   "pygments_lexer": "ipython3",
   "version": "3.7.6"
  }
 },
 "nbformat": 4,
 "nbformat_minor": 4
}
