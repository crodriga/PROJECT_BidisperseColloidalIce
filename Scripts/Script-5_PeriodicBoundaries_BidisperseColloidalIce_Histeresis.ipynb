{
 "cells": [
  {
   "cell_type": "markdown",
   "metadata": {},
   "source": [
    "# Bidisperse Colloidal Ice"
   ]
  },
  {
   "cell_type": "markdown",
   "metadata": {},
   "source": [
    "In this notebook we will simulate a Bidisperse Colloidal Ice. The parameters that we will use are the ones theoretically calculated to obtein a full degenerate Colloidal Spin Ice.\n",
    "\n",
    "    r1 = 1 um\n",
    "    susceptibility1 = 0.5\n",
    "    trap_sep1 = 23 um\n",
    "    \n",
    "and\n",
    "    \n",
    "    r2 = 1 um\n",
    "    susceptibility2 = 0.0675\n",
    "    trap_sep2 = 30.3558 um\n",
    "    \n",
    "    \n",
    "On the other hand the values of the field will be 25 mT and the total time 900 s. "
   ]
  },
  {
   "cell_type": "code",
   "execution_count": 1,
   "metadata": {},
   "outputs": [],
   "source": [
    "import sys\n",
    "import os\n",
    "import shutil\n",
    "sys.path.insert(0, 'icenumerics/')\n",
    "\n",
    "import pandas as pd\n",
    "import numpy as np\n",
    "import scipy.spatial as spa\n",
    "import matplotlib.pyplot as plt\n",
    "import matplotlib as mpl\n",
    "\n",
    "import icenumerics as ice\n",
    "from icenumerics.geometry import ordering \n",
    "import csv as csv\n",
    "import time\n",
    "import string as st\n",
    "from multiprocessing import Pool\n",
    "from string import Template\n",
    "\n",
    "import copy as cp\n",
    "\n",
    "ureg = ice.ureg\n",
    "\n",
    "idx = pd.IndexSlice\n",
    "\n",
    "import tqdm.auto as tqdm\n",
    "\n",
    "%reload_ext autoreload\n",
    "%autoreload 2"
   ]
  },
  {
   "cell_type": "code",
   "execution_count": 2,
   "metadata": {},
   "outputs": [],
   "source": [
    "directory = \"/home/carolina/Output_Sim_Summer_2020\"\n",
    "directory_DataFrame = \"/home/carolina/DataFrames_Summer_2020\""
   ]
  },
  {
   "cell_type": "markdown",
   "metadata": {},
   "source": [
    "# Design of the program for parallel preocesses"
   ]
  },
  {
   "cell_type": "code",
   "execution_count": 3,
   "metadata": {},
   "outputs": [],
   "source": [
    "def do_everything(exp_entry):\n",
    "    e = exp_entry[1].e \n",
    "    l = exp_entry[1].l\n",
    "    \n",
    "    \n",
    "    # <To change the seed of the thermal noise>\n",
    "    \n",
    "    np.random.seed()\n",
    "    \n",
    "    # <Introduce the parameters for the simulation>\n",
    "\n",
    "    lattice_constant = 33*ureg.um\n",
    "    lattic_size = [l,l]\n",
    "    sp = ice.spins()\n",
    "    sp.create_lattice(\"square\",[l,l],lattice_constant=33*ureg.um, border=\"periodic\")\n",
    "    sp.order_spins(ordering.random_ordering)\n",
    "\n",
    "    particle1 = ice.particle(radius = 1*ureg.um,\n",
    "             susceptibility = 0.5,\n",
    "             diffusion = 0.125*ureg.um**2/ureg.s,\n",
    "             temperature = 300*ureg.K,\n",
    "             density = 1000*ureg.kg/ureg.m**3)\n",
    "\n",
    "    trap1 = ice.trap(trap_sep = 23*ureg.um,\n",
    "                   height = 0.5*ureg.pN*ureg.nm,\n",
    "                   stiffness = 6e-4*ureg.pN/ureg.nm)\n",
    "\n",
    "    particle2 = ice.particle(radius = 1*ureg.um,\n",
    "             susceptibility = 0.0675,\n",
    "             diffusion = 0.125*ureg.um**2/ureg.s,\n",
    "             temperature = 300*ureg.K,\n",
    "             density = 1000*ureg.kg/ureg.m**3)\n",
    "\n",
    "    trap2 = ice.trap(trap_sep = 30.3558*ureg.um,\n",
    "                   height = 0.5*ureg.pN*ureg.nm,\n",
    "                   stiffness = 6e-4*ureg.pN/ureg.nm)\n",
    "\n",
    "    # <In this loop we are generating our bidisperse Ice>\n",
    "    \n",
    "    traps = []\n",
    "    particles = []\n",
    "\n",
    "    for s in sp:\n",
    "\n",
    "        if s.direction[1] == 0:\n",
    "            # Horizontal traps\n",
    "            traps.append(trap1) \n",
    "            particles.append(particle1)\n",
    "            pass\n",
    "\n",
    "        else: \n",
    "            # Vertical traps\n",
    "            traps.append(trap2) \n",
    "            particles.append(particle2) \n",
    "\n",
    "\n",
    "    col = ice.colloidal_ice(sp, particles, traps , height_spread = 0.1 , susceptibility_spread = 0)\n",
    "\n",
    "    \n",
    "    # <Make the system periodic>\n",
    "    \n",
    "    col.region[:,:2]=(np.array([np.array([0,0]),lattic_size])-0.1)*lattice_constant\n",
    "    col.region[:,2] = np.array([-.11,.11])*ureg.um\n",
    "    \n",
    "    # <Introduce the simulation parameters>\n",
    "    \n",
    "    world = ice.world(\n",
    "    field = 200*ureg.mT,\n",
    "    temperature = 300*ureg.K,\n",
    "    dipole_cutoff = 200*ureg.um,\n",
    "    boundaries = [\"p\", \"p\", \"p\"])\n",
    "\n",
    "    change_m_time = 5800*ureg.s\n",
    "    total_time = 11600*ureg.s\n",
    "    col.simulation(world,\n",
    "                 name = \"BidisperseColloidalIce_Hysteresis-Loop_l%u_exp%u_\"%(l,e),\n",
    "                 include_timestamp = False,\n",
    "                 targetdir = directory,\n",
    "                 framerate = 1*ureg.Hz,\n",
    "                 timestep = 10*ureg.ms,\n",
    "                 run_time = total_time,\n",
    "                 output = [\"x\",\"y\",\"z\",\"mux\",\"muy\",\"muz\"])\n",
    "    \n",
    "    string_field = \"(time<$Qt)*v_Bmag*time/%f+(time>$Qt)*v_Bmag*$Qt/$Qt-(time>$Qt)*v_Bmag*(time-$Qt)/$Qt\"\n",
    "    field_s = Template(string_field)\n",
    "    field = field_s.substitute(Qt = 5800000000)\n",
    "    col.sim.field.fieldz = field%(change_m_time.to(ureg.us).magnitude)\n",
    "    col.run_simulation()\n",
    "    \n",
    "    # <Load simulation and compute vertices dataframes>\n",
    "    \n",
    "    col.load_simulation(slice(0,None,15))\n",
    "    col.trj()\n",
    "    v = ice.vertices()\n",
    "    frames = col.trj.index.get_level_values(\"frame\").unique()\n",
    "\n",
    "    v_df = []\n",
    "\n",
    "    for f in tqdm.tqdm(frames[::1]):\n",
    "        col.set_state_from_frame(f)\n",
    "        v = v.colloids_to_vertices(col)\n",
    "\n",
    "        v_df.append(v.DataFrame())\n",
    "\n",
    "    v_df = pd.concat(v_df, keys=frames[::1], names = [\"frame\"])\n",
    "    \n",
    "    # <Save the dataframe and create index of the runned simulation>\n",
    "    \n",
    "    v_df.to_csv(os.path.join(directory_DataFrame,\"BidisperseColloidalIce_Hysteresis-Loop_l%u_exp%u\"%(l,e)+\".dat\"), sep='\\t')\n",
    "    \n",
    "    name = os.path.split(col.sim.base_name)[1]\n",
    "    with open(os.path.join(directory,\"index_Bidisperse.dat\"),'a',newline='') as file:\n",
    "        writer = csv.writer(file,delimiter='\\t')\n",
    "        writer.writerow([name, l, e])"
   ]
  },
  {
   "cell_type": "code",
   "execution_count": 4,
   "metadata": {},
   "outputs": [],
   "source": [
    "e =  np.arange(0,1)\n",
    "l =  np.arange(6,7)\n",
    "L, E = np.meshgrid(l,e)\n",
    "experiments = pd.DataFrame({\"e\":E.flatten(),\"l\":L.flatten()})"
   ]
  },
  {
   "cell_type": "code",
   "execution_count": 8,
   "metadata": {},
   "outputs": [
    {
     "data": {
      "text/plain": [
       "<generator object DataFrame.iterrows at 0x7f8626c709d0>"
      ]
     },
     "execution_count": 8,
     "metadata": {},
     "output_type": "execute_result"
    }
   ],
   "source": [
    "experiments.iterrows()"
   ]
  },
  {
   "cell_type": "code",
   "execution_count": 6,
   "metadata": {},
   "outputs": [
    {
     "data": {
      "application/vnd.jupyter.widget-view+json": {
       "model_id": "91a480f20dca4c61be9e3c8be592c83d",
       "version_major": 2,
       "version_minor": 0
      },
      "text/plain": [
       "HBox(children=(FloatProgress(value=0.0, max=1.0), HTML(value='')))"
      ]
     },
     "metadata": {},
     "output_type": "display_data"
    },
    {
     "ename": "TypeError",
     "evalue": "'DataFrame' object is not callable",
     "output_type": "error",
     "traceback": [
      "\u001b[0;31m---------------------------------------------------------------------------\u001b[0m",
      "\u001b[0;31mRemoteTraceback\u001b[0m                           Traceback (most recent call last)",
      "\u001b[0;31mRemoteTraceback\u001b[0m: \n\"\"\"\nTraceback (most recent call last):\n  File \"/home/carolina/anaconda3/lib/python3.7/multiprocessing/pool.py\", line 121, in worker\n    result = (True, func(*args, **kwds))\n  File \"<ipython-input-3-f900e385acea>\", line 93, in do_everything\n    col.trj()\nTypeError: 'DataFrame' object is not callable\n\"\"\"",
      "\nThe above exception was the direct cause of the following exception:\n",
      "\u001b[0;31mTypeError\u001b[0m                                 Traceback (most recent call last)",
      "\u001b[0;32m<ipython-input-6-a084f70a8c3f>\u001b[0m in \u001b[0;36m<module>\u001b[0;34m\u001b[0m\n\u001b[1;32m     11\u001b[0m         \u001b[0mwriter\u001b[0m\u001b[0;34m.\u001b[0m\u001b[0mwriterow\u001b[0m\u001b[0;34m(\u001b[0m\u001b[0;34m[\u001b[0m\u001b[0;34m\"filename\"\u001b[0m\u001b[0;34m,\u001b[0m \u001b[0;34m\"l\"\u001b[0m\u001b[0;34m,\u001b[0m \u001b[0;34m\"exp\"\u001b[0m\u001b[0;34m]\u001b[0m\u001b[0;34m)\u001b[0m\u001b[0;34m\u001b[0m\u001b[0;34m\u001b[0m\u001b[0m\n\u001b[1;32m     12\u001b[0m \u001b[0;34m\u001b[0m\u001b[0m\n\u001b[0;32m---> 13\u001b[0;31m     \u001b[0mlist\u001b[0m\u001b[0;34m(\u001b[0m\u001b[0mtqdm\u001b[0m\u001b[0;34m.\u001b[0m\u001b[0mtqdm\u001b[0m\u001b[0;34m(\u001b[0m\u001b[0mp\u001b[0m\u001b[0;34m.\u001b[0m\u001b[0mimap\u001b[0m\u001b[0;34m(\u001b[0m\u001b[0mdo_everything\u001b[0m\u001b[0;34m,\u001b[0m \u001b[0mexperiments\u001b[0m\u001b[0;34m.\u001b[0m\u001b[0miterrows\u001b[0m\u001b[0;34m(\u001b[0m\u001b[0;34m)\u001b[0m\u001b[0;34m)\u001b[0m\u001b[0;34m,\u001b[0m \u001b[0mtotal\u001b[0m\u001b[0;34m=\u001b[0m\u001b[0mlen\u001b[0m\u001b[0;34m(\u001b[0m\u001b[0mexperiments\u001b[0m\u001b[0;34m)\u001b[0m\u001b[0;34m)\u001b[0m\u001b[0;34m)\u001b[0m\u001b[0;34m\u001b[0m\u001b[0;34m\u001b[0m\u001b[0m\n\u001b[0m",
      "\u001b[0;32m~/anaconda3/lib/python3.7/site-packages/tqdm/notebook.py\u001b[0m in \u001b[0;36m__iter__\u001b[0;34m(self, *args, **kwargs)\u001b[0m\n\u001b[1;32m    215\u001b[0m     \u001b[0;32mdef\u001b[0m \u001b[0m__iter__\u001b[0m\u001b[0;34m(\u001b[0m\u001b[0mself\u001b[0m\u001b[0;34m,\u001b[0m \u001b[0;34m*\u001b[0m\u001b[0margs\u001b[0m\u001b[0;34m,\u001b[0m \u001b[0;34m**\u001b[0m\u001b[0mkwargs\u001b[0m\u001b[0;34m)\u001b[0m\u001b[0;34m:\u001b[0m\u001b[0;34m\u001b[0m\u001b[0;34m\u001b[0m\u001b[0m\n\u001b[1;32m    216\u001b[0m         \u001b[0;32mtry\u001b[0m\u001b[0;34m:\u001b[0m\u001b[0;34m\u001b[0m\u001b[0;34m\u001b[0m\u001b[0m\n\u001b[0;32m--> 217\u001b[0;31m             \u001b[0;32mfor\u001b[0m \u001b[0mobj\u001b[0m \u001b[0;32min\u001b[0m \u001b[0msuper\u001b[0m\u001b[0;34m(\u001b[0m\u001b[0mtqdm_notebook\u001b[0m\u001b[0;34m,\u001b[0m \u001b[0mself\u001b[0m\u001b[0;34m)\u001b[0m\u001b[0;34m.\u001b[0m\u001b[0m__iter__\u001b[0m\u001b[0;34m(\u001b[0m\u001b[0;34m*\u001b[0m\u001b[0margs\u001b[0m\u001b[0;34m,\u001b[0m \u001b[0;34m**\u001b[0m\u001b[0mkwargs\u001b[0m\u001b[0;34m)\u001b[0m\u001b[0;34m:\u001b[0m\u001b[0;34m\u001b[0m\u001b[0;34m\u001b[0m\u001b[0m\n\u001b[0m\u001b[1;32m    218\u001b[0m                 \u001b[0;31m# return super(tqdm...) will not catch exception\u001b[0m\u001b[0;34m\u001b[0m\u001b[0;34m\u001b[0m\u001b[0;34m\u001b[0m\u001b[0m\n\u001b[1;32m    219\u001b[0m                 \u001b[0;32myield\u001b[0m \u001b[0mobj\u001b[0m\u001b[0;34m\u001b[0m\u001b[0;34m\u001b[0m\u001b[0m\n",
      "\u001b[0;32m~/anaconda3/lib/python3.7/site-packages/tqdm/std.py\u001b[0m in \u001b[0;36m__iter__\u001b[0;34m(self)\u001b[0m\n\u001b[1;32m   1105\u001b[0m                 fp_write=getattr(self.fp, 'write', sys.stderr.write))\n\u001b[1;32m   1106\u001b[0m \u001b[0;34m\u001b[0m\u001b[0m\n\u001b[0;32m-> 1107\u001b[0;31m         \u001b[0;32mfor\u001b[0m \u001b[0mobj\u001b[0m \u001b[0;32min\u001b[0m \u001b[0miterable\u001b[0m\u001b[0;34m:\u001b[0m\u001b[0;34m\u001b[0m\u001b[0;34m\u001b[0m\u001b[0m\n\u001b[0m\u001b[1;32m   1108\u001b[0m             \u001b[0;32myield\u001b[0m \u001b[0mobj\u001b[0m\u001b[0;34m\u001b[0m\u001b[0;34m\u001b[0m\u001b[0m\n\u001b[1;32m   1109\u001b[0m             \u001b[0;31m# Update and possibly print the progressbar.\u001b[0m\u001b[0;34m\u001b[0m\u001b[0;34m\u001b[0m\u001b[0;34m\u001b[0m\u001b[0m\n",
      "\u001b[0;32m~/anaconda3/lib/python3.7/multiprocessing/pool.py\u001b[0m in \u001b[0;36mnext\u001b[0;34m(self, timeout)\u001b[0m\n\u001b[1;32m    746\u001b[0m         \u001b[0;32mif\u001b[0m \u001b[0msuccess\u001b[0m\u001b[0;34m:\u001b[0m\u001b[0;34m\u001b[0m\u001b[0;34m\u001b[0m\u001b[0m\n\u001b[1;32m    747\u001b[0m             \u001b[0;32mreturn\u001b[0m \u001b[0mvalue\u001b[0m\u001b[0;34m\u001b[0m\u001b[0;34m\u001b[0m\u001b[0m\n\u001b[0;32m--> 748\u001b[0;31m         \u001b[0;32mraise\u001b[0m \u001b[0mvalue\u001b[0m\u001b[0;34m\u001b[0m\u001b[0;34m\u001b[0m\u001b[0m\n\u001b[0m\u001b[1;32m    749\u001b[0m \u001b[0;34m\u001b[0m\u001b[0m\n\u001b[1;32m    750\u001b[0m     \u001b[0m__next__\u001b[0m \u001b[0;34m=\u001b[0m \u001b[0mnext\u001b[0m                    \u001b[0;31m# XXX\u001b[0m\u001b[0;34m\u001b[0m\u001b[0;34m\u001b[0m\u001b[0m\n",
      "\u001b[0;31mTypeError\u001b[0m: 'DataFrame' object is not callable"
     ]
    }
   ],
   "source": [
    "# %%time\n",
    "if __name__ ==  '__main__': \n",
    "    num_processors = 6\n",
    "    p=Pool(processes = num_processors)\n",
    "    \n",
    "    ## Create index text file\n",
    "    if not os.path.exists(directory):\n",
    "        os.makedirs(directory)\n",
    "    with open(os.path.join(directory,\"index_Bidisperse.dat\"),'w',newline='') as file:\n",
    "        writer = csv.writer(file,delimiter='\\t')\n",
    "        writer.writerow([\"filename\", \"l\", \"exp\"])\n",
    "        \n",
    "    list(tqdm.tqdm(p.imap(do_everything, experiments.iterrows()), total=len(experiments)))"
   ]
  },
  {
   "cell_type": "code",
   "execution_count": null,
   "metadata": {},
   "outputs": [],
   "source": []
  }
 ],
 "metadata": {
  "kernelspec": {
   "display_name": "Python 3",
   "language": "python",
   "name": "python3"
  },
  "language_info": {
   "codemirror_mode": {
    "name": "ipython",
    "version": 3
   },
   "file_extension": ".py",
   "mimetype": "text/x-python",
   "name": "python",
   "nbconvert_exporter": "python",
   "pygments_lexer": "ipython3",
   "version": "3.7.6"
  }
 },
 "nbformat": 4,
 "nbformat_minor": 4
}
