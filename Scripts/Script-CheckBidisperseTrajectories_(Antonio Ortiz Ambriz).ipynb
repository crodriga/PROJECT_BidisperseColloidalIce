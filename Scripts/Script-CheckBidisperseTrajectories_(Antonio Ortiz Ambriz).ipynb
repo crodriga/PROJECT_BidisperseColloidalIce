{
 "cells": [
  {
   "cell_type": "markdown",
   "metadata": {},
   "source": [
    "# Check problems with Bidisperse Ice\n",
    "\n",
    "The problem with the current bidisperse ice is that it nearly exactly replicates the results of the not bidisperse ice. This is very strange and I (Antonio) suspect something is wrong. \n",
    "\n",
    "To see if there is something wrong we will start with the trajectory."
   ]
  },
  {
   "cell_type": "code",
   "execution_count": 1,
   "metadata": {},
   "outputs": [],
   "source": [
    "import sys\n",
    "import os\n",
    "import shutil\n",
    "sys.path.insert(0, 'icenumerics/')\n",
    "\n",
    "import pandas as pd\n",
    "import numpy as np\n",
    "import scipy.spatial as spa\n",
    "import matplotlib.pyplot as plt\n",
    "import matplotlib as mpl\n",
    "\n",
    "import icenumerics as ice\n",
    "import magcolloids as mgc\n",
    "\n",
    "from icenumerics.geometry import ordering \n",
    "import csv as csv\n",
    "import time\n",
    "import string as st\n",
    "from multiprocessing import Pool\n",
    "\n",
    "import copy as cp\n",
    "\n",
    "ureg = ice.ureg\n",
    "\n",
    "idx = pd.IndexSlice\n",
    "\n",
    "import tqdm.auto as tqdm\n",
    "\n",
    "%reload_ext autoreload\n",
    "%autoreload 2"
   ]
  },
  {
   "cell_type": "code",
   "execution_count": 2,
   "metadata": {},
   "outputs": [],
   "source": [
    "mpl.rc('text', usetex=True)\n",
    "mpl.rcParams['figure.dpi'] = 150"
   ]
  },
  {
   "cell_type": "code",
   "execution_count": 3,
   "metadata": {},
   "outputs": [],
   "source": [
    "directory = \".\""
   ]
  },
  {
   "cell_type": "markdown",
   "metadata": {},
   "source": [
    "### Bidisperse\n",
    "\n",
    "First we load Bidisperse ice and plot the trajectories "
   ]
  },
  {
   "cell_type": "code",
   "execution_count": 4,
   "metadata": {},
   "outputs": [],
   "source": [
    "index_bi = pd.read_csv(os.path.join(directory, \"index_Bidisperse.dat\"), sep = \"\\t\")"
   ]
  },
  {
   "cell_type": "code",
   "execution_count": 5,
   "metadata": {},
   "outputs": [
    {
     "data": {
      "text/plain": [
       "filename    BidisperseColloidalIce_l22_exp3\n",
       "l                                        22\n",
       "exp                                       3\n",
       "Name: 0, dtype: object"
      ]
     },
     "execution_count": 5,
     "metadata": {},
     "output_type": "execute_result"
    }
   ],
   "source": [
    "entry = index_bi.iloc[0]\n",
    "entry"
   ]
  },
  {
   "cell_type": "code",
   "execution_count": 6,
   "metadata": {},
   "outputs": [],
   "source": [
    "lzrd = mgc.trj_lazyread(os.path.join(directory, entry.filename+ \".lammpstrj\"),\n",
    "                 output = [\"x\",\"y\",\"z\", \"mux\", \"muy\", \"muz\"])"
   ]
  },
  {
   "cell_type": "code",
   "execution_count": 7,
   "metadata": {},
   "outputs": [
    {
     "name": "stdout",
     "output_type": "stream",
     "text": [
      "CPU times: user 1.12 s, sys: 20.9 ms, total: 1.14 s\n",
      "Wall time: 1.14 s\n"
     ]
    }
   ],
   "source": [
    "%%time \n",
    "\n",
    "trj = lzrd[::10]\n",
    "\n",
    "bnd = lzrd.get_bounds(sl = slice(0,-1,10))"
   ]
  },
  {
   "cell_type": "code",
   "execution_count": 8,
   "metadata": {},
   "outputs": [
    {
     "data": {
      "text/plain": [
       "array([1, 2])"
      ]
     },
     "execution_count": 8,
     "metadata": {},
     "output_type": "execute_result"
    }
   ],
   "source": [
    "trj.type.unique()"
   ]
  },
  {
   "cell_type": "markdown",
   "metadata": {},
   "source": [
    "This is already a little strange. "
   ]
  },
  {
   "cell_type": "code",
   "execution_count": 9,
   "metadata": {},
   "outputs": [],
   "source": [
    "ice_trj = ice.get_ice_trj(trj, bnd)"
   ]
  },
  {
   "cell_type": "markdown",
   "metadata": {},
   "source": [
    "### Are traps really different?"
   ]
  },
  {
   "cell_type": "code",
   "execution_count": 10,
   "metadata": {},
   "outputs": [
    {
     "data": {
      "text/plain": [
       "(300, 400)"
      ]
     },
     "execution_count": 10,
     "metadata": {},
     "output_type": "execute_result"
    },
    {
     "data": {
      "image/png": "[encoded data removed]",
      "text/plain": [
       "<Figure size 450x450 with 1 Axes>"
      ]
     },
     "metadata": {
      "needs_background": "light"
     },
     "output_type": "display_data"
    }
   ],
   "source": [
    "plt.figure(figsize=(3,3))\n",
    "\n",
    "for i, trap_i in ice_trj.loc[0].groupby(\"id\"):\n",
    "    \n",
    "    plt.plot([trap_i.x.values-trap_i.dx.values/2,\n",
    "              trap_i.x.values+trap_i.dx.values/2],\n",
    "             [trap_i.y.values-trap_i.dy.values/2,\n",
    "              trap_i.y.values+trap_i.dy.values/2],\n",
    "             color = \"cyan\", linewidth = 5)\n",
    "    \n",
    "    \n",
    "for i, trj_i in ice_trj.groupby(\"id\"):\n",
    "        \n",
    "    plt.plot(trj_i.x+trj_i.cx, trj_i.y+trj_i.cy, \"k\", linewidth = 1)\n",
    "    \n",
    "plt.axis(\"square\")\n",
    "\n",
    "plt.xlim(300,400)\n",
    "plt.ylim(300,400)"
   ]
  },
  {
   "cell_type": "markdown",
   "metadata": {},
   "source": [
    "### Are particles really different?"
   ]
  },
  {
   "cell_type": "code",
   "execution_count": 11,
   "metadata": {},
   "outputs": [
    {
     "data": {
      "text/plain": [
       "Text(0, 0.5, '$m_z$')"
      ]
     },
     "execution_count": 11,
     "metadata": {},
     "output_type": "execute_result"
    },
    {
     "data": {
      "image/png": "[encoded data removed]",
      "text/plain": [
       "<Figure size 450x450 with 1 Axes>"
      ]
     },
     "metadata": {
      "needs_background": "light"
     },
     "output_type": "display_data"
    }
   ],
   "source": [
    "plt.figure(figsize=(3,3))\n",
    "\n",
    "for i, trj_i in trj.query(\"type==1\").groupby(\"id\"):\n",
    "    plt.plot(trj_i.index.get_level_values(\"frame\"),\n",
    "            trj_i.muz, color = \"k\")\n",
    "    \n",
    "plt.xlabel(\"time [frames]\")\n",
    "plt.ylabel(r\"$m_z$\")"
   ]
  },
  {
   "cell_type": "markdown",
   "metadata": {},
   "source": [
    "In conclussion, bidisperse systems are not bidisperse. "
   ]
  },
  {
   "cell_type": "markdown",
   "metadata": {},
   "source": [
    "### Monodisperse\n",
    "\n",
    "Now we load Monodisperse ice to be sure"
   ]
  },
  {
   "cell_type": "code",
   "execution_count": 12,
   "metadata": {},
   "outputs": [],
   "source": [
    "index_mn = pd.read_csv(os.path.join(directory, \"index_Monodisperse.dat\"), sep = \"\\t\")"
   ]
  },
  {
   "cell_type": "code",
   "execution_count": 13,
   "metadata": {},
   "outputs": [
    {
     "data": {
      "text/plain": [
       "filename    MonodisperseColloidalIce_l22_exp3\n",
       "l                                          22\n",
       "exp                                         3\n",
       "Name: 0, dtype: object"
      ]
     },
     "execution_count": 13,
     "metadata": {},
     "output_type": "execute_result"
    }
   ],
   "source": [
    "entry = index_mn.iloc[0]\n",
    "entry"
   ]
  },
  {
   "cell_type": "code",
   "execution_count": 14,
   "metadata": {},
   "outputs": [],
   "source": [
    "lzrd = mgc.trj_lazyread(os.path.join(directory, entry.filename+ \".lammpstrj\"),\n",
    "                 output = [\"x\",\"y\",\"z\", \"mux\", \"muy\", \"muz\"])"
   ]
  },
  {
   "cell_type": "code",
   "execution_count": 15,
   "metadata": {},
   "outputs": [
    {
     "name": "stdout",
     "output_type": "stream",
     "text": [
      "CPU times: user 1.12 s, sys: 11.8 ms, total: 1.14 s\n",
      "Wall time: 1.13 s\n"
     ]
    }
   ],
   "source": [
    "%%time \n",
    "\n",
    "trj = lzrd[::10]\n",
    "\n",
    "bnd = lzrd.get_bounds(sl = slice(0,-1,10))"
   ]
  },
  {
   "cell_type": "code",
   "execution_count": 16,
   "metadata": {},
   "outputs": [
    {
     "data": {
      "text/plain": [
       "array([1, 2])"
      ]
     },
     "execution_count": 16,
     "metadata": {},
     "output_type": "execute_result"
    }
   ],
   "source": [
    "trj.type.unique()"
   ]
  },
  {
   "cell_type": "markdown",
   "metadata": {},
   "source": [
    "Likely they are also monodisperse"
   ]
  },
  {
   "cell_type": "code",
   "execution_count": 17,
   "metadata": {},
   "outputs": [],
   "source": [
    "ice_trj = ice.get_ice_trj(trj, bnd)"
   ]
  },
  {
   "cell_type": "markdown",
   "metadata": {},
   "source": [
    "### Are traps really different?"
   ]
  },
  {
   "cell_type": "code",
   "execution_count": 18,
   "metadata": {},
   "outputs": [
    {
     "data": {
      "text/plain": [
       "(300, 400)"
      ]
     },
     "execution_count": 18,
     "metadata": {},
     "output_type": "execute_result"
    },
    {
     "data": {
      "image/png": "[encoded data removed]",
      "text/plain": [
       "<Figure size 450x450 with 1 Axes>"
      ]
     },
     "metadata": {
      "needs_background": "light"
     },
     "output_type": "display_data"
    }
   ],
   "source": [
    "plt.figure(figsize=(3,3))\n",
    "\n",
    "for i, trap_i in ice_trj.loc[0].groupby(\"id\"):\n",
    "    \n",
    "    plt.plot([trap_i.x.values-trap_i.dx.values/2,\n",
    "              trap_i.x.values+trap_i.dx.values/2],\n",
    "             [trap_i.y.values-trap_i.dy.values/2,\n",
    "              trap_i.y.values+trap_i.dy.values/2],\n",
    "             color = \"cyan\", linewidth = 5)\n",
    "    \n",
    "    \n",
    "for i, trj_i in ice_trj.groupby(\"id\"):\n",
    "        \n",
    "    plt.plot(trj_i.x+trj_i.cx, trj_i.y+trj_i.cy, \"k\", linewidth = 1)\n",
    "    \n",
    "plt.axis(\"square\")\n",
    "\n",
    "plt.xlim(300,400)\n",
    "plt.ylim(300,400)"
   ]
  },
  {
   "cell_type": "markdown",
   "metadata": {},
   "source": [
    "Traps look monodisperse as before, but now trajectories are within the region defined by the trap"
   ]
  },
  {
   "cell_type": "markdown",
   "metadata": {},
   "source": [
    "### Are particles different?"
   ]
  },
  {
   "cell_type": "code",
   "execution_count": 19,
   "metadata": {},
   "outputs": [
    {
     "data": {
      "text/plain": [
       "Text(0, 0.5, '$m_z$')"
      ]
     },
     "execution_count": 19,
     "metadata": {},
     "output_type": "execute_result"
    },
    {
     "data": {
      "image/png": "[encoded data removed]",
      "text/plain": [
       "<Figure size 450x450 with 1 Axes>"
      ]
     },
     "metadata": {
      "needs_background": "light"
     },
     "output_type": "display_data"
    }
   ],
   "source": [
    "plt.figure(figsize=(3,3))\n",
    "\n",
    "for i, trj_i in trj.query(\"type==1\").groupby(\"id\"):\n",
    "    plt.plot(trj_i.index.get_level_values(\"frame\"),\n",
    "            trj_i.muz, color = \"k\")\n",
    "    \n",
    "plt.xlabel(\"time [frames]\")\n",
    "plt.ylabel(r\"$m_z$\")"
   ]
  },
  {
   "cell_type": "markdown",
   "metadata": {},
   "source": [
    "In conclussion, Monodisperse systems are monodisperse. "
   ]
  },
  {
   "cell_type": "code",
   "execution_count": null,
   "metadata": {},
   "outputs": [],
   "source": []
  }
 ],
 "metadata": {
  "kernelspec": {
   "display_name": "Python 3",
   "language": "python",
   "name": "python3"
  },
  "language_info": {
   "codemirror_mode": {
    "name": "ipython",
    "version": 3
   },
   "file_extension": ".py",
   "mimetype": "text/x-python",
   "name": "python",
   "nbconvert_exporter": "python",
   "pygments_lexer": "ipython3",
   "version": "3.7.6"
  }
 },
 "nbformat": 4,
 "nbformat_minor": 4
}
